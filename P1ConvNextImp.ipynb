{
 "cells": [
  {
   "cell_type": "markdown",
   "id": "1d2ee9d9",
   "metadata": {},
   "source": [
    "# Implementation of ConvNeXt: A ConvNet for the 2020s\n",
    "\n",
    "This notebook implements the ConvNeXt architecture as described in the paper \"A ConvNet for the 2020s\" by Liu et al. ConvNeXt is a pure convolutional neural network architecture designed to match or exceed the performance of Vision Transformers while maintaining the simplicity and efficiency of traditional ConvNets.\n",
    "\n",
    "## Table of Contents\n",
    "\n",
    "1. [Introduction]\n",
    "2. [Setup and Imports]\n",
    "3. [Architecture Implementation]\n",
    "4. [Dataset Preparation]\n",
    "5. [Training Setup]\n",
    "6. [Model Training]\n",
    "7. [Model Evaluation]\n",
    "8. [Performance Analysis]\n",
    "9. [Conclusion and Next Steps]\n",
    "\n",
    "## 1. Introduction\n",
    "\n",
    "The paper \"A ConvNet for the 2020s\" explores the design space of convolutional neural networks by gradually \"modernizing\" a standard ResNet toward the design of a vision Transformer. The authors discover several key components that contribute to the performance difference along the way, resulting in the ConvNeXt architecture.\n",
    "\n",
    "Key innovations of ConvNeXt include:\n",
    "\n",
    "- Replacing the traditional stem with a \"patchify\" layer (4×4 non-overlapping convolution)\n",
    "- Using depthwise convolutions with larger kernel sizes (7×7)\n",
    "- Adopting an inverted bottleneck design\n",
    "- Reducing the number of activation functions and normalization layers\n",
    "- Substituting BatchNorm with LayerNorm\n",
    "- Adding separate downsampling layers between stages\n",
    "\n",
    "These modifications allow ConvNeXt to achieve performance comparable to or better than Swin Transformers across various vision tasks while maintaining the simplicity of standard ConvNets.\n",
    "\n",
    "## 2. Setup and Imports\n",
    "\n",
    "Let's start by installing and importing the necessary packages:"
   ]
  },
  {
   "cell_type": "code",
   "execution_count": 52,
   "id": "439908be",
   "metadata": {},
   "outputs": [],
   "source": [
    "# Install packages (if needed)\n",
    "# !pip install torch torchvision timm matplotlib numpy pandas seaborn tqdm ipywidgets"
   ]
  },
  {
   "cell_type": "code",
   "execution_count": 53,
   "id": "3d8ff6f4",
   "metadata": {},
   "outputs": [
    {
     "name": "stdout",
     "output_type": "stream",
     "text": [
      "Using device: cuda\n"
     ]
    }
   ],
   "source": [
    "import os\n",
    "import math\n",
    "import time\n",
    "import numpy as np\n",
    "import matplotlib.pyplot as plt\n",
    "import torch\n",
    "import torch.nn as nn\n",
    "import torch.nn.functional as F\n",
    "from torch.utils.data import DataLoader\n",
    "from torchvision import datasets, transforms\n",
    "from timm.models.layers import trunc_normal_, DropPath\n",
    "from timm.data.transforms import RandomResizedCropAndInterpolation\n",
    "from timm.data.mixup import Mixup\n",
    "from timm.loss import LabelSmoothingCrossEntropy, SoftTargetCrossEntropy\n",
    "from tqdm.notebook import tqdm\n",
    "\n",
    "# Set random seed for reproducibility\n",
    "torch.manual_seed(42)\n",
    "np.random.seed(42)\n",
    "\n",
    "# Check if CUDA is available\n",
    "device = torch.device('cuda' if torch.cuda.is_available() else 'cpu')\n",
    "print(f\"Using device: {device}\")"
   ]
  },
  {
   "cell_type": "markdown",
   "id": "16fa4612",
   "metadata": {},
   "source": [
    "## 3. Architecture Implementation\n",
    "\n",
    "Now, let's implement the core components of the ConvNeXt architecture:\n",
    "\n",
    "### 3.1 LayerNorm Implementation\n",
    "\n",
    "The ConvNeXt architecture uses LayerNorm instead of BatchNorm, with support for both channels_last and channels_first formats:"
   ]
  },
  {
   "cell_type": "code",
   "execution_count": 54,
   "id": "38078081",
   "metadata": {},
   "outputs": [],
   "source": [
    "class LayerNorm(nn.Module):\n",
    "    \"\"\"\n",
    "    LayerNorm that supports two data formats: channels_last (default) or channels_first.\n",
    "    channels_last = (batch_size, height, width, channels)\n",
    "    channels_first = (batch_size, channels, height, width)\n",
    "    \"\"\"\n",
    "    def __init__(self, normalized_shape, eps=1e-6, data_format=\"channels_last\"):\n",
    "        super().__init__()\n",
    "        self.weight = nn.Parameter(torch.ones(normalized_shape))\n",
    "        self.bias = nn.Parameter(torch.zeros(normalized_shape))\n",
    "        self.eps = eps\n",
    "        self.data_format = data_format\n",
    "        if self.data_format not in [\"channels_last\", \"channels_first\"]:\n",
    "            raise NotImplementedError\n",
    "        self.normalized_shape = (normalized_shape, )\n",
    "    \n",
    "    def forward(self, x):\n",
    "        if self.data_format == \"channels_last\":\n",
    "            return F.layer_norm(x, self.normalized_shape, self.weight, self.bias, self.eps)\n",
    "        elif self.data_format == \"channels_first\":\n",
    "            u = x.mean(1, keepdim=True)\n",
    "            s = (x - u).pow(2).mean(1, keepdim=True)\n",
    "            x = (x - u) / torch.sqrt(s + self.eps)\n",
    "            x = self.weight[:, None, None] * x + self.bias[:, None, None]\n",
    "            return x"
   ]
  },
  {
   "cell_type": "markdown",
   "id": "93caaecf",
   "metadata": {},
   "source": [
    "### 3.2 ConvNeXt Block Implementation\n",
    "\n",
    "The ConvNeXt Block is the fundamental building block of the architecture:"
   ]
  },
  {
   "cell_type": "code",
   "execution_count": 55,
   "id": "13563f18",
   "metadata": {},
   "outputs": [],
   "source": [
    "class Block(nn.Module):\n",
    "    \"\"\"\n",
    "    ConvNeXt Block. There are two equivalent implementations:\n",
    "    (1) DwConv -> LayerNorm (channels_first) -> 1x1 Conv -> GELU -> 1x1 Conv; all in (N, C, H, W)\n",
    "    (2) DwConv -> Permute to (N, H, W, C); LayerNorm (channels_last) -> Linear -> GELU -> Linear; Permute back\n",
    "    \n",
    "    We use (2) as it's slightly faster in PyTorch.\n",
    "    \"\"\"\n",
    "    def __init__(self, dim, drop_path=0., layer_scale_init_value=1e-6):\n",
    "        super().__init__()\n",
    "        self.dwconv = nn.Conv2d(dim, dim, kernel_size=7, padding=3, groups=dim)  # depthwise conv\n",
    "        self.norm = LayerNorm(dim, eps=1e-6)\n",
    "        self.pwconv1 = nn.Linear(dim, 4 * dim)  # pointwise/1x1 convs, implemented with linear layers\n",
    "        self.act = nn.GELU()\n",
    "        self.pwconv2 = nn.Linear(4 * dim, dim)\n",
    "        self.gamma = nn.Parameter(layer_scale_init_value * torch.ones((dim)), \n",
    "                                requires_grad=True) if layer_scale_init_value > 0 else None\n",
    "        self.drop_path = DropPath(drop_path) if drop_path > 0. else nn.Identity()\n",
    "\n",
    "    def forward(self, x):\n",
    "        input = x\n",
    "        x = self.dwconv(x)\n",
    "        x = x.permute(0, 2, 3, 1)  # (N, C, H, W) -> (N, H, W, C)\n",
    "        x = self.norm(x)\n",
    "        x = self.pwconv1(x)\n",
    "        x = self.act(x)\n",
    "        x = self.pwconv2(x)\n",
    "        if self.gamma is not None:\n",
    "            x = self.gamma * x\n",
    "        x = x.permute(0, 3, 1, 2)  # (N, H, W, C) -> (N, C, H, W)\n",
    "\n",
    "        x = input + self.drop_path(x)\n",
    "        return x"
   ]
  },
  {
   "cell_type": "markdown",
   "id": "65bc93da",
   "metadata": {},
   "source": [
    "### 3.3 ConvNeXt Architecture Implementation\n",
    "\n",
    "Now, let's implement the complete ConvNeXt architecture:"
   ]
  },
  {
   "cell_type": "code",
   "execution_count": 56,
   "id": "60b82f23",
   "metadata": {},
   "outputs": [],
   "source": [
    "class ConvNeXt(nn.Module):\n",
    "    \"\"\"\n",
    "    ConvNeXt\n",
    "    A PyTorch implementation of: \"A ConvNet for the 2020s\" - https://arxiv.org/pdf/2201.03545.pdf\n",
    "    \"\"\"\n",
    "    def __init__(self, in_chans=3, num_classes=1000, \n",
    "                 depths=[3, 3, 9, 3], dims=[96, 192, 384, 768], drop_path_rate=0., \n",
    "                 layer_scale_init_value=1e-6, head_init_scale=1.):\n",
    "        super().__init__()\n",
    "\n",
    "        # Stem layer - \"patchify\" the image\n",
    "        self.downsample_layers = nn.ModuleList()\n",
    "        stem = nn.Sequential(\n",
    "            nn.Conv2d(in_chans, dims[0], kernel_size=4, stride=4),\n",
    "            LayerNorm(dims[0], eps=1e-6, data_format=\"channels_first\")\n",
    "        )\n",
    "        self.downsample_layers.append(stem)\n",
    "        \n",
    "        # Downsampling layers between stages\n",
    "        for i in range(3):\n",
    "            downsample_layer = nn.Sequential(\n",
    "                    LayerNorm(dims[i], eps=1e-6, data_format=\"channels_first\"),\n",
    "                    nn.Conv2d(dims[i], dims[i+1], kernel_size=2, stride=2),\n",
    "            )\n",
    "            self.downsample_layers.append(downsample_layer)\n",
    "\n",
    "        # Four stages, each with multiple ConvNeXt blocks\n",
    "        self.stages = nn.ModuleList()\n",
    "        dp_rates = [x.item() for x in torch.linspace(0, drop_path_rate, sum(depths))] \n",
    "        cur = 0\n",
    "        for i in range(4):\n",
    "            stage = nn.Sequential(\n",
    "                *[Block(dim=dims[i], drop_path=dp_rates[cur + j], \n",
    "                layer_scale_init_value=layer_scale_init_value) for j in range(depths[i])]\n",
    "            )\n",
    "            self.stages.append(stage)\n",
    "            cur += depths[i]\n",
    "\n",
    "        # Final norm layer, pooling and classifier\n",
    "        self.norm = nn.LayerNorm(dims[-1], eps=1e-6)  # final norm layer\n",
    "        self.head = nn.Linear(dims[-1], num_classes)\n",
    "\n",
    "        # Initialize weights\n",
    "        self.apply(self._init_weights)\n",
    "        self.head.weight.data.mul_(head_init_scale)\n",
    "        self.head.bias.data.mul_(head_init_scale)\n",
    "\n",
    "    def _init_weights(self, m):\n",
    "        if isinstance(m, (nn.Conv2d, nn.Linear)):\n",
    "            trunc_normal_(m.weight, std=.02)\n",
    "            nn.init.constant_(m.bias, 0)\n",
    "\n",
    "    def forward_features(self, x):\n",
    "        for i in range(4):\n",
    "            x = self.downsample_layers[i](x)\n",
    "            x = self.stages[i](x)\n",
    "        return self.norm(x.mean([-2, -1]))  # global average pooling, (N, C, H, W) -> (N, C)\n",
    "\n",
    "    def forward(self, x):\n",
    "        x = self.forward_features(x)\n",
    "        x = self.head(x)\n",
    "        return x"
   ]
  },
  {
   "cell_type": "markdown",
   "id": "25ab59bf",
   "metadata": {},
   "source": [
    "### 3.4 ConvNeXt Variants\n",
    "\n",
    "Let's implement functions to create different variants of ConvNeXt:"
   ]
  },
  {
   "cell_type": "code",
   "execution_count": 57,
   "id": "d1d88278",
   "metadata": {},
   "outputs": [],
   "source": [
    "def convnext_tiny(num_classes=1000, **kwargs):\n",
    "    model = ConvNeXt(depths=[3, 3, 9, 3], dims=[96, 192, 384, 768], num_classes=num_classes, **kwargs)\n",
    "    return model\n",
    "\n",
    "def convnext_small(num_classes=1000, **kwargs):\n",
    "    model = ConvNeXt(depths=[3, 3, 27, 3], dims=[96, 192, 384, 768], num_classes=num_classes, **kwargs)\n",
    "    return model\n",
    "\n",
    "def convnext_base(num_classes=1000, **kwargs):\n",
    "    model = ConvNeXt(depths=[3, 3, 27, 3], dims=[128, 256, 512, 1024], num_classes=num_classes, **kwargs)\n",
    "    return model\n",
    "\n",
    "def convnext_large(num_classes=1000, **kwargs):\n",
    "    model = ConvNeXt(depths=[3, 3, 27, 3], dims=[192, 384, 768, 1536], num_classes=num_classes, **kwargs)\n",
    "    return model\n",
    "\n",
    "def convnext_xlarge(num_classes=1000, **kwargs):\n",
    "    model = ConvNeXt(depths=[3, 3, 27, 3], dims=[256, 512, 1024, 2048], num_classes=num_classes, **kwargs)\n",
    "    return model"
   ]
  },
  {
   "cell_type": "markdown",
   "id": "264ddd85",
   "metadata": {},
   "source": [
    "### 3.5 Model Analysis\n",
    "\n",
    "Let's create a function to analyze the model's structure:"
   ]
  },
  {
   "cell_type": "code",
   "execution_count": 58,
   "id": "7b884239",
   "metadata": {},
   "outputs": [
    {
     "name": "stdout",
     "output_type": "stream",
     "text": [
      "ConvNeXt(\n",
      "  (downsample_layers): ModuleList(\n",
      "    (0): Sequential(\n",
      "      (0): Conv2d(3, 96, kernel_size=(4, 4), stride=(4, 4))\n",
      "      (1): LayerNorm()\n",
      "    )\n",
      "    (1): Sequential(\n",
      "      (0): LayerNorm()\n",
      "      (1): Conv2d(96, 192, kernel_size=(2, 2), stride=(2, 2))\n",
      "    )\n",
      "    (2): Sequential(\n",
      "      (0): LayerNorm()\n",
      "      (1): Conv2d(192, 384, kernel_size=(2, 2), stride=(2, 2))\n",
      "    )\n",
      "    (3): Sequential(\n",
      "      (0): LayerNorm()\n",
      "      (1): Conv2d(384, 768, kernel_size=(2, 2), stride=(2, 2))\n",
      "    )\n",
      "  )\n",
      "  (stages): ModuleList(\n",
      "    (0): Sequential(\n",
      "      (0): Block(\n",
      "        (dwconv): Conv2d(96, 96, kernel_size=(7, 7), stride=(1, 1), padding=(3, 3), groups=96)\n",
      "        (norm): LayerNorm()\n",
      "        (pwconv1): Linear(in_features=96, out_features=384, bias=True)\n",
      "        (act): GELU(approximate='none')\n",
      "        (pwconv2): Linear(in_features=384, out_features=96, bias=True)\n",
      "        (drop_path): Identity()\n",
      "      )\n",
      "      (1): Block(\n",
      "        (dwconv): Conv2d(96, 96, kernel_size=(7, 7), stride=(1, 1), padding=(3, 3), groups=96)\n",
      "        (norm): LayerNorm()\n",
      "        (pwconv1): Linear(in_features=96, out_features=384, bias=True)\n",
      "        (act): GELU(approximate='none')\n",
      "        (pwconv2): Linear(in_features=384, out_features=96, bias=True)\n",
      "        (drop_path): Identity()\n",
      "      )\n",
      "      (2): Block(\n",
      "        (dwconv): Conv2d(96, 96, kernel_size=(7, 7), stride=(1, 1), padding=(3, 3), groups=96)\n",
      "        (norm): LayerNorm()\n",
      "        (pwconv1): Linear(in_features=96, out_features=384, bias=True)\n",
      "        (act): GELU(approximate='none')\n",
      "        (pwconv2): Linear(in_features=384, out_features=96, bias=True)\n",
      "        (drop_path): Identity()\n",
      "      )\n",
      "    )\n",
      "    (1): Sequential(\n",
      "      (0): Block(\n",
      "        (dwconv): Conv2d(192, 192, kernel_size=(7, 7), stride=(1, 1), padding=(3, 3), groups=192)\n",
      "        (norm): LayerNorm()\n",
      "        (pwconv1): Linear(in_features=192, out_features=768, bias=True)\n",
      "        (act): GELU(approximate='none')\n",
      "        (pwconv2): Linear(in_features=768, out_features=192, bias=True)\n",
      "        (drop_path): Identity()\n",
      "      )\n",
      "      (1): Block(\n",
      "        (dwconv): Conv2d(192, 192, kernel_size=(7, 7), stride=(1, 1), padding=(3, 3), groups=192)\n",
      "        (norm): LayerNorm()\n",
      "        (pwconv1): Linear(in_features=192, out_features=768, bias=True)\n",
      "        (act): GELU(approximate='none')\n",
      "        (pwconv2): Linear(in_features=768, out_features=192, bias=True)\n",
      "        (drop_path): Identity()\n",
      "      )\n",
      "      (2): Block(\n",
      "        (dwconv): Conv2d(192, 192, kernel_size=(7, 7), stride=(1, 1), padding=(3, 3), groups=192)\n",
      "        (norm): LayerNorm()\n",
      "        (pwconv1): Linear(in_features=192, out_features=768, bias=True)\n",
      "        (act): GELU(approximate='none')\n",
      "        (pwconv2): Linear(in_features=768, out_features=192, bias=True)\n",
      "        (drop_path): Identity()\n",
      "      )\n",
      "    )\n",
      "    (2): Sequential(\n",
      "      (0): Block(\n",
      "        (dwconv): Conv2d(384, 384, kernel_size=(7, 7), stride=(1, 1), padding=(3, 3), groups=384)\n",
      "        (norm): LayerNorm()\n",
      "        (pwconv1): Linear(in_features=384, out_features=1536, bias=True)\n",
      "        (act): GELU(approximate='none')\n",
      "        (pwconv2): Linear(in_features=1536, out_features=384, bias=True)\n",
      "        (drop_path): Identity()\n",
      "      )\n",
      "      (1): Block(\n",
      "        (dwconv): Conv2d(384, 384, kernel_size=(7, 7), stride=(1, 1), padding=(3, 3), groups=384)\n",
      "        (norm): LayerNorm()\n",
      "        (pwconv1): Linear(in_features=384, out_features=1536, bias=True)\n",
      "        (act): GELU(approximate='none')\n",
      "        (pwconv2): Linear(in_features=1536, out_features=384, bias=True)\n",
      "        (drop_path): Identity()\n",
      "      )\n",
      "      (2): Block(\n",
      "        (dwconv): Conv2d(384, 384, kernel_size=(7, 7), stride=(1, 1), padding=(3, 3), groups=384)\n",
      "        (norm): LayerNorm()\n",
      "        (pwconv1): Linear(in_features=384, out_features=1536, bias=True)\n",
      "        (act): GELU(approximate='none')\n",
      "        (pwconv2): Linear(in_features=1536, out_features=384, bias=True)\n",
      "        (drop_path): Identity()\n",
      "      )\n",
      "      (3): Block(\n",
      "        (dwconv): Conv2d(384, 384, kernel_size=(7, 7), stride=(1, 1), padding=(3, 3), groups=384)\n",
      "        (norm): LayerNorm()\n",
      "        (pwconv1): Linear(in_features=384, out_features=1536, bias=True)\n",
      "        (act): GELU(approximate='none')\n",
      "        (pwconv2): Linear(in_features=1536, out_features=384, bias=True)\n",
      "        (drop_path): Identity()\n",
      "      )\n",
      "      (4): Block(\n",
      "        (dwconv): Conv2d(384, 384, kernel_size=(7, 7), stride=(1, 1), padding=(3, 3), groups=384)\n",
      "        (norm): LayerNorm()\n",
      "        (pwconv1): Linear(in_features=384, out_features=1536, bias=True)\n",
      "        (act): GELU(approximate='none')\n",
      "        (pwconv2): Linear(in_features=1536, out_features=384, bias=True)\n",
      "        (drop_path): Identity()\n",
      "      )\n",
      "      (5): Block(\n",
      "        (dwconv): Conv2d(384, 384, kernel_size=(7, 7), stride=(1, 1), padding=(3, 3), groups=384)\n",
      "        (norm): LayerNorm()\n",
      "        (pwconv1): Linear(in_features=384, out_features=1536, bias=True)\n",
      "        (act): GELU(approximate='none')\n",
      "        (pwconv2): Linear(in_features=1536, out_features=384, bias=True)\n",
      "        (drop_path): Identity()\n",
      "      )\n",
      "      (6): Block(\n",
      "        (dwconv): Conv2d(384, 384, kernel_size=(7, 7), stride=(1, 1), padding=(3, 3), groups=384)\n",
      "        (norm): LayerNorm()\n",
      "        (pwconv1): Linear(in_features=384, out_features=1536, bias=True)\n",
      "        (act): GELU(approximate='none')\n",
      "        (pwconv2): Linear(in_features=1536, out_features=384, bias=True)\n",
      "        (drop_path): Identity()\n",
      "      )\n",
      "      (7): Block(\n",
      "        (dwconv): Conv2d(384, 384, kernel_size=(7, 7), stride=(1, 1), padding=(3, 3), groups=384)\n",
      "        (norm): LayerNorm()\n",
      "        (pwconv1): Linear(in_features=384, out_features=1536, bias=True)\n",
      "        (act): GELU(approximate='none')\n",
      "        (pwconv2): Linear(in_features=1536, out_features=384, bias=True)\n",
      "        (drop_path): Identity()\n",
      "      )\n",
      "      (8): Block(\n",
      "        (dwconv): Conv2d(384, 384, kernel_size=(7, 7), stride=(1, 1), padding=(3, 3), groups=384)\n",
      "        (norm): LayerNorm()\n",
      "        (pwconv1): Linear(in_features=384, out_features=1536, bias=True)\n",
      "        (act): GELU(approximate='none')\n",
      "        (pwconv2): Linear(in_features=1536, out_features=384, bias=True)\n",
      "        (drop_path): Identity()\n",
      "      )\n",
      "    )\n",
      "    (3): Sequential(\n",
      "      (0): Block(\n",
      "        (dwconv): Conv2d(768, 768, kernel_size=(7, 7), stride=(1, 1), padding=(3, 3), groups=768)\n",
      "        (norm): LayerNorm()\n",
      "        (pwconv1): Linear(in_features=768, out_features=3072, bias=True)\n",
      "        (act): GELU(approximate='none')\n",
      "        (pwconv2): Linear(in_features=3072, out_features=768, bias=True)\n",
      "        (drop_path): Identity()\n",
      "      )\n",
      "      (1): Block(\n",
      "        (dwconv): Conv2d(768, 768, kernel_size=(7, 7), stride=(1, 1), padding=(3, 3), groups=768)\n",
      "        (norm): LayerNorm()\n",
      "        (pwconv1): Linear(in_features=768, out_features=3072, bias=True)\n",
      "        (act): GELU(approximate='none')\n",
      "        (pwconv2): Linear(in_features=3072, out_features=768, bias=True)\n",
      "        (drop_path): Identity()\n",
      "      )\n",
      "      (2): Block(\n",
      "        (dwconv): Conv2d(768, 768, kernel_size=(7, 7), stride=(1, 1), padding=(3, 3), groups=768)\n",
      "        (norm): LayerNorm()\n",
      "        (pwconv1): Linear(in_features=768, out_features=3072, bias=True)\n",
      "        (act): GELU(approximate='none')\n",
      "        (pwconv2): Linear(in_features=3072, out_features=768, bias=True)\n",
      "        (drop_path): Identity()\n",
      "      )\n",
      "    )\n",
      "  )\n",
      "  (norm): LayerNorm((768,), eps=1e-06, elementwise_affine=True)\n",
      "  (head): Linear(in_features=768, out_features=10, bias=True)\n",
      ")\n",
      "\n",
      "Total Parameters: 27,827,818\n",
      "Trainable Parameters: 27,827,818\n",
      "\n",
      "Output sizes at each stage:\n",
      "Stem output: torch.Size([1, 96, 8, 8])\n",
      "Stage 1 output: torch.Size([1, 96, 8, 8])\n",
      "Stage 2 output: torch.Size([1, 192, 4, 4])\n",
      "Stage 3 output: torch.Size([1, 384, 2, 2])\n",
      "Stage 4 output: torch.Size([1, 768, 1, 1])\n",
      "Final output: torch.Size([1, 10])\n"
     ]
    }
   ],
   "source": [
    "def analyze_model(model, input_size=(3, 224, 224)):\n",
    "    \"\"\"Analyze model architecture and parameter count.\"\"\"\n",
    "    # Print model architecture\n",
    "    print(model)\n",
    "    \n",
    "    # Count parameters\n",
    "    total_params = sum(p.numel() for p in model.parameters())\n",
    "    trainable_params = sum(p.numel() for p in model.parameters() if p.requires_grad)\n",
    "    \n",
    "    print(f\"\\nTotal Parameters: {total_params:,}\")\n",
    "    print(f\"Trainable Parameters: {trainable_params:,}\")\n",
    "    \n",
    "    # Create dummy input and trace through the model to check output sizes\n",
    "    dummy_input = torch.randn(1, *input_size).to(next(model.parameters()).device)\n",
    "    \n",
    "    # Get output sizes at each stage\n",
    "    print(\"\\nOutput sizes at each stage:\")\n",
    "    \n",
    "    # Stem output\n",
    "    x = model.downsample_layers[0](dummy_input)\n",
    "    print(f\"Stem output: {x.shape}\")\n",
    "    \n",
    "    # Stage outputs\n",
    "    for i in range(4):\n",
    "        if i > 0:\n",
    "            x = model.downsample_layers[i](x)\n",
    "        x = model.stages[i](x)\n",
    "        print(f\"Stage {i+1} output: {x.shape}\")\n",
    "    \n",
    "    # Final output\n",
    "    x = model.norm(x.mean([-2, -1]))\n",
    "    x = model.head(x)\n",
    "    print(f\"Final output: {x.shape}\")\n",
    "\n",
    "# Create a tiny model and analyze it\n",
    "model = convnext_tiny(num_classes=10)  # Using 10 classes for CIFAR-10\n",
    "model = model.to(device)\n",
    "analyze_model(model, input_size=(3, 32, 32))  # CIFAR-10 image size"
   ]
  },
  {
   "cell_type": "markdown",
   "id": "a440ec57",
   "metadata": {},
   "source": [
    "## 4. Dataset Preparation\n",
    "\n",
    "For this implementation, we'll use the CIFAR-10 dataset, which is much smaller than ImageNet but still provides a good test case:"
   ]
  },
  {
   "cell_type": "code",
   "execution_count": 59,
   "id": "85ae611e",
   "metadata": {},
   "outputs": [
    {
     "name": "stdout",
     "output_type": "stream",
     "text": [
      "Number of training samples: 50000\n",
      "Number of validation samples: 10000\n"
     ]
    },
    {
     "data": {
      "image/png": "[encoded data removed]",
      "text/plain": [
       "<Figure size 1500x300 with 5 Axes>"
      ]
     },
     "metadata": {},
     "output_type": "display_data"
    }
   ],
   "source": [
    "def build_dataset(is_train, image_size=224, data_path='./data'):\n",
    "    \"\"\"Build CIFAR-10 dataset with appropriate transforms.\"\"\"\n",
    "    if is_train:\n",
    "        transform = transforms.Compose([\n",
    "            transforms.RandomResizedCrop(image_size, scale=(0.8, 1.0)),\n",
    "            transforms.RandomHorizontalFlip(),\n",
    "            transforms.ToTensor(),\n",
    "            transforms.Normalize((0.4914, 0.4822, 0.4465), (0.2023, 0.1994, 0.2010)),\n",
    "        ])\n",
    "    else:\n",
    "        transform = transforms.Compose([\n",
    "            transforms.Resize(image_size),\n",
    "            transforms.CenterCrop(image_size),\n",
    "            transforms.ToTensor(),\n",
    "            transforms.Normalize((0.4914, 0.4822, 0.4465), (0.2023, 0.1994, 0.2010)),\n",
    "        ])\n",
    "\n",
    "    dataset = datasets.CIFAR10(data_path, train=is_train, transform=transform, download=True)\n",
    "    \n",
    "    return dataset\n",
    "\n",
    "def build_data_loader(dataset, batch_size, is_train=True, num_workers=4):\n",
    "    \"\"\"Build data loader for the dataset.\"\"\"\n",
    "    return DataLoader(\n",
    "        dataset, \n",
    "        batch_size=batch_size,\n",
    "        shuffle=is_train,\n",
    "        num_workers=num_workers,\n",
    "        pin_memory=True,\n",
    "        drop_last=is_train\n",
    "    )\n",
    "\n",
    "# Build datasets and dataloaders\n",
    "image_size = 32  # CIFAR-10 images are 32x32, but we can resize if needed\n",
    "batch_size = 128\n",
    "num_workers = 4\n",
    "\n",
    "train_dataset = build_dataset(is_train=True, image_size=image_size)\n",
    "val_dataset = build_dataset(is_train=False, image_size=image_size)\n",
    "\n",
    "train_loader = build_data_loader(train_dataset, batch_size, is_train=True, num_workers=num_workers)\n",
    "val_loader = build_data_loader(val_dataset, batch_size, is_train=False, num_workers=num_workers)\n",
    "\n",
    "print(f\"Number of training samples: {len(train_dataset)}\")\n",
    "print(f\"Number of validation samples: {len(val_dataset)}\")\n",
    "\n",
    "# Display a few samples\n",
    "def show_samples(loader, num_samples=5):\n",
    "    \"\"\"Display a few samples from the dataset.\"\"\"\n",
    "    samples, labels = next(iter(loader))\n",
    "    \n",
    "    # Denormalize the images\n",
    "    mean = torch.tensor([0.4914, 0.4822, 0.4465]).view(3, 1, 1)\n",
    "    std = torch.tensor([0.2023, 0.1994, 0.2010]).view(3, 1, 1)\n",
    "    samples = samples[:num_samples] * std + mean\n",
    "    \n",
    "    fig, axes = plt.subplots(1, num_samples, figsize=(15, 3))\n",
    "    for i in range(num_samples):\n",
    "        axes[i].imshow(samples[i].permute(1, 2, 0).numpy())\n",
    "        axes[i].set_title(f\"Label: {train_dataset.classes[labels[i]]}\")\n",
    "        axes[i].axis('off')\n",
    "    plt.tight_layout()\n",
    "    plt.show()\n",
    "\n",
    "show_samples(train_loader)"
   ]
  },
  {
   "cell_type": "markdown",
   "id": "43ae7de1",
   "metadata": {},
   "source": [
    "## 5. Training Setup\n",
    "\n",
    "Now let's set up the training procedure:"
   ]
  },
  {
   "cell_type": "code",
   "execution_count": 60,
   "id": "55e4b2e5",
   "metadata": {},
   "outputs": [],
   "source": [
    "# Define AugMix data augmentation\n",
    "def build_mixup_fn(mixup_alpha=0.8, cutmix_alpha=1.0, cutmix_minmax=None, \n",
    "                   prob=1.0, switch_prob=0.5, mode='batch', \n",
    "                   label_smoothing=0.1, num_classes=10):\n",
    "    \"\"\"Create mixup/cutmix transform function.\"\"\"\n",
    "    mixup_fn = Mixup(\n",
    "        mixup_alpha=mixup_alpha, cutmix_alpha=cutmix_alpha, cutmix_minmax=cutmix_minmax,\n",
    "        prob=prob, switch_prob=switch_prob, mode=mode,\n",
    "        label_smoothing=label_smoothing, num_classes=num_classes\n",
    "    )\n",
    "    return mixup_fn\n",
    "\n",
    "# Define optimizer and learning rate scheduler\n",
    "def build_optimizer(model, lr=0.001, weight_decay=0.05, betas=(0.9, 0.999)):\n",
    "    \"\"\"Create optimizer.\"\"\"\n",
    "    # Separate weight decay parameters from non-weight decay parameters\n",
    "    decay_params = []\n",
    "    no_decay_params = []\n",
    "    \n",
    "    for name, param in model.named_parameters():\n",
    "        if not param.requires_grad:\n",
    "            continue\n",
    "        # Apply no weight decay to bias and LayerNorm parameters\n",
    "        if len(param.shape) == 1 or name.endswith(\".bias\"):\n",
    "            no_decay_params.append(param)\n",
    "        else:\n",
    "            decay_params.append(param)\n",
    "    \n",
    "    optimizer_grouped_parameters = [\n",
    "        {'params': decay_params, 'weight_decay': weight_decay},\n",
    "        {'params': no_decay_params, 'weight_decay': 0.0}\n",
    "    ]\n",
    "    \n",
    "    optimizer = torch.optim.AdamW(optimizer_grouped_parameters, lr=lr, betas=betas)\n",
    "    return optimizer\n",
    "\n",
    "# Define learning rate scheduler\n",
    "def build_scheduler(optimizer, epochs, warmup_epochs=20):\n",
    "    \"\"\"Create cosine learning rate scheduler with warmup.\"\"\"\n",
    "    def lr_lambda(epoch):\n",
    "        if epoch < warmup_epochs:\n",
    "            return float(epoch) / float(max(1, warmup_epochs))\n",
    "        return 0.5 * (1.0 + math.cos(math.pi * (epoch - warmup_epochs) / (epochs - warmup_epochs)))\n",
    "    \n",
    "    return torch.optim.lr_scheduler.LambdaLR(optimizer, lr_lambda)\n",
    "\n",
    "# Define loss function\n",
    "def build_criterion(mixup_fn=None):\n",
    "    \"\"\"Create loss function.\"\"\"\n",
    "    if mixup_fn is not None:\n",
    "        # Mixup cross entropy loss\n",
    "        criterion = SoftTargetCrossEntropy()\n",
    "    else:\n",
    "        # Standard cross entropy with label smoothing\n",
    "        criterion = LabelSmoothingCrossEntropy(smoothing=0.1)\n",
    "    return criterion\n",
    "\n",
    "# Create mixup function, optimizer, scheduler, and criterion\n",
    "epochs = 50\n",
    "warmup_epochs = 5\n",
    "lr = 0.001\n",
    "weight_decay = 0.05\n",
    "\n",
    "mixup_fn = build_mixup_fn(num_classes=10)\n",
    "optimizer = build_optimizer(model, lr=lr, weight_decay=weight_decay)\n",
    "scheduler = build_scheduler(optimizer, epochs=epochs, warmup_epochs=warmup_epochs)\n",
    "criterion = build_criterion(mixup_fn)"
   ]
  },
  {
   "cell_type": "markdown",
   "id": "6adfb73a",
   "metadata": {},
   "source": [
    "## 6. Model Training\n",
    "\n",
    "Let's implement the training loop:"
   ]
  },
  {
   "cell_type": "code",
   "execution_count": 61,
   "id": "d96a5a12",
   "metadata": {},
   "outputs": [
    {
     "name": "stderr",
     "output_type": "stream",
     "text": [
      "Epoch 1/50 [Train]: 100%|████████████████████████████████████████████████████████████████████████████████████████████████| 390/390 [00:14<00:00, 27.51it/s, loss=2.43, acc=0]\n",
      "Validation: 100%|███████████████████████████████████████████████████████████████████████████████████████████████████████| 79/79 [00:00<00:00, 98.40it/s, loss=2.43, acc=9.35]\n"
     ]
    },
    {
     "name": "stdout",
     "output_type": "stream",
     "text": [
      "Epoch 1/50 - Train loss: 2.4325, Val loss: 2.4302, Val acc: 9.35%\n",
      "Validation accuracy improved from 0.00% to 9.35%\n"
     ]
    },
    {
     "name": "stderr",
     "output_type": "stream",
     "text": [
      "Epoch 2/50 [Train]: 100%|████████████████████████████████████████████████████████████████████████████████████████████████| 390/390 [00:14<00:00, 27.57it/s, loss=2.08, acc=0]\n",
      "Validation: 100%|██████████████████████████████████████████████████████████████████████████████████████████████████████| 79/79 [00:00<00:00, 117.66it/s, loss=1.64, acc=43.9]\n"
     ]
    },
    {
     "name": "stdout",
     "output_type": "stream",
     "text": [
      "Epoch 2/50 - Train loss: 2.0792, Val loss: 1.6416, Val acc: 43.87%\n",
      "Validation accuracy improved from 9.35% to 43.87%\n"
     ]
    },
    {
     "name": "stderr",
     "output_type": "stream",
     "text": [
      "Epoch 3/50 [Train]: 100%|████████████████████████████████████████████████████████████████████████████████████████████████| 390/390 [00:14<00:00, 27.53it/s, loss=1.99, acc=0]\n",
      "Validation: 100%|██████████████████████████████████████████████████████████████████████████████████████████████████████| 79/79 [00:00<00:00, 107.16it/s, loss=1.51, acc=48.9]\n"
     ]
    },
    {
     "name": "stdout",
     "output_type": "stream",
     "text": [
      "Epoch 3/50 - Train loss: 1.9883, Val loss: 1.5068, Val acc: 48.93%\n",
      "Validation accuracy improved from 43.87% to 48.93%\n"
     ]
    },
    {
     "name": "stderr",
     "output_type": "stream",
     "text": [
      "Epoch 4/50 [Train]: 100%|████████████████████████████████████████████████████████████████████████████████████████████████| 390/390 [00:14<00:00, 27.36it/s, loss=1.92, acc=0]\n",
      "Validation: 100%|████████████████████████████████████████████████████████████████████████████████████████████████████████| 79/79 [00:00<00:00, 116.21it/s, loss=1.49, acc=52]\n"
     ]
    },
    {
     "name": "stdout",
     "output_type": "stream",
     "text": [
      "Epoch 4/50 - Train loss: 1.9250, Val loss: 1.4853, Val acc: 52.05%\n",
      "Validation accuracy improved from 48.93% to 52.05%\n"
     ]
    },
    {
     "name": "stderr",
     "output_type": "stream",
     "text": [
      "Epoch 5/50 [Train]: 100%|█████████████████████████████████████████████████████████████████████████████████████████████████| 390/390 [00:14<00:00, 27.72it/s, loss=1.9, acc=0]\n",
      "Validation: 100%|██████████████████████████████████████████████████████████████████████████████████████████████████████| 79/79 [00:00<00:00, 105.46it/s, loss=1.39, acc=53.3]\n"
     ]
    },
    {
     "name": "stdout",
     "output_type": "stream",
     "text": [
      "Epoch 5/50 - Train loss: 1.8963, Val loss: 1.3931, Val acc: 53.26%\n",
      "Validation accuracy improved from 52.05% to 53.26%\n"
     ]
    },
    {
     "name": "stderr",
     "output_type": "stream",
     "text": [
      "Epoch 6/50 [Train]: 100%|████████████████████████████████████████████████████████████████████████████████████████████████| 390/390 [00:14<00:00, 27.60it/s, loss=1.89, acc=0]\n",
      "Validation: 100%|██████████████████████████████████████████████████████████████████████████████████████████████████████| 79/79 [00:00<00:00, 117.12it/s, loss=1.42, acc=53.3]\n"
     ]
    },
    {
     "name": "stdout",
     "output_type": "stream",
     "text": [
      "Epoch 6/50 - Train loss: 1.8881, Val loss: 1.4181, Val acc: 53.28%\n",
      "Validation accuracy improved from 53.26% to 53.28%\n"
     ]
    },
    {
     "name": "stderr",
     "output_type": "stream",
     "text": [
      "Epoch 7/50 [Train]: 100%|████████████████████████████████████████████████████████████████████████████████████████████████| 390/390 [00:14<00:00, 27.68it/s, loss=1.84, acc=0]\n",
      "Validation: 100%|██████████████████████████████████████████████████████████████████████████████████████████████████████| 79/79 [00:00<00:00, 113.33it/s, loss=1.29, acc=58.2]\n"
     ]
    },
    {
     "name": "stdout",
     "output_type": "stream",
     "text": [
      "Epoch 7/50 - Train loss: 1.8424, Val loss: 1.2872, Val acc: 58.25%\n",
      "Validation accuracy improved from 53.28% to 58.25%\n"
     ]
    },
    {
     "name": "stderr",
     "output_type": "stream",
     "text": [
      "Epoch 8/50 [Train]: 100%|████████████████████████████████████████████████████████████████████████████████████████████████| 390/390 [00:14<00:00, 27.42it/s, loss=1.81, acc=0]\n",
      "Validation: 100%|██████████████████████████████████████████████████████████████████████████████████████████████████████| 79/79 [00:00<00:00, 112.27it/s, loss=1.23, acc=59.7]\n"
     ]
    },
    {
     "name": "stdout",
     "output_type": "stream",
     "text": [
      "Epoch 8/50 - Train loss: 1.8134, Val loss: 1.2257, Val acc: 59.74%\n",
      "Validation accuracy improved from 58.25% to 59.74%\n"
     ]
    },
    {
     "name": "stderr",
     "output_type": "stream",
     "text": [
      "Epoch 9/50 [Train]: 100%|████████████████████████████████████████████████████████████████████████████████████████████████| 390/390 [00:14<00:00, 27.70it/s, loss=1.79, acc=0]\n",
      "Validation: 100%|████████████████████████████████████████████████████████████████████████████████████████████████████████| 79/79 [00:00<00:00, 116.49it/s, loss=1.16, acc=62]\n"
     ]
    },
    {
     "name": "stdout",
     "output_type": "stream",
     "text": [
      "Epoch 9/50 - Train loss: 1.7901, Val loss: 1.1649, Val acc: 62.01%\n",
      "Validation accuracy improved from 59.74% to 62.01%\n"
     ]
    },
    {
     "name": "stderr",
     "output_type": "stream",
     "text": [
      "Epoch 10/50 [Train]: 100%|███████████████████████████████████████████████████████████████████████████████████████████████| 390/390 [00:14<00:00, 27.54it/s, loss=1.76, acc=0]\n",
      "Validation: 100%|██████████████████████████████████████████████████████████████████████████████████████████████████████| 79/79 [00:00<00:00, 113.80it/s, loss=1.22, acc=61.8]\n"
     ]
    },
    {
     "name": "stdout",
     "output_type": "stream",
     "text": [
      "Epoch 10/50 - Train loss: 1.7649, Val loss: 1.2210, Val acc: 61.84%\n"
     ]
    },
    {
     "name": "stderr",
     "output_type": "stream",
     "text": [
      "Epoch 11/50 [Train]: 100%|███████████████████████████████████████████████████████████████████████████████████████████████| 390/390 [00:14<00:00, 27.65it/s, loss=1.75, acc=0]\n",
      "Validation: 100%|██████████████████████████████████████████████████████████████████████████████████████████████████████| 79/79 [00:00<00:00, 110.96it/s, loss=1.14, acc=64.1]\n"
     ]
    },
    {
     "name": "stdout",
     "output_type": "stream",
     "text": [
      "Epoch 11/50 - Train loss: 1.7483, Val loss: 1.1437, Val acc: 64.08%\n",
      "Validation accuracy improved from 62.01% to 64.08%\n"
     ]
    },
    {
     "name": "stderr",
     "output_type": "stream",
     "text": [
      "Epoch 12/50 [Train]: 100%|███████████████████████████████████████████████████████████████████████████████████████████████| 390/390 [00:14<00:00, 27.63it/s, loss=1.72, acc=0]\n",
      "Validation: 100%|██████████████████████████████████████████████████████████████████████████████████████████████████████| 79/79 [00:00<00:00, 104.92it/s, loss=1.16, acc=64.4]\n"
     ]
    },
    {
     "name": "stdout",
     "output_type": "stream",
     "text": [
      "Epoch 12/50 - Train loss: 1.7155, Val loss: 1.1647, Val acc: 64.44%\n",
      "Validation accuracy improved from 64.08% to 64.44%\n"
     ]
    },
    {
     "name": "stderr",
     "output_type": "stream",
     "text": [
      "Epoch 13/50 [Train]: 100%|████████████████████████████████████████████████████████████████████████████████████████████████| 390/390 [00:14<00:00, 27.57it/s, loss=1.7, acc=0]\n",
      "Validation: 100%|█████████████████████████████████████████████████████████████████████████████████████████████████████████| 79/79 [00:00<00:00, 110.95it/s, loss=1.1, acc=66]\n"
     ]
    },
    {
     "name": "stdout",
     "output_type": "stream",
     "text": [
      "Epoch 13/50 - Train loss: 1.7027, Val loss: 1.0955, Val acc: 65.99%\n",
      "Validation accuracy improved from 64.44% to 65.99%\n"
     ]
    },
    {
     "name": "stderr",
     "output_type": "stream",
     "text": [
      "Epoch 14/50 [Train]: 100%|████████████████████████████████████████████████████████████████████████████████████████████████| 390/390 [00:14<00:00, 27.73it/s, loss=1.7, acc=0]\n",
      "Validation: 100%|██████████████████████████████████████████████████████████████████████████████████████████████████████| 79/79 [00:00<00:00, 113.05it/s, loss=1.03, acc=67.9]\n"
     ]
    },
    {
     "name": "stdout",
     "output_type": "stream",
     "text": [
      "Epoch 14/50 - Train loss: 1.6979, Val loss: 1.0281, Val acc: 67.91%\n",
      "Validation accuracy improved from 65.99% to 67.91%\n"
     ]
    },
    {
     "name": "stderr",
     "output_type": "stream",
     "text": [
      "Epoch 15/50 [Train]: 100%|███████████████████████████████████████████████████████████████████████████████████████████████| 390/390 [00:14<00:00, 27.45it/s, loss=1.68, acc=0]\n",
      "Validation: 100%|███████████████████████████████████████████████████████████████████████████████████████████████████████| 79/79 [00:00<00:00, 110.84it/s, loss=0.963, acc=68]\n"
     ]
    },
    {
     "name": "stdout",
     "output_type": "stream",
     "text": [
      "Epoch 15/50 - Train loss: 1.6767, Val loss: 0.9632, Val acc: 68.01%\n",
      "Validation accuracy improved from 67.91% to 68.01%\n"
     ]
    },
    {
     "name": "stderr",
     "output_type": "stream",
     "text": [
      "Epoch 16/50 [Train]: 100%|███████████████████████████████████████████████████████████████████████████████████████████████| 390/390 [00:14<00:00, 27.67it/s, loss=1.66, acc=0]\n",
      "Validation: 100%|██████████████████████████████████████████████████████████████████████████████████████████████████████| 79/79 [00:00<00:00, 112.40it/s, loss=1.06, acc=67.2]\n"
     ]
    },
    {
     "name": "stdout",
     "output_type": "stream",
     "text": [
      "Epoch 16/50 - Train loss: 1.6639, Val loss: 1.0585, Val acc: 67.21%\n"
     ]
    },
    {
     "name": "stderr",
     "output_type": "stream",
     "text": [
      "Epoch 17/50 [Train]: 100%|███████████████████████████████████████████████████████████████████████████████████████████████| 390/390 [00:14<00:00, 27.83it/s, loss=1.67, acc=0]\n",
      "Validation: 100%|████████████████████████████████████████████████████████████████████████████████████████████████████████| 79/79 [00:00<00:00, 113.78it/s, loss=1.03, acc=69]\n"
     ]
    },
    {
     "name": "stdout",
     "output_type": "stream",
     "text": [
      "Epoch 17/50 - Train loss: 1.6678, Val loss: 1.0319, Val acc: 68.99%\n",
      "Validation accuracy improved from 68.01% to 68.99%\n"
     ]
    },
    {
     "name": "stderr",
     "output_type": "stream",
     "text": [
      "Epoch 18/50 [Train]: 100%|███████████████████████████████████████████████████████████████████████████████████████████████| 390/390 [00:14<00:00, 27.53it/s, loss=1.63, acc=0]\n",
      "Validation: 100%|█████████████████████████████████████████████████████████████████████████████████████████████████████| 79/79 [00:00<00:00, 114.58it/s, loss=0.992, acc=69.5]\n"
     ]
    },
    {
     "name": "stdout",
     "output_type": "stream",
     "text": [
      "Epoch 18/50 - Train loss: 1.6294, Val loss: 0.9921, Val acc: 69.55%\n",
      "Validation accuracy improved from 68.99% to 69.55%\n"
     ]
    },
    {
     "name": "stderr",
     "output_type": "stream",
     "text": [
      "Epoch 19/50 [Train]: 100%|███████████████████████████████████████████████████████████████████████████████████████████████| 390/390 [00:14<00:00, 27.71it/s, loss=1.65, acc=0]\n",
      "Validation: 100%|███████████████████████████████████████████████████████████████████████████████████████████████████████| 79/79 [00:00<00:00, 112.49it/s, loss=0.986, acc=69]\n"
     ]
    },
    {
     "name": "stdout",
     "output_type": "stream",
     "text": [
      "Epoch 19/50 - Train loss: 1.6507, Val loss: 0.9860, Val acc: 69.04%\n"
     ]
    },
    {
     "name": "stderr",
     "output_type": "stream",
     "text": [
      "Epoch 20/50 [Train]: 100%|███████████████████████████████████████████████████████████████████████████████████████████████| 390/390 [00:14<00:00, 27.57it/s, loss=1.61, acc=0]\n",
      "Validation: 100%|██████████████████████████████████████████████████████████████████████████████████████████████████████| 79/79 [00:00<00:00, 111.86it/s, loss=1.01, acc=69.5]\n"
     ]
    },
    {
     "name": "stdout",
     "output_type": "stream",
     "text": [
      "Epoch 20/50 - Train loss: 1.6060, Val loss: 1.0100, Val acc: 69.46%\n"
     ]
    },
    {
     "name": "stderr",
     "output_type": "stream",
     "text": [
      "Epoch 21/50 [Train]: 100%|███████████████████████████████████████████████████████████████████████████████████████████████| 390/390 [00:14<00:00, 27.54it/s, loss=1.63, acc=0]\n",
      "Validation: 100%|█████████████████████████████████████████████████████████████████████████████████████████████████████| 79/79 [00:00<00:00, 109.10it/s, loss=0.951, acc=71.1]\n"
     ]
    },
    {
     "name": "stdout",
     "output_type": "stream",
     "text": [
      "Epoch 21/50 - Train loss: 1.6347, Val loss: 0.9507, Val acc: 71.08%\n",
      "Validation accuracy improved from 69.55% to 71.08%\n"
     ]
    },
    {
     "name": "stderr",
     "output_type": "stream",
     "text": [
      "Epoch 22/50 [Train]: 100%|███████████████████████████████████████████████████████████████████████████████████████████████| 390/390 [00:14<00:00, 27.74it/s, loss=1.56, acc=0]\n",
      "Validation: 100%|█████████████████████████████████████████████████████████████████████████████████████████████████████| 79/79 [00:00<00:00, 105.82it/s, loss=0.878, acc=73.1]\n"
     ]
    },
    {
     "name": "stdout",
     "output_type": "stream",
     "text": [
      "Epoch 22/50 - Train loss: 1.5628, Val loss: 0.8776, Val acc: 73.14%\n",
      "Validation accuracy improved from 71.08% to 73.14%\n"
     ]
    },
    {
     "name": "stderr",
     "output_type": "stream",
     "text": [
      "Epoch 23/50 [Train]: 100%|███████████████████████████████████████████████████████████████████████████████████████████████| 390/390 [00:14<00:00, 27.68it/s, loss=1.57, acc=0]\n",
      "Validation: 100%|███████████████████████████████████████████████████████████████████████████████████████████████████████| 79/79 [00:00<00:00, 113.23it/s, loss=0.948, acc=73]\n"
     ]
    },
    {
     "name": "stdout",
     "output_type": "stream",
     "text": [
      "Epoch 23/50 - Train loss: 1.5668, Val loss: 0.9479, Val acc: 72.95%\n"
     ]
    },
    {
     "name": "stderr",
     "output_type": "stream",
     "text": [
      "Epoch 24/50 [Train]: 100%|███████████████████████████████████████████████████████████████████████████████████████████████| 390/390 [00:14<00:00, 27.79it/s, loss=1.56, acc=0]\n",
      "Validation: 100%|█████████████████████████████████████████████████████████████████████████████████████████████████████| 79/79 [00:00<00:00, 108.77it/s, loss=0.869, acc=73.2]\n"
     ]
    },
    {
     "name": "stdout",
     "output_type": "stream",
     "text": [
      "Epoch 24/50 - Train loss: 1.5589, Val loss: 0.8691, Val acc: 73.16%\n",
      "Validation accuracy improved from 73.14% to 73.16%\n"
     ]
    },
    {
     "name": "stderr",
     "output_type": "stream",
     "text": [
      "Epoch 25/50 [Train]: 100%|███████████████████████████████████████████████████████████████████████████████████████████████| 390/390 [00:14<00:00, 27.48it/s, loss=1.54, acc=0]\n",
      "Validation: 100%|█████████████████████████████████████████████████████████████████████████████████████████████████████| 79/79 [00:00<00:00, 107.66it/s, loss=0.926, acc=73.8]\n"
     ]
    },
    {
     "name": "stdout",
     "output_type": "stream",
     "text": [
      "Epoch 25/50 - Train loss: 1.5395, Val loss: 0.9261, Val acc: 73.79%\n",
      "Validation accuracy improved from 73.16% to 73.79%\n"
     ]
    },
    {
     "name": "stderr",
     "output_type": "stream",
     "text": [
      "Epoch 26/50 [Train]: 100%|███████████████████████████████████████████████████████████████████████████████████████████████| 390/390 [00:14<00:00, 27.49it/s, loss=1.55, acc=0]\n",
      "Validation: 100%|█████████████████████████████████████████████████████████████████████████████████████████████████████| 79/79 [00:00<00:00, 118.63it/s, loss=0.845, acc=74.4]\n"
     ]
    },
    {
     "name": "stdout",
     "output_type": "stream",
     "text": [
      "Epoch 26/50 - Train loss: 1.5502, Val loss: 0.8453, Val acc: 74.40%\n",
      "Validation accuracy improved from 73.79% to 74.40%\n"
     ]
    },
    {
     "name": "stderr",
     "output_type": "stream",
     "text": [
      "Epoch 27/50 [Train]: 100%|███████████████████████████████████████████████████████████████████████████████████████████████| 390/390 [00:14<00:00, 27.84it/s, loss=1.53, acc=0]\n",
      "Validation: 100%|█████████████████████████████████████████████████████████████████████████████████████████████████████| 79/79 [00:00<00:00, 112.01it/s, loss=0.848, acc=74.8]\n"
     ]
    },
    {
     "name": "stdout",
     "output_type": "stream",
     "text": [
      "Epoch 27/50 - Train loss: 1.5296, Val loss: 0.8479, Val acc: 74.84%\n",
      "Validation accuracy improved from 74.40% to 74.84%\n"
     ]
    },
    {
     "name": "stderr",
     "output_type": "stream",
     "text": [
      "Epoch 28/50 [Train]: 100%|███████████████████████████████████████████████████████████████████████████████████████████████| 390/390 [00:14<00:00, 27.83it/s, loss=1.53, acc=0]\n",
      "Validation: 100%|█████████████████████████████████████████████████████████████████████████████████████████████████████| 79/79 [00:00<00:00, 114.77it/s, loss=0.862, acc=75.7]\n"
     ]
    },
    {
     "name": "stdout",
     "output_type": "stream",
     "text": [
      "Epoch 28/50 - Train loss: 1.5331, Val loss: 0.8619, Val acc: 75.70%\n",
      "Validation accuracy improved from 74.84% to 75.70%\n"
     ]
    },
    {
     "name": "stderr",
     "output_type": "stream",
     "text": [
      "Epoch 29/50 [Train]: 100%|███████████████████████████████████████████████████████████████████████████████████████████████| 390/390 [00:14<00:00, 27.60it/s, loss=1.51, acc=0]\n",
      "Validation: 100%|█████████████████████████████████████████████████████████████████████████████████████████████████████| 79/79 [00:00<00:00, 118.15it/s, loss=0.805, acc=76.2]\n"
     ]
    },
    {
     "name": "stdout",
     "output_type": "stream",
     "text": [
      "Epoch 29/50 - Train loss: 1.5072, Val loss: 0.8049, Val acc: 76.15%\n",
      "Validation accuracy improved from 75.70% to 76.15%\n"
     ]
    },
    {
     "name": "stderr",
     "output_type": "stream",
     "text": [
      "Epoch 30/50 [Train]: 100%|███████████████████████████████████████████████████████████████████████████████████████████████| 390/390 [00:14<00:00, 27.83it/s, loss=1.53, acc=0]\n",
      "Validation: 100%|█████████████████████████████████████████████████████████████████████████████████████████████████████| 79/79 [00:00<00:00, 116.73it/s, loss=0.831, acc=76.1]\n"
     ]
    },
    {
     "name": "stdout",
     "output_type": "stream",
     "text": [
      "Epoch 30/50 - Train loss: 1.5320, Val loss: 0.8309, Val acc: 76.12%\n"
     ]
    },
    {
     "name": "stderr",
     "output_type": "stream",
     "text": [
      "Epoch 31/50 [Train]: 100%|████████████████████████████████████████████████████████████████████████████████████████████████| 390/390 [00:14<00:00, 27.71it/s, loss=1.5, acc=0]\n",
      "Validation: 100%|█████████████████████████████████████████████████████████████████████████████████████████████████████| 79/79 [00:00<00:00, 114.62it/s, loss=0.822, acc=76.3]\n"
     ]
    },
    {
     "name": "stdout",
     "output_type": "stream",
     "text": [
      "Epoch 31/50 - Train loss: 1.4991, Val loss: 0.8223, Val acc: 76.34%\n",
      "Validation accuracy improved from 76.15% to 76.34%\n"
     ]
    },
    {
     "name": "stderr",
     "output_type": "stream",
     "text": [
      "Epoch 32/50 [Train]: 100%|███████████████████████████████████████████████████████████████████████████████████████████████| 390/390 [00:14<00:00, 27.57it/s, loss=1.47, acc=0]\n",
      "Validation: 100%|█████████████████████████████████████████████████████████████████████████████████████████████████████| 79/79 [00:00<00:00, 108.70it/s, loss=0.825, acc=76.3]\n"
     ]
    },
    {
     "name": "stdout",
     "output_type": "stream",
     "text": [
      "Epoch 32/50 - Train loss: 1.4732, Val loss: 0.8246, Val acc: 76.29%\n"
     ]
    },
    {
     "name": "stderr",
     "output_type": "stream",
     "text": [
      "Epoch 33/50 [Train]: 100%|███████████████████████████████████████████████████████████████████████████████████████████████| 390/390 [00:14<00:00, 27.52it/s, loss=1.47, acc=0]\n",
      "Validation: 100%|███████████████████████████████████████████████████████████████████████████████████████████████████████| 79/79 [00:00<00:00, 109.97it/s, loss=0.804, acc=77]\n"
     ]
    },
    {
     "name": "stdout",
     "output_type": "stream",
     "text": [
      "Epoch 33/50 - Train loss: 1.4710, Val loss: 0.8035, Val acc: 77.04%\n",
      "Validation accuracy improved from 76.34% to 77.04%\n"
     ]
    },
    {
     "name": "stderr",
     "output_type": "stream",
     "text": [
      "Epoch 34/50 [Train]: 100%|███████████████████████████████████████████████████████████████████████████████████████████████| 390/390 [00:14<00:00, 27.67it/s, loss=1.47, acc=0]\n",
      "Validation: 100%|█████████████████████████████████████████████████████████████████████████████████████████████████████| 79/79 [00:00<00:00, 118.08it/s, loss=0.791, acc=77.5]\n"
     ]
    },
    {
     "name": "stdout",
     "output_type": "stream",
     "text": [
      "Epoch 34/50 - Train loss: 1.4660, Val loss: 0.7907, Val acc: 77.46%\n",
      "Validation accuracy improved from 77.04% to 77.46%\n"
     ]
    },
    {
     "name": "stderr",
     "output_type": "stream",
     "text": [
      "Epoch 35/50 [Train]: 100%|███████████████████████████████████████████████████████████████████████████████████████████████| 390/390 [00:14<00:00, 27.59it/s, loss=1.44, acc=0]\n",
      "Validation: 100%|█████████████████████████████████████████████████████████████████████████████████████████████████████| 79/79 [00:00<00:00, 122.00it/s, loss=0.779, acc=77.7]\n"
     ]
    },
    {
     "name": "stdout",
     "output_type": "stream",
     "text": [
      "Epoch 35/50 - Train loss: 1.4356, Val loss: 0.7785, Val acc: 77.65%\n",
      "Validation accuracy improved from 77.46% to 77.65%\n"
     ]
    },
    {
     "name": "stderr",
     "output_type": "stream",
     "text": [
      "Epoch 36/50 [Train]: 100%|███████████████████████████████████████████████████████████████████████████████████████████████| 390/390 [00:14<00:00, 27.58it/s, loss=1.44, acc=0]\n",
      "Validation: 100%|█████████████████████████████████████████████████████████████████████████████████████████████████████| 79/79 [00:00<00:00, 104.08it/s, loss=0.778, acc=77.5]\n"
     ]
    },
    {
     "name": "stdout",
     "output_type": "stream",
     "text": [
      "Epoch 36/50 - Train loss: 1.4369, Val loss: 0.7776, Val acc: 77.54%\n"
     ]
    },
    {
     "name": "stderr",
     "output_type": "stream",
     "text": [
      "Epoch 37/50 [Train]: 100%|███████████████████████████████████████████████████████████████████████████████████████████████| 390/390 [00:14<00:00, 27.51it/s, loss=1.43, acc=0]\n",
      "Validation: 100%|█████████████████████████████████████████████████████████████████████████████████████████████████████| 79/79 [00:00<00:00, 119.30it/s, loss=0.762, acc=78.1]\n"
     ]
    },
    {
     "name": "stdout",
     "output_type": "stream",
     "text": [
      "Epoch 37/50 - Train loss: 1.4296, Val loss: 0.7622, Val acc: 78.06%\n",
      "Validation accuracy improved from 77.65% to 78.06%\n"
     ]
    },
    {
     "name": "stderr",
     "output_type": "stream",
     "text": [
      "Epoch 38/50 [Train]: 100%|███████████████████████████████████████████████████████████████████████████████████████████████| 390/390 [00:14<00:00, 27.32it/s, loss=1.44, acc=0]\n",
      "Validation: 100%|█████████████████████████████████████████████████████████████████████████████████████████████████████| 79/79 [00:00<00:00, 113.73it/s, loss=0.768, acc=77.7]\n"
     ]
    },
    {
     "name": "stdout",
     "output_type": "stream",
     "text": [
      "Epoch 38/50 - Train loss: 1.4352, Val loss: 0.7681, Val acc: 77.74%\n"
     ]
    },
    {
     "name": "stderr",
     "output_type": "stream",
     "text": [
      "Epoch 39/50 [Train]: 100%|████████████████████████████████████████████████████████████████████████████████████████████████| 390/390 [00:14<00:00, 27.56it/s, loss=1.4, acc=0]\n",
      "Validation: 100%|█████████████████████████████████████████████████████████████████████████████████████████████████████| 79/79 [00:00<00:00, 121.88it/s, loss=0.748, acc=78.7]\n"
     ]
    },
    {
     "name": "stdout",
     "output_type": "stream",
     "text": [
      "Epoch 39/50 - Train loss: 1.3950, Val loss: 0.7481, Val acc: 78.71%\n",
      "Validation accuracy improved from 78.06% to 78.71%\n"
     ]
    },
    {
     "name": "stderr",
     "output_type": "stream",
     "text": [
      "Epoch 40/50 [Train]: 100%|████████████████████████████████████████████████████████████████████████████████████████████████| 390/390 [00:14<00:00, 27.38it/s, loss=1.4, acc=0]\n",
      "Validation: 100%|█████████████████████████████████████████████████████████████████████████████████████████████████████| 79/79 [00:00<00:00, 114.74it/s, loss=0.738, acc=78.9]\n"
     ]
    },
    {
     "name": "stdout",
     "output_type": "stream",
     "text": [
      "Epoch 40/50 - Train loss: 1.3971, Val loss: 0.7376, Val acc: 78.93%\n",
      "Validation accuracy improved from 78.71% to 78.93%\n"
     ]
    },
    {
     "name": "stderr",
     "output_type": "stream",
     "text": [
      "Epoch 41/50 [Train]: 100%|███████████████████████████████████████████████████████████████████████████████████████████████| 390/390 [00:14<00:00, 27.66it/s, loss=1.41, acc=0]\n",
      "Validation: 100%|█████████████████████████████████████████████████████████████████████████████████████████████████████| 79/79 [00:00<00:00, 111.70it/s, loss=0.745, acc=78.6]\n"
     ]
    },
    {
     "name": "stdout",
     "output_type": "stream",
     "text": [
      "Epoch 41/50 - Train loss: 1.4135, Val loss: 0.7445, Val acc: 78.64%\n"
     ]
    },
    {
     "name": "stderr",
     "output_type": "stream",
     "text": [
      "Epoch 42/50 [Train]: 100%|████████████████████████████████████████████████████████████████████████████████████████████████| 390/390 [00:14<00:00, 27.68it/s, loss=1.4, acc=0]\n",
      "Validation: 100%|███████████████████████████████████████████████████████████████████████████████████████████████████████| 79/79 [00:00<00:00, 111.90it/s, loss=0.742, acc=79]\n"
     ]
    },
    {
     "name": "stdout",
     "output_type": "stream",
     "text": [
      "Epoch 42/50 - Train loss: 1.3996, Val loss: 0.7422, Val acc: 79.00%\n",
      "Validation accuracy improved from 78.93% to 79.00%\n"
     ]
    },
    {
     "name": "stderr",
     "output_type": "stream",
     "text": [
      "Epoch 43/50 [Train]: 100%|███████████████████████████████████████████████████████████████████████████████████████████████| 390/390 [00:14<00:00, 27.34it/s, loss=1.36, acc=0]\n",
      "Validation: 100%|███████████████████████████████████████████████████████████████████████████████████████████████████████| 79/79 [00:00<00:00, 107.87it/s, loss=0.746, acc=79]\n"
     ]
    },
    {
     "name": "stdout",
     "output_type": "stream",
     "text": [
      "Epoch 43/50 - Train loss: 1.3610, Val loss: 0.7457, Val acc: 79.01%\n",
      "Validation accuracy improved from 79.00% to 79.01%\n"
     ]
    },
    {
     "name": "stderr",
     "output_type": "stream",
     "text": [
      "Epoch 44/50 [Train]: 100%|████████████████████████████████████████████████████████████████████████████████████████████████| 390/390 [00:14<00:00, 27.77it/s, loss=1.4, acc=0]\n",
      "Validation: 100%|█████████████████████████████████████████████████████████████████████████████████████████████████████| 79/79 [00:00<00:00, 108.37it/s, loss=0.748, acc=79.2]\n"
     ]
    },
    {
     "name": "stdout",
     "output_type": "stream",
     "text": [
      "Epoch 44/50 - Train loss: 1.3966, Val loss: 0.7479, Val acc: 79.17%\n",
      "Validation accuracy improved from 79.01% to 79.17%\n"
     ]
    },
    {
     "name": "stderr",
     "output_type": "stream",
     "text": [
      "Epoch 45/50 [Train]: 100%|███████████████████████████████████████████████████████████████████████████████████████████████| 390/390 [00:14<00:00, 27.70it/s, loss=1.43, acc=0]\n",
      "Validation: 100%|█████████████████████████████████████████████████████████████████████████████████████████████████████| 79/79 [00:00<00:00, 111.36it/s, loss=0.752, acc=79.2]\n"
     ]
    },
    {
     "name": "stdout",
     "output_type": "stream",
     "text": [
      "Epoch 45/50 - Train loss: 1.4288, Val loss: 0.7524, Val acc: 79.15%\n"
     ]
    },
    {
     "name": "stderr",
     "output_type": "stream",
     "text": [
      "Epoch 46/50 [Train]: 100%|███████████████████████████████████████████████████████████████████████████████████████████████| 390/390 [00:14<00:00, 27.81it/s, loss=1.39, acc=0]\n",
      "Validation: 100%|█████████████████████████████████████████████████████████████████████████████████████████████████████| 79/79 [00:00<00:00, 118.11it/s, loss=0.744, acc=79.3]\n"
     ]
    },
    {
     "name": "stdout",
     "output_type": "stream",
     "text": [
      "Epoch 46/50 - Train loss: 1.3886, Val loss: 0.7439, Val acc: 79.29%\n",
      "Validation accuracy improved from 79.17% to 79.29%\n"
     ]
    },
    {
     "name": "stderr",
     "output_type": "stream",
     "text": [
      "Epoch 47/50 [Train]: 100%|███████████████████████████████████████████████████████████████████████████████████████████████| 390/390 [00:14<00:00, 27.72it/s, loss=1.38, acc=0]\n",
      "Validation: 100%|███████████████████████████████████████████████████████████████████████████████████████████████████████| 79/79 [00:00<00:00, 111.07it/s, loss=0.742, acc=79]\n"
     ]
    },
    {
     "name": "stdout",
     "output_type": "stream",
     "text": [
      "Epoch 47/50 - Train loss: 1.3790, Val loss: 0.7417, Val acc: 79.00%\n"
     ]
    },
    {
     "name": "stderr",
     "output_type": "stream",
     "text": [
      "Epoch 48/50 [Train]: 100%|███████████████████████████████████████████████████████████████████████████████████████████████| 390/390 [00:14<00:00, 27.61it/s, loss=1.35, acc=0]\n",
      "Validation: 100%|█████████████████████████████████████████████████████████████████████████████████████████████████████| 79/79 [00:00<00:00, 117.63it/s, loss=0.738, acc=79.1]\n"
     ]
    },
    {
     "name": "stdout",
     "output_type": "stream",
     "text": [
      "Epoch 48/50 - Train loss: 1.3514, Val loss: 0.7382, Val acc: 79.11%\n"
     ]
    },
    {
     "name": "stderr",
     "output_type": "stream",
     "text": [
      "Epoch 49/50 [Train]: 100%|███████████████████████████████████████████████████████████████████████████████████████████████| 390/390 [00:14<00:00, 27.78it/s, loss=1.38, acc=0]\n",
      "Validation: 100%|██████████████████████████████████████████████████████████████████████████████████████████████████████| 79/79 [00:00<00:00, 110.20it/s, loss=0.74, acc=79.2]\n"
     ]
    },
    {
     "name": "stdout",
     "output_type": "stream",
     "text": [
      "Epoch 49/50 - Train loss: 1.3769, Val loss: 0.7396, Val acc: 79.18%\n"
     ]
    },
    {
     "name": "stderr",
     "output_type": "stream",
     "text": [
      "Epoch 50/50 [Train]: 100%|███████████████████████████████████████████████████████████████████████████████████████████████| 390/390 [00:14<00:00, 27.67it/s, loss=1.38, acc=0]\n",
      "Validation: 100%|█████████████████████████████████████████████████████████████████████████████████████████████████████| 79/79 [00:00<00:00, 109.61it/s, loss=0.739, acc=79.3]\n"
     ]
    },
    {
     "name": "stdout",
     "output_type": "stream",
     "text": [
      "Epoch 50/50 - Train loss: 1.3825, Val loss: 0.7389, Val acc: 79.27%\n"
     ]
    }
   ],
   "source": [
    "# Training and validation functions\n",
    "import os\n",
    "import torch\n",
    "from tqdm import tqdm  # Simple import\n",
    "\n",
    "def train_one_epoch(model, criterion, data_loader, optimizer, device, epoch, mixup_fn=None):\n",
    "    \"\"\"Train for one epoch.\"\"\"\n",
    "    model.train()\n",
    "    \n",
    "    train_loss = 0\n",
    "    correct = 0\n",
    "    total = 0\n",
    "    \n",
    "    pbar = tqdm(data_loader, desc=f\"Epoch {epoch+1}/{epochs} [Train]\")\n",
    "    \n",
    "    for batch_idx, (inputs, targets) in enumerate(pbar):\n",
    "        inputs, targets = inputs.to(device), targets.to(device)\n",
    "        \n",
    "        if mixup_fn is not None:\n",
    "            inputs, targets = mixup_fn(inputs, targets)\n",
    "        \n",
    "        # Forward pass\n",
    "        outputs = model(inputs)\n",
    "        loss = criterion(outputs, targets)\n",
    "        \n",
    "        # Backward pass and optimization\n",
    "        optimizer.zero_grad()\n",
    "        loss.backward()\n",
    "        optimizer.step()\n",
    "        \n",
    "        # Update statistics\n",
    "        train_loss += loss.item()\n",
    "        \n",
    "        if mixup_fn is None:  # Only calculate accuracy if not using mixup\n",
    "            _, predicted = outputs.max(1)\n",
    "            total += targets.size(0)\n",
    "            correct += predicted.eq(targets).sum().item()\n",
    "            acc = 100. * correct / total\n",
    "        else:\n",
    "            acc = 0\n",
    "        \n",
    "        # Update progress bar\n",
    "        pbar.set_postfix({\n",
    "            'loss': train_loss / (batch_idx + 1),\n",
    "            'acc': acc\n",
    "        })\n",
    "    \n",
    "    return train_loss / len(data_loader), acc\n",
    "\n",
    "def validate(model, criterion, data_loader, device):\n",
    "    \"\"\"Validate the model.\"\"\"\n",
    "    model.eval()\n",
    "    \n",
    "    val_loss = 0\n",
    "    correct = 0\n",
    "    total = 0\n",
    "    \n",
    "    with torch.no_grad():\n",
    "        pbar = tqdm(data_loader, desc=\"Validation\")\n",
    "        \n",
    "        for batch_idx, (inputs, targets) in enumerate(pbar):\n",
    "            inputs, targets = inputs.to(device), targets.to(device)\n",
    "            \n",
    "            # Forward pass\n",
    "            outputs = model(inputs)\n",
    "            \n",
    "            # Convert targets to one-hot encoding for SoftTargetCrossEntropy\n",
    "            batch_size = targets.size(0)\n",
    "            num_classes = outputs.size(1)  # Get number of classes from model output\n",
    "            one_hot_targets = torch.zeros(batch_size, num_classes, device=device)\n",
    "            one_hot_targets.scatter_(1, targets.unsqueeze(1), 1)\n",
    "            \n",
    "            # Calculate loss with one-hot targets\n",
    "            loss = criterion(outputs, one_hot_targets)\n",
    "            \n",
    "            # Update statistics\n",
    "            val_loss += loss.item()\n",
    "            _, predicted = outputs.max(1)\n",
    "            total += targets.size(0)\n",
    "            correct += predicted.eq(targets).sum().item()\n",
    "            \n",
    "            # Update progress bar\n",
    "            pbar.set_postfix({\n",
    "                'loss': val_loss / (batch_idx + 1),\n",
    "                'acc': 100. * correct / total\n",
    "            })\n",
    "    \n",
    "    return val_loss / len(data_loader), 100. * correct / total\n",
    "\n",
    "# Main training loop\n",
    "def main_training_loop(model, criterion, optimizer, scheduler, train_loader, val_loader, \n",
    "                       device, epochs, mixup_fn=None, save_dir='./checkpoints'):\n",
    "    \"\"\"Main training loop.\"\"\"\n",
    "    if not os.path.exists(save_dir):\n",
    "        os.makedirs(save_dir)\n",
    "    \n",
    "    # For tracking metrics\n",
    "    train_losses = []\n",
    "    val_losses = []\n",
    "    train_accs = []\n",
    "    val_accs = []\n",
    "    best_val_acc = 0\n",
    "    \n",
    "    for epoch in range(epochs):\n",
    "        # Train one epoch\n",
    "        train_loss, train_acc = train_one_epoch(\n",
    "            model, criterion, train_loader, optimizer, device, epoch, mixup_fn\n",
    "        )\n",
    "        \n",
    "        # Validate\n",
    "        val_loss, val_acc = validate(model, criterion, val_loader, device)\n",
    "        \n",
    "        # Update learning rate\n",
    "        scheduler.step()\n",
    "        \n",
    "        # Save metrics\n",
    "        train_losses.append(train_loss)\n",
    "        val_losses.append(val_loss)\n",
    "        train_accs.append(train_acc)\n",
    "        val_accs.append(val_acc)\n",
    "        \n",
    "        # Print summary\n",
    "        print(f\"Epoch {epoch+1}/{epochs} - Train loss: {train_loss:.4f}, Val loss: {val_loss:.4f}, Val acc: {val_acc:.2f}%\")\n",
    "        \n",
    "        # Save best model\n",
    "        if val_acc > best_val_acc:\n",
    "            print(f\"Validation accuracy improved from {best_val_acc:.2f}% to {val_acc:.2f}%\")\n",
    "            best_val_acc = val_acc\n",
    "            torch.save(model.state_dict(), f\"{save_dir}/convnext_best.pth\")\n",
    "    \n",
    "    # Save final model\n",
    "    torch.save(model.state_dict(), f\"{save_dir}/convnext_final.pth\")\n",
    "    \n",
    "    return {\n",
    "        'train_losses': train_losses,\n",
    "        'val_losses': val_losses,\n",
    "        'train_accs': train_accs,\n",
    "        'val_accs': val_accs,\n",
    "        'best_val_acc': best_val_acc\n",
    "    }\n",
    "\n",
    "# Run the training loop\n",
    "training_stats = main_training_loop(\n",
    "    model, criterion, optimizer, scheduler,\n",
    "    train_loader, val_loader, device, epochs,\n",
    "    mixup_fn=mixup_fn\n",
    ")"
   ]
  },
  {
   "cell_type": "markdown",
   "id": "a641393c",
   "metadata": {},
   "source": [
    "## 7. Model Evaluation\n",
    "\n",
    "After training, let's evaluate our model:"
   ]
  },
  {
   "cell_type": "code",
   "execution_count": 62,
   "id": "3e795a44",
   "metadata": {},
   "outputs": [
    {
     "data": {
      "image/png": "[encoded data removed]",
      "text/plain": [
       "<Figure size 1500x500 with 2 Axes>"
      ]
     },
     "metadata": {},
     "output_type": "display_data"
    },
    {
     "name": "stderr",
     "output_type": "stream",
     "text": [
      "Evaluating: 100%|███████████████████████████████████████████████████████████████████████████████████████████████████████████████████████████| 79/79 [00:00<00:00, 117.61it/s]"
     ]
    },
    {
     "name": "stdout",
     "output_type": "stream",
     "text": [
      "Test accuracy: 79.29%\n"
     ]
    },
    {
     "name": "stderr",
     "output_type": "stream",
     "text": [
      "\n"
     ]
    }
   ],
   "source": [
    "# Plot training curves\n",
    "def plot_training_curves(stats):\n",
    "    \"\"\"Plot training and validation curves.\"\"\"\n",
    "    fig, (ax1, ax2) = plt.subplots(1, 2, figsize=(15, 5))\n",
    "    \n",
    "    # Plot losses\n",
    "    ax1.plot(stats['train_losses'], label='Train')\n",
    "    ax1.plot(stats['val_losses'], label='Validation')\n",
    "    ax1.set_xlabel('Epoch')\n",
    "    ax1.set_ylabel('Loss')\n",
    "    ax1.set_title('Loss Curves')\n",
    "    ax1.legend()\n",
    "    ax1.grid(True)\n",
    "    \n",
    "    # Plot accuracies\n",
    "    ax2.plot(stats['train_accs'], label='Train')\n",
    "    ax2.plot(stats['val_accs'], label='Validation')\n",
    "    ax2.set_xlabel('Epoch')\n",
    "    ax2.set_ylabel('Accuracy (%)')\n",
    "    ax2.set_title('Accuracy Curves')\n",
    "    ax2.legend()\n",
    "    ax2.grid(True)\n",
    "    \n",
    "    plt.tight_layout()\n",
    "    plt.show()\n",
    "\n",
    "# Load the best model and evaluate\n",
    "def evaluate_best_model(model, val_loader, device):\n",
    "    \"\"\"Evaluate the best model.\"\"\"\n",
    "    model.load_state_dict(torch.load('./checkpoints/convnext_best.pth'))\n",
    "    model.eval()\n",
    "    \n",
    "    correct = 0\n",
    "    total = 0\n",
    "    all_preds = []\n",
    "    all_targets = []\n",
    "    \n",
    "    with torch.no_grad():\n",
    "        for inputs, targets in tqdm(val_loader, desc=\"Evaluating\"):\n",
    "            inputs, targets = inputs.to(device), targets.to(device)\n",
    "            outputs = model(inputs)\n",
    "            \n",
    "            _, predicted = outputs.max(1)\n",
    "            total += targets.size(0)\n",
    "            correct += predicted.eq(targets).sum().item()\n",
    "            \n",
    "            all_preds.extend(predicted.cpu().numpy())\n",
    "            all_targets.extend(targets.cpu().numpy())\n",
    "    \n",
    "    accuracy = 100. * correct / total\n",
    "    print(f\"Test accuracy: {accuracy:.2f}%\")\n",
    "    \n",
    "    return accuracy, all_preds, all_targets\n",
    "\n",
    "# Plot training curves\n",
    "plot_training_curves(training_stats)\n",
    "\n",
    "# Evaluate the best model\n",
    "accuracy, all_preds, all_targets = evaluate_best_model(model, val_loader, device)"
   ]
  },
  {
   "cell_type": "markdown",
   "id": "9413f779",
   "metadata": {},
   "source": [
    "## 8. Performance Analysis\n",
    "\n",
    "Let's analyze the performance of our model:"
   ]
  },
  {
   "cell_type": "code",
   "execution_count": 66,
   "id": "9d3aa007",
   "metadata": {},
   "outputs": [
    {
     "name": "stdout",
     "output_type": "stream",
     "text": [
      "Requirement already satisfied: scikit-learn in /home/horus/Workspace/miniconda3/envs/jupyter/lib/python3.11/site-packages (1.6.1)\n",
      "Requirement already satisfied: numpy>=1.19.5 in /home/horus/Workspace/miniconda3/envs/jupyter/lib/python3.11/site-packages (from scikit-learn) (2.1.2)\n",
      "Requirement already satisfied: scipy>=1.6.0 in /home/horus/Workspace/miniconda3/envs/jupyter/lib/python3.11/site-packages (from scikit-learn) (1.15.2)\n",
      "Requirement already satisfied: joblib>=1.2.0 in /home/horus/Workspace/miniconda3/envs/jupyter/lib/python3.11/site-packages (from scikit-learn) (1.4.2)\n",
      "Requirement already satisfied: threadpoolctl>=3.1.0 in /home/horus/Workspace/miniconda3/envs/jupyter/lib/python3.11/site-packages (from scikit-learn) (3.6.0)\n"
     ]
    },
    {
     "data": {
      "image/png": "[encoded data removed]",
      "text/plain": [
       "<Figure size 1000x800 with 2 Axes>"
      ]
     },
     "metadata": {},
     "output_type": "display_data"
    },
    {
     "data": {
      "image/png": "[encoded data removed]",
      "text/plain": [
       "<Figure size 1600x2000 with 20 Axes>"
      ]
     },
     "metadata": {},
     "output_type": "display_data"
    },
    {
     "name": "stderr",
     "output_type": "stream",
     "text": [
      "/home/horus/Workspace/miniconda3/envs/jupyter/lib/python3.11/site-packages/torchvision/models/_utils.py:208: UserWarning: The parameter 'pretrained' is deprecated since 0.13 and may be removed in the future, please use 'weights' instead.\n",
      "  warnings.warn(\n",
      "/home/horus/Workspace/miniconda3/envs/jupyter/lib/python3.11/site-packages/torchvision/models/_utils.py:223: UserWarning: Arguments other than a weight enum or `None` for 'weights' are deprecated since 0.13 and may be removed in the future. The current behavior is equivalent to passing `weights=None`.\n",
      "  warnings.warn(msg)\n",
      "Epoch 1/10 [ResNet]: 100%|█████████████████████████████████████████████████████████████████████████████████████████████████████████████████| 390/390 [00:06<00:00, 55.90it/s]\n",
      "Validation [ResNet]: 100%|██████████████████████████████████████████████████████████████████████████████████████████████████████████████████| 79/79 [00:00<00:00, 138.70it/s]\n"
     ]
    },
    {
     "name": "stdout",
     "output_type": "stream",
     "text": [
      "Epoch 1/10 - ResNet - Train loss: 1.4414, Val loss: 1.1956, Val acc: 56.76%\n"
     ]
    },
    {
     "name": "stderr",
     "output_type": "stream",
     "text": [
      "Epoch 2/10 [ResNet]: 100%|█████████████████████████████████████████████████████████████████████████████████████████████████████████████████| 390/390 [00:06<00:00, 58.51it/s]\n",
      "Validation [ResNet]: 100%|██████████████████████████████████████████████████████████████████████████████████████████████████████████████████| 79/79 [00:00<00:00, 131.32it/s]\n"
     ]
    },
    {
     "name": "stdout",
     "output_type": "stream",
     "text": [
      "Epoch 2/10 - ResNet - Train loss: 1.0810, Val loss: 1.0072, Val acc: 64.70%\n"
     ]
    },
    {
     "name": "stderr",
     "output_type": "stream",
     "text": [
      "Epoch 3/10 [ResNet]: 100%|█████████████████████████████████████████████████████████████████████████████████████████████████████████████████| 390/390 [00:06<00:00, 56.85it/s]\n",
      "Validation [ResNet]: 100%|██████████████████████████████████████████████████████████████████████████████████████████████████████████████████| 79/79 [00:00<00:00, 129.56it/s]\n"
     ]
    },
    {
     "name": "stdout",
     "output_type": "stream",
     "text": [
      "Epoch 3/10 - ResNet - Train loss: 0.9293, Val loss: 0.9174, Val acc: 68.34%\n"
     ]
    },
    {
     "name": "stderr",
     "output_type": "stream",
     "text": [
      "Epoch 4/10 [ResNet]: 100%|█████████████████████████████████████████████████████████████████████████████████████████████████████████████████| 390/390 [00:06<00:00, 57.00it/s]\n",
      "Validation [ResNet]: 100%|██████████████████████████████████████████████████████████████████████████████████████████████████████████████████| 79/79 [00:00<00:00, 128.92it/s]\n"
     ]
    },
    {
     "name": "stdout",
     "output_type": "stream",
     "text": [
      "Epoch 4/10 - ResNet - Train loss: 0.8267, Val loss: 0.8485, Val acc: 70.95%\n"
     ]
    },
    {
     "name": "stderr",
     "output_type": "stream",
     "text": [
      "Epoch 5/10 [ResNet]: 100%|█████████████████████████████████████████████████████████████████████████████████████████████████████████████████| 390/390 [00:06<00:00, 57.50it/s]\n",
      "Validation [ResNet]: 100%|██████████████████████████████████████████████████████████████████████████████████████████████████████████████████| 79/79 [00:00<00:00, 130.85it/s]\n"
     ]
    },
    {
     "name": "stdout",
     "output_type": "stream",
     "text": [
      "Epoch 5/10 - ResNet - Train loss: 0.7520, Val loss: 0.7698, Val acc: 73.56%\n"
     ]
    },
    {
     "name": "stderr",
     "output_type": "stream",
     "text": [
      "Epoch 6/10 [ResNet]: 100%|█████████████████████████████████████████████████████████████████████████████████████████████████████████████████| 390/390 [00:06<00:00, 57.23it/s]\n",
      "Validation [ResNet]: 100%|██████████████████████████████████████████████████████████████████████████████████████████████████████████████████| 79/79 [00:00<00:00, 133.78it/s]\n"
     ]
    },
    {
     "name": "stdout",
     "output_type": "stream",
     "text": [
      "Epoch 6/10 - ResNet - Train loss: 0.7006, Val loss: 0.7978, Val acc: 73.45%\n"
     ]
    },
    {
     "name": "stderr",
     "output_type": "stream",
     "text": [
      "Epoch 7/10 [ResNet]: 100%|█████████████████████████████████████████████████████████████████████████████████████████████████████████████████| 390/390 [00:06<00:00, 57.93it/s]\n",
      "Validation [ResNet]: 100%|██████████████████████████████████████████████████████████████████████████████████████████████████████████████████| 79/79 [00:00<00:00, 130.96it/s]\n"
     ]
    },
    {
     "name": "stdout",
     "output_type": "stream",
     "text": [
      "Epoch 7/10 - ResNet - Train loss: 0.6477, Val loss: 0.7358, Val acc: 74.88%\n"
     ]
    },
    {
     "name": "stderr",
     "output_type": "stream",
     "text": [
      "Epoch 8/10 [ResNet]: 100%|█████████████████████████████████████████████████████████████████████████████████████████████████████████████████| 390/390 [00:06<00:00, 56.49it/s]\n",
      "Validation [ResNet]: 100%|██████████████████████████████████████████████████████████████████████████████████████████████████████████████████| 79/79 [00:00<00:00, 122.36it/s]\n"
     ]
    },
    {
     "name": "stdout",
     "output_type": "stream",
     "text": [
      "Epoch 8/10 - ResNet - Train loss: 0.6089, Val loss: 0.6941, Val acc: 76.34%\n"
     ]
    },
    {
     "name": "stderr",
     "output_type": "stream",
     "text": [
      "Epoch 9/10 [ResNet]: 100%|█████████████████████████████████████████████████████████████████████████████████████████████████████████████████| 390/390 [00:06<00:00, 57.31it/s]\n",
      "Validation [ResNet]: 100%|██████████████████████████████████████████████████████████████████████████████████████████████████████████████████| 79/79 [00:00<00:00, 131.63it/s]\n"
     ]
    },
    {
     "name": "stdout",
     "output_type": "stream",
     "text": [
      "Epoch 9/10 - ResNet - Train loss: 0.5733, Val loss: 0.6625, Val acc: 76.92%\n"
     ]
    },
    {
     "name": "stderr",
     "output_type": "stream",
     "text": [
      "Epoch 10/10 [ResNet]: 100%|████████████████████████████████████████████████████████████████████████████████████████████████████████████████| 390/390 [00:06<00:00, 56.32it/s]\n",
      "Validation [ResNet]: 100%|██████████████████████████████████████████████████████████████████████████████████████████████████████████████████| 79/79 [00:00<00:00, 130.44it/s]\n"
     ]
    },
    {
     "name": "stdout",
     "output_type": "stream",
     "text": [
      "Epoch 10/10 - ResNet - Train loss: 0.5400, Val loss: 0.6590, Val acc: 77.40%\n"
     ]
    },
    {
     "data": {
      "image/png": "[encoded data removed]",
      "text/plain": [
       "<Figure size 1000x600 with 1 Axes>"
      ]
     },
     "metadata": {},
     "output_type": "display_data"
    }
   ],
   "source": [
    "!pip install scikit-learn\n",
    "import sklearn\n",
    "import seaborn\n",
    "# Confusion matrix\n",
    "def plot_confusion_matrix(y_true, y_pred, classes):\n",
    "    \"\"\"Plot confusion matrix.\"\"\"\n",
    "    from sklearn.metrics import confusion_matrix\n",
    "    import seaborn as sns\n",
    "    \n",
    "    cm = confusion_matrix(y_true, y_pred)\n",
    "    cm_norm = cm.astype('float') / cm.sum(axis=1)[:, np.newaxis]\n",
    "    \n",
    "    plt.figure(figsize=(10, 8))\n",
    "    sns.heatmap(cm_norm, annot=True, fmt='.2f', cmap='Blues',\n",
    "                xticklabels=classes, yticklabels=classes)\n",
    "    plt.xlabel('Predicted')\n",
    "    plt.ylabel('True')\n",
    "    plt.title('Normalized Confusion Matrix')\n",
    "    plt.show()\n",
    "\n",
    "# Feature map visualization\n",
    "def visualize_feature_maps(model, image, device):\n",
    "    \"\"\"Visualize feature maps after each stage.\"\"\"\n",
    "    image = image.unsqueeze(0).to(device)\n",
    "    model.eval()\n",
    "    \n",
    "    # Extract feature maps at different stages\n",
    "    feature_maps = []\n",
    "    \n",
    "    # Stem\n",
    "    x = model.downsample_layers[0](image)\n",
    "    feature_maps.append(('Stem', x))\n",
    "    \n",
    "    # Stages\n",
    "    for i in range(4):\n",
    "        if i > 0:\n",
    "            x = model.downsample_layers[i](x)\n",
    "        x = model.stages[i](x)\n",
    "        feature_maps.append((f'Stage {i+1}', x))\n",
    "    \n",
    "    # Visualize\n",
    "    fig, axes = plt.subplots(len(feature_maps), 4, figsize=(16, 4*len(feature_maps)))\n",
    "    \n",
    "    for i, (name, feat_map) in enumerate(feature_maps):\n",
    "        # Select 4 random channels\n",
    "        b, c, h, w = feat_map.shape\n",
    "        indices = np.random.choice(c, 4, replace=False)\n",
    "        \n",
    "        for j, idx in enumerate(indices):\n",
    "            ax = axes[i, j]\n",
    "            fm = feat_map[0, idx].detach().cpu().numpy()\n",
    "            ax.imshow(fm, cmap='viridis')\n",
    "            ax.set_title(f'{name} - Channel {idx}')\n",
    "            ax.axis('off')\n",
    "    \n",
    "    plt.tight_layout()\n",
    "    plt.show()\n",
    "\n",
    "# Compare with a simple baseline (e.g., ResNet)\n",
    "def compare_with_baseline(train_loader, val_loader, device, num_classes=10):\n",
    "    \"\"\"Compare ConvNeXt with ResNet baseline.\"\"\"\n",
    "    from torchvision.models import resnet18\n",
    "    \n",
    "    # Initialize ResNet model\n",
    "    resnet_model = resnet18(pretrained=False, num_classes=num_classes)\n",
    "    resnet_model = resnet_model.to(device)\n",
    "    \n",
    "    # Training settings\n",
    "    optimizer = torch.optim.AdamW(resnet_model.parameters(), lr=0.001, weight_decay=0.05)\n",
    "    scheduler = torch.optim.lr_scheduler.CosineAnnealingLR(optimizer, T_max=epochs)\n",
    "    criterion = nn.CrossEntropyLoss()\n",
    "    \n",
    "    # Train ResNet for a few epochs\n",
    "    resnet_stats = {'train_losses': [], 'val_losses': [], 'train_accs': [], 'val_accs': []}\n",
    "    \n",
    "    for epoch in range(10):  # Just a few epochs for comparison\n",
    "        # Train\n",
    "        resnet_model.train()\n",
    "        train_loss = 0\n",
    "        correct = 0\n",
    "        total = 0\n",
    "        \n",
    "        for inputs, targets in tqdm(train_loader, desc=f\"Epoch {epoch+1}/10 [ResNet]\"):\n",
    "            inputs, targets = inputs.to(device), targets.to(device)\n",
    "            \n",
    "            outputs = resnet_model(inputs)\n",
    "            loss = criterion(outputs, targets)\n",
    "            \n",
    "            optimizer.zero_grad()\n",
    "            loss.backward()\n",
    "            optimizer.step()\n",
    "            \n",
    "            train_loss += loss.item()\n",
    "            _, predicted = outputs.max(1)\n",
    "            total += targets.size(0)\n",
    "            correct += predicted.eq(targets).sum().item()\n",
    "        \n",
    "        train_acc = 100. * correct / total\n",
    "        resnet_stats['train_losses'].append(train_loss / len(train_loader))\n",
    "        resnet_stats['train_accs'].append(train_acc)\n",
    "        \n",
    "        # Validate\n",
    "        resnet_model.eval()\n",
    "        val_loss = 0\n",
    "        correct = 0\n",
    "        total = 0\n",
    "        \n",
    "        with torch.no_grad():\n",
    "            for inputs, targets in tqdm(val_loader, desc=\"Validation [ResNet]\"):\n",
    "                inputs, targets = inputs.to(device), targets.to(device)\n",
    "                \n",
    "                outputs = resnet_model(inputs)\n",
    "                loss = criterion(outputs, targets)\n",
    "                \n",
    "                val_loss += loss.item()\n",
    "                _, predicted = outputs.max(1)\n",
    "                total += targets.size(0)\n",
    "                correct += predicted.eq(targets).sum().item()\n",
    "        \n",
    "        val_acc = 100. * correct / total\n",
    "        resnet_stats['val_losses'].append(val_loss / len(val_loader))\n",
    "        resnet_stats['val_accs'].append(val_acc)\n",
    "        \n",
    "        scheduler.step()\n",
    "        print(f\"Epoch {epoch+1}/10 - ResNet - Train loss: {train_loss/len(train_loader):.4f}, Val loss: {val_loss/len(val_loader):.4f}, Val acc: {val_acc:.2f}%\")\n",
    "    \n",
    "    # Compare validation accuracies\n",
    "    plt.figure(figsize=(10, 6))\n",
    "    plt.plot(resnet_stats['val_accs'], label='ResNet-18')\n",
    "    plt.plot(training_stats['val_accs'][:10], label='ConvNeXt-Tiny')  # First 10 epochs\n",
    "    plt.xlabel('Epoch')\n",
    "    plt.ylabel('Validation Accuracy (%)')\n",
    "    plt.title('Validation Accuracy Comparison')\n",
    "    plt.legend()\n",
    "    plt.grid(True)\n",
    "    plt.show()\n",
    "    \n",
    "    return resnet_stats\n",
    "\n",
    "# Plot confusion matrix\n",
    "plot_confusion_matrix(all_targets, all_preds, val_dataset.classes)\n",
    "\n",
    "# Visualize feature maps\n",
    "sample_image, _ = val_dataset[0]\n",
    "visualize_feature_maps(model, sample_image, device)\n",
    "\n",
    "# Compare with baseline\n",
    "baseline_stats = compare_with_baseline(train_loader, val_loader, device)"
   ]
  },
  {
   "cell_type": "markdown",
   "id": "33456c84",
   "metadata": {},
   "source": [
    "## 9. Conclusion and Next Steps"
   ]
  },
  {
   "cell_type": "code",
   "execution_count": 67,
   "id": "75348796",
   "metadata": {},
   "outputs": [
    {
     "name": "stdout",
     "output_type": "stream",
     "text": [
      "ConvNeXt Implementation Summary\n",
      "===============================\n",
      "Best validation accuracy: 79.29%\n",
      "Final validation accuracy: 79.27%\n",
      "\n",
      "ConvNeXt-Tiny Architecture:\n",
      "- Total parameters: 27,827,818\n",
      "- Trainable parameters: 27,827,818\n",
      "\n",
      "Training details:\n",
      "- Epochs: 50\n",
      "- Optimizer: AdamW (lr=0.001, weight_decay=0.05)\n",
      "- Learning rate schedule: Cosine with 5 epochs warmup\n",
      "- Data augmentation: RandomResizedCrop, RandomHorizontalFlip, Mixup/CutMix\n",
      "\n",
      "Observations:\n",
      "1. ConvNeXt showed improved performance compared to the ResNet baseline.\n",
      "2. The architecture successfully incorporates design elements from Transformers.\n",
      "3. Key innovations like the patchify stem, large kernel convolutions, and inverted bottleneck contribute to its performance.\n",
      "\n",
      "Next Steps:\n",
      "1. Implement improved activation functions beyond GELU.\n",
      "2. Explore alternative normalization strategies.\n",
      "3. Test on larger datasets and compare with more advanced models.\n",
      "4. Investigate the impact of different kernel sizes and expand ratios.\n"
     ]
    }
   ],
   "source": [
    "# Conclusion\n",
    "print(\"ConvNeXt Implementation Summary\")\n",
    "print(\"===============================\")\n",
    "print(f\"Best validation accuracy: {training_stats['best_val_acc']:.2f}%\")\n",
    "print(f\"Final validation accuracy: {training_stats['val_accs'][-1]:.2f}%\")\n",
    "print(\"\\nConvNeXt-Tiny Architecture:\")\n",
    "print(f\"- Total parameters: {sum(p.numel() for p in model.parameters()):,}\")\n",
    "print(f\"- Trainable parameters: {sum(p.numel() for p in model.parameters() if p.requires_grad):,}\")\n",
    "print(\"\\nTraining details:\")\n",
    "print(f\"- Epochs: {epochs}\")\n",
    "print(f\"- Optimizer: AdamW (lr={lr}, weight_decay={weight_decay})\")\n",
    "print(f\"- Learning rate schedule: Cosine with {warmup_epochs} epochs warmup\")\n",
    "print(f\"- Data augmentation: RandomResizedCrop, RandomHorizontalFlip, Mixup/CutMix\")\n",
    "\n",
    "print(\"\\nObservations:\")\n",
    "print(\"1. ConvNeXt showed improved performance compared to the ResNet baseline.\")\n",
    "print(\"2. The architecture successfully incorporates design elements from Transformers.\")\n",
    "print(\"3. Key innovations like the patchify stem, large kernel convolutions, and inverted bottleneck contribute to its performance.\")\n",
    "\n",
    "print(\"\\nNext Steps:\")\n",
    "print(\"1. Implement improved activation functions beyond GELU.\")\n",
    "print(\"2. Explore alternative normalization strategies.\")\n",
    "print(\"3. Test on larger datasets and compare with more advanced models.\")\n",
    "print(\"4. Investigate the impact of different kernel sizes and expand ratios.\")"
   ]
  }
 ],
 "metadata": {
  "kernelspec": {
   "display_name": "Python 3 (ipykernel)",
   "language": "python",
   "name": "python3"
  },
  "language_info": {
   "codemirror_mode": {
    "name": "ipython",
    "version": 3
   },
   "file_extension": ".py",
   "mimetype": "text/x-python",
   "name": "python",
   "nbconvert_exporter": "python",
   "pygments_lexer": "ipython3",
   "version": "3.11.11"
  }
 },
 "nbformat": 4,
 "nbformat_minor": 5
}
