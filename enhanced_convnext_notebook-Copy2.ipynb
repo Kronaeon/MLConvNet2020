{
 "cells": [
  {
   "cell_type": "markdown",
   "id": "fa8aa97d",
   "metadata": {},
   "source": [
    "# Implementation of ConvNeXt: A ConvNet for the 2020s\n",
    "# With Activation Function and Normalization Improvements\n",
    "\n",
    "This notebook implements the ConvNeXt architecture as described in the paper \"A ConvNet for the 2020s\" by Liu et al. ConvNeXt is a pure convolutional neural network architecture designed to match or exceed the performance of Vision Transformers while maintaining the simplicity and efficiency of traditional ConvNets.\n",
    "\n",
    "## Table of Contents\n",
    "\n",
    "1. [Introduction](#1-introduction)\n",
    "2. [Setup and Imports](#2-setup-and-imports)\n",
    "3. [Architecture Implementation](#3-architecture-implementation)\n",
    "4. [Dataset Preparation](#4-dataset-preparation)\n",
    "5. [Training Setup](#5-training-setup)\n",
    "6. [Model Training](#6-model-training)\n",
    "7. [Model Evaluation](#7-model-evaluation)\n",
    "8. [Performance Analysis](#8-performance-analysis)\n",
    "9. [Conclusion and Next Steps](#9-conclusion-and-next-steps)\n",
    "\n",
    "## 1. Introduction\n",
    "\n",
    "The paper \"A ConvNet for the 2020s\" explores the design space of convolutional neural networks by gradually \"modernizing\" a standard ResNet toward the design of a vision Transformer. The authors discover several key components that contribute to the performance difference along the way, resulting in the ConvNeXt architecture.\n",
    "\n",
    "Key innovations of ConvNeXt include:\n",
    "\n",
    "- Replacing the traditional stem with a \"patchify\" layer (4×4 non-overlapping convolution)\n",
    "- Using depthwise convolutions with larger kernel sizes (7×7)\n",
    "- Adopting an inverted bottleneck design\n",
    "- Reducing the number of activation functions and normalization layers\n",
    "- Substituting BatchNorm with LayerNorm\n",
    "- Adding separate downsampling layers between stages\n",
    "\n",
    "These modifications allow ConvNeXt to achieve performance comparable to or better than Swin Transformers across various vision tasks while maintaining the simplicity of standard ConvNets.\n",
    "\n",
    "# [ADDED] Improvements implemented in this notebook:\n",
    "# 1. Activation Function Optimization: Testing alternatives to GELU\n",
    "# 2. Normalization Strategy Improvements: Testing alternatives to LayerNorm\n",
    "# The goal is to determine which combinations yield the best performance.\n",
    "\n",
    "## 2. Setup and Imports\n",
    "\n",
    "Let's start by installing and importing the necessary packages:"
   ]
  },
  {
   "cell_type": "code",
   "execution_count": 1,
   "id": "f4f03080",
   "metadata": {},
   "outputs": [],
   "source": [
    "# Install packages (if needed)\n",
    "# !pip install torch torchvision timm matplotlib numpy pandas seaborn tqdm ipywidgets"
   ]
  },
  {
   "cell_type": "code",
   "execution_count": 2,
   "id": "081f2ec8",
   "metadata": {},
   "outputs": [
    {
     "name": "stderr",
     "output_type": "stream",
     "text": [
      "/home/horus/Workspace/miniconda3/envs/jupyter/lib/python3.11/site-packages/timm/models/layers/__init__.py:48: FutureWarning: Importing from timm.models.layers is deprecated, please import via timm.layers\n",
      "  warnings.warn(f\"Importing from {__name__} is deprecated, please import via timm.layers\", FutureWarning)\n"
     ]
    },
    {
     "name": "stdout",
     "output_type": "stream",
     "text": [
      "Using device: cuda\n"
     ]
    }
   ],
   "source": [
    "import os\n",
    "import math\n",
    "import time\n",
    "import numpy as np\n",
    "import matplotlib.pyplot as plt\n",
    "import torch\n",
    "import torch.nn as nn\n",
    "import torch.nn.functional as F\n",
    "from torch.utils.data import DataLoader\n",
    "from torchvision import datasets, transforms\n",
    "from timm.models.layers import trunc_normal_, DropPath\n",
    "from timm.data.transforms import RandomResizedCropAndInterpolation\n",
    "from timm.data.mixup import Mixup\n",
    "from timm.loss import LabelSmoothingCrossEntropy, SoftTargetCrossEntropy\n",
    "from tqdm.notebook import tqdm\n",
    "import pandas as pd  # [ADDED] For summary table\n",
    "\n",
    "# Set random seed for reproducibility\n",
    "torch.manual_seed(42)\n",
    "np.random.seed(42)\n",
    "\n",
    "# Check if CUDA is available\n",
    "device = torch.device('cuda' if torch.cuda.is_available() else 'cpu')\n",
    "print(f\"Using device: {device}\")"
   ]
  },
  {
   "cell_type": "markdown",
   "id": "854784f3",
   "metadata": {},
   "source": [
    "## 3. Architecture Implementation\n",
    "\n",
    "Now, let's implement the core components of the ConvNeXt architecture:\n",
    "\n",
    "### 3.1 LayerNorm Implementation\n",
    "\n",
    "The ConvNeXt architecture uses LayerNorm instead of BatchNorm, with support for both channels_last and channels_first formats:"
   ]
  },
  {
   "cell_type": "code",
   "execution_count": 3,
   "id": "b89cac71",
   "metadata": {},
   "outputs": [],
   "source": [
    "class LayerNorm(nn.Module):\n",
    "    \"\"\"\n",
    "    LayerNorm that supports two data formats: channels_last (default) or channels_first.\n",
    "    channels_last = (batch_size, height, width, channels)\n",
    "    channels_first = (batch_size, channels, height, width)\n",
    "    \"\"\"\n",
    "    def __init__(self, normalized_shape, eps=1e-6, data_format=\"channels_last\"):\n",
    "        super().__init__()\n",
    "        self.weight = nn.Parameter(torch.ones(normalized_shape))\n",
    "        self.bias = nn.Parameter(torch.zeros(normalized_shape))\n",
    "        self.eps = eps\n",
    "        self.data_format = data_format\n",
    "        if self.data_format not in [\"channels_last\", \"channels_first\"]:\n",
    "            raise NotImplementedError\n",
    "        self.normalized_shape = (normalized_shape, )\n",
    "    \n",
    "    def forward(self, x):\n",
    "        if self.data_format == \"channels_last\":\n",
    "            return F.layer_norm(x, self.normalized_shape, self.weight, self.bias, self.eps)\n",
    "        elif self.data_format == \"channels_first\":\n",
    "            u = x.mean(1, keepdim=True)\n",
    "            s = (x - u).pow(2).mean(1, keepdim=True)\n",
    "            x = (x - u) / torch.sqrt(s + self.eps)\n",
    "            x = self.weight[:, None, None] * x + self.bias[:, None, None]\n",
    "            return x"
   ]
  },
  {
   "cell_type": "markdown",
   "id": "c68eeb5c",
   "metadata": {
    "lines_to_next_cell": 0
   },
   "source": [
    "# [ADDED] Additional normalization strategies"
   ]
  },
  {
   "cell_type": "code",
   "execution_count": 4,
   "id": "0628d0ef",
   "metadata": {},
   "outputs": [],
   "source": [
    "# [ADDED] GroupNorm wrapper\n",
    "class GroupNormWrapper(nn.Module):\n",
    "    \"\"\"\n",
    "    GroupNorm wrapper that handles both channels_first and channels_last formats\n",
    "    \"\"\"\n",
    "    def __init__(self, dim, num_groups=8, eps=1e-6):\n",
    "        super().__init__()\n",
    "        self.gn = nn.GroupNorm(num_groups, dim, eps=eps)\n",
    "        self.dim = dim\n",
    "        \n",
    "    def forward(self, x):\n",
    "        # Handle both channels_first and channels_last formats\n",
    "        if x.ndim == 4 and x.shape[-1] == self.dim:\n",
    "            # Input is (N, H, W, C), convert to (N, C, H, W)\n",
    "            x = x.permute(0, 3, 1, 2)\n",
    "            x = self.gn(x)\n",
    "            x = x.permute(0, 2, 3, 1)\n",
    "        else:\n",
    "            x = self.gn(x)\n",
    "        return x\n",
    "\n",
    "# [ADDED] InstanceNorm wrapper\n",
    "class InstanceNormWrapper(nn.Module):\n",
    "    \"\"\"\n",
    "    InstanceNorm wrapper that handles both channels_first and channels_last formats\n",
    "    and gracefully handles small spatial dimensions\n",
    "    \"\"\"\n",
    "    def __init__(self, dim, eps=1e-6):\n",
    "        super().__init__()\n",
    "        self.in_norm = nn.InstanceNorm2d(dim, eps=eps, affine=True)\n",
    "        self.dim = dim\n",
    "        \n",
    "    def forward(self, x):\n",
    "        # Handle both channels_first and channels_last formats\n",
    "        if x.ndim == 4 and x.shape[-1] == self.dim:\n",
    "            # Input is (N, H, W, C), convert to (N, C, H, W)\n",
    "            x = x.permute(0, 3, 1, 2)\n",
    "            \n",
    "            # Check spatial dimensions - if too small for InstanceNorm, just pass through\n",
    "            if x.size(2) <= 1 and x.size(3) <= 1:\n",
    "                # For 1x1 spatial dimensions, skip InstanceNorm\n",
    "                result = x\n",
    "            else:\n",
    "                result = self.in_norm(x)\n",
    "                \n",
    "            x = result.permute(0, 2, 3, 1)\n",
    "        else:\n",
    "            # Check spatial dimensions - if too small for InstanceNorm, just pass through\n",
    "            if x.size(2) <= 1 and x.size(3) <= 1:\n",
    "                # For 1x1 spatial dimensions, skip InstanceNorm\n",
    "                x = x\n",
    "            else:\n",
    "                x = self.in_norm(x)\n",
    "                \n",
    "        return x\n",
    "\n",
    "# [ADDED] Hybrid Layer-Instance Norm\n",
    "class LayerInstanceNorm(nn.Module):\n",
    "    \"\"\"\n",
    "    Hybrid normalization combining LayerNorm and InstanceNorm\n",
    "    with a learnable weight parameter\n",
    "    \"\"\"\n",
    "    def __init__(self, dim, eps=1e-6):\n",
    "        super().__init__()\n",
    "        self.layer_norm = LayerNorm(dim, eps=eps)\n",
    "        self.instance_norm = InstanceNormWrapper(dim, eps=eps)\n",
    "        self.alpha = nn.Parameter(torch.zeros(1) + 0.5)  # Learnable parameter, initialize at 0.5\n",
    "        \n",
    "    def forward(self, x):\n",
    "        ln_out = self.layer_norm(x)\n",
    "        \n",
    "        # At small spatial dimensions, just use LayerNorm\n",
    "        if (x.ndim == 4 and x.shape[1] == self.dim and (x.size(2) <= 1 and x.size(3) <= 1)) or \\\n",
    "           (x.ndim == 4 and x.shape[-1] == self.dim and (x.size(1) <= 1 and x.size(2) <= 1)):\n",
    "            return ln_out\n",
    "            \n",
    "        in_out = self.instance_norm(x)\n",
    "        # Combine using learnable parameter\n",
    "        return self.alpha * ln_out + (1 - self.alpha) * in_out"
   ]
  },
  {
   "cell_type": "markdown",
   "id": "bafc82f7",
   "metadata": {
    "lines_to_next_cell": 0
   },
   "source": [
    "# [ADDED] Custom activation functions"
   ]
  },
  {
   "cell_type": "code",
   "execution_count": 5,
   "id": "64c9d454",
   "metadata": {},
   "outputs": [],
   "source": [
    "# [ADDED] Custom activation functions\n",
    "class Mish(nn.Module):\n",
    "    \"\"\"\n",
    "    Mish activation function: x * tanh(softplus(x))\n",
    "    Paper: https://arxiv.org/abs/1908.08681\n",
    "    \"\"\"\n",
    "    def __init__(self):\n",
    "        super().__init__()\n",
    "    \n",
    "    def forward(self, x):\n",
    "        return x * torch.tanh(F.softplus(x))\n",
    "\n",
    "# Function to get activation by name\n",
    "def get_activation(name):\n",
    "    \"\"\"Helper function to get activation function by name\"\"\"\n",
    "    activations = {\n",
    "        \"gelu\": nn.GELU,\n",
    "        \"relu\": nn.ReLU,\n",
    "        \"silu\": nn.SiLU,  # Also known as Swish\n",
    "        \"mish\": Mish,\n",
    "        \"hardswish\": nn.Hardswish\n",
    "    }\n",
    "    return activations.get(name.lower(), nn.GELU)"
   ]
  },
  {
   "cell_type": "markdown",
   "id": "46b5fe14",
   "metadata": {},
   "source": [
    "### 3.2 ConvNeXt Block Implementation\n",
    "\n",
    "The ConvNeXt Block is the fundamental building block of the architecture:"
   ]
  },
  {
   "cell_type": "code",
   "execution_count": 6,
   "id": "040bd7f3",
   "metadata": {},
   "outputs": [],
   "source": [
    "class Block(nn.Module):\n",
    "    \"\"\"\n",
    "    ConvNeXt Block. There are two equivalent implementations:\n",
    "    (1) DwConv -> LayerNorm (channels_first) -> 1x1 Conv -> GELU -> 1x1 Conv; all in (N, C, H, W)\n",
    "    (2) DwConv -> Permute to (N, H, W, C); LayerNorm (channels_last) -> Linear -> GELU -> Linear; Permute back\n",
    "    \n",
    "    We use (2) as it's slightly faster in PyTorch.\n",
    "    \"\"\"\n",
    "    # [MODIFIED] Added act_layer and norm_layer parameters\n",
    "    def __init__(self, dim, drop_path=0., layer_scale_init_value=1e-6, \n",
    "                 act_layer=nn.GELU, norm_layer=None):\n",
    "        super().__init__()\n",
    "        self.dwconv = nn.Conv2d(dim, dim, kernel_size=7, padding=3, groups=dim)  # depthwise conv\n",
    "        \n",
    "        # [MODIFIED] Support for custom normalization\n",
    "        if norm_layer is None:\n",
    "            self.norm = LayerNorm(dim, eps=1e-6)\n",
    "        else:\n",
    "            self.norm = norm_layer(dim)\n",
    "            \n",
    "        self.pwconv1 = nn.Linear(dim, 4 * dim)  # pointwise/1x1 convs, implemented with linear layers\n",
    "        \n",
    "        # [MODIFIED] Support for custom activation\n",
    "        self.act = act_layer()\n",
    "        \n",
    "        self.pwconv2 = nn.Linear(4 * dim, dim)\n",
    "        self.gamma = nn.Parameter(layer_scale_init_value * torch.ones((dim)), \n",
    "                                requires_grad=True) if layer_scale_init_value > 0 else None\n",
    "        self.drop_path = DropPath(drop_path) if drop_path > 0. else nn.Identity()\n",
    "\n",
    "    def forward(self, x):\n",
    "        input = x\n",
    "        x = self.dwconv(x)\n",
    "        x = x.permute(0, 2, 3, 1)  # (N, C, H, W) -> (N, H, W, C)\n",
    "        x = self.norm(x)\n",
    "        x = self.pwconv1(x)\n",
    "        x = self.act(x)\n",
    "        x = self.pwconv2(x)\n",
    "        if self.gamma is not None:\n",
    "            x = self.gamma * x\n",
    "        x = x.permute(0, 3, 1, 2)  # (N, H, W, C) -> (N, C, H, W)\n",
    "\n",
    "        x = input + self.drop_path(x)\n",
    "        return x"
   ]
  },
  {
   "cell_type": "markdown",
   "id": "e26da816",
   "metadata": {},
   "source": [
    "### 3.3 ConvNeXt Architecture Implementation\n",
    "\n",
    "Now, let's implement the complete ConvNeXt architecture:"
   ]
  },
  {
   "cell_type": "code",
   "execution_count": 7,
   "id": "7dd959e7",
   "metadata": {},
   "outputs": [],
   "source": [
    "class ConvNeXt(nn.Module):\n",
    "    \"\"\"\n",
    "    ConvNeXt\n",
    "    A PyTorch implementation of: \"A ConvNet for the 2020s\" - https://arxiv.org/pdf/2201.03545.pdf\n",
    "    \"\"\"\n",
    "    # [MODIFIED] Added support for custom activation and normalization\n",
    "    def __init__(self, in_chans=3, num_classes=1000, \n",
    "                 depths=[3, 3, 9, 3], dims=[96, 192, 384, 768], drop_path_rate=0., \n",
    "                 layer_scale_init_value=1e-6, head_init_scale=1.,\n",
    "                 act_layer=nn.GELU, norm_layer=None):\n",
    "        super().__init__()\n",
    "\n",
    "        # Stem layer - \"patchify\" the image\n",
    "        self.downsample_layers = nn.ModuleList()\n",
    "        \n",
    "        # [MODIFIED] Support for custom normalization in stem\n",
    "        stem = nn.Sequential(\n",
    "            nn.Conv2d(in_chans, dims[0], kernel_size=4, stride=4),\n",
    "            LayerNorm(dims[0], eps=1e-6, data_format=\"channels_first\") if norm_layer is None \n",
    "            else norm_layer(dims[0])\n",
    "        )\n",
    "        self.downsample_layers.append(stem)\n",
    "        \n",
    "        # Downsampling layers between stages\n",
    "        # [MODIFIED] Support for custom normalization in downsampling layers\n",
    "        for i in range(3):\n",
    "            norm = LayerNorm(dims[i], eps=1e-6, data_format=\"channels_first\") if norm_layer is None else norm_layer(dims[i])\n",
    "            downsample_layer = nn.Sequential(\n",
    "                    norm,\n",
    "                    nn.Conv2d(dims[i], dims[i+1], kernel_size=2, stride=2),\n",
    "            )\n",
    "            self.downsample_layers.append(downsample_layer)\n",
    "\n",
    "        # Four stages, each with multiple ConvNeXt blocks\n",
    "        self.stages = nn.ModuleList()\n",
    "        dp_rates = [x.item() for x in torch.linspace(0, drop_path_rate, sum(depths))] \n",
    "        cur = 0\n",
    "        \n",
    "        # [MODIFIED] Pass custom activation and normalization to blocks\n",
    "        for i in range(4):\n",
    "            stage = nn.Sequential(\n",
    "                *[Block(dim=dims[i], drop_path=dp_rates[cur + j], \n",
    "                layer_scale_init_value=layer_scale_init_value,\n",
    "                act_layer=act_layer,\n",
    "                norm_layer=norm_layer) for j in range(depths[i])]\n",
    "            )\n",
    "            self.stages.append(stage)\n",
    "            cur += depths[i]\n",
    "\n",
    "        # Final norm layer, pooling and classifier\n",
    "        self.norm = nn.LayerNorm(dims[-1], eps=1e-6)  # final norm layer\n",
    "        self.head = nn.Linear(dims[-1], num_classes)\n",
    "\n",
    "        # Initialize weights\n",
    "        self.apply(self._init_weights)\n",
    "        self.head.weight.data.mul_(head_init_scale)\n",
    "        self.head.bias.data.mul_(head_init_scale)\n",
    "\n",
    "    def _init_weights(self, m):\n",
    "        if isinstance(m, (nn.Conv2d, nn.Linear)):\n",
    "            trunc_normal_(m.weight, std=.02)\n",
    "            nn.init.constant_(m.bias, 0)\n",
    "\n",
    "    def forward_features(self, x):\n",
    "        for i in range(4):\n",
    "            x = self.downsample_layers[i](x)\n",
    "            x = self.stages[i](x)\n",
    "        return self.norm(x.mean([-2, -1]))  # global average pooling, (N, C, H, W) -> (N, C)\n",
    "\n",
    "    def forward(self, x):\n",
    "        x = self.forward_features(x)\n",
    "        x = self.head(x)\n",
    "        return x"
   ]
  },
  {
   "cell_type": "markdown",
   "id": "b3cbebf2",
   "metadata": {},
   "source": [
    "### 3.4 ConvNeXt Variants\n",
    "\n",
    "Let's implement functions to create different variants of ConvNeXt:"
   ]
  },
  {
   "cell_type": "code",
   "execution_count": 8,
   "id": "914915f3",
   "metadata": {},
   "outputs": [],
   "source": [
    "# [MODIFIED] Added support for custom activation and normalization\n",
    "def convnext_tiny(num_classes=1000, act_layer=nn.GELU, norm_layer=None, **kwargs):\n",
    "    model = ConvNeXt(depths=[3, 3, 9, 3], dims=[96, 192, 384, 768], \n",
    "                   num_classes=num_classes, act_layer=act_layer, norm_layer=norm_layer, **kwargs)\n",
    "    return model\n",
    "\n",
    "def convnext_small(num_classes=1000, act_layer=nn.GELU, norm_layer=None, **kwargs):\n",
    "    model = ConvNeXt(depths=[3, 3, 27, 3], dims=[96, 192, 384, 768], \n",
    "                   num_classes=num_classes, act_layer=act_layer, norm_layer=norm_layer, **kwargs)\n",
    "    return model\n",
    "\n",
    "def convnext_base(num_classes=1000, act_layer=nn.GELU, norm_layer=None, **kwargs):\n",
    "    model = ConvNeXt(depths=[3, 3, 27, 3], dims=[128, 256, 512, 1024], \n",
    "                   num_classes=num_classes, act_layer=act_layer, norm_layer=norm_layer, **kwargs)\n",
    "    return model\n",
    "\n",
    "def convnext_large(num_classes=1000, act_layer=nn.GELU, norm_layer=None, **kwargs):\n",
    "    model = ConvNeXt(depths=[3, 3, 27, 3], dims=[192, 384, 768, 1536], \n",
    "                   num_classes=num_classes, act_layer=act_layer, norm_layer=norm_layer, **kwargs)\n",
    "    return model\n",
    "\n",
    "def convnext_xlarge(num_classes=1000, act_layer=nn.GELU, norm_layer=None, **kwargs):\n",
    "    model = ConvNeXt(depths=[3, 3, 27, 3], dims=[256, 512, 1024, 2048], \n",
    "                   num_classes=num_classes, act_layer=act_layer, norm_layer=norm_layer, **kwargs)\n",
    "    return model"
   ]
  },
  {
   "cell_type": "markdown",
   "id": "c5114ef5",
   "metadata": {
    "lines_to_next_cell": 0
   },
   "source": [
    "# [ADDED] Factory functions for different variants"
   ]
  },
  {
   "cell_type": "code",
   "execution_count": 9,
   "id": "0640bb6a",
   "metadata": {},
   "outputs": [],
   "source": [
    "# [ADDED] Factory functions for model variants with different activation functions\n",
    "def convnext_tiny_gelu(num_classes=10, norm_layer=None, **kwargs):\n",
    "    \"\"\"ConvNeXt-Tiny with GELU activation (original)\"\"\"\n",
    "    return convnext_tiny(num_classes=num_classes, act_layer=nn.GELU, norm_layer=norm_layer, **kwargs)\n",
    "\n",
    "def convnext_tiny_silu(num_classes=10, norm_layer=None, **kwargs):\n",
    "    \"\"\"ConvNeXt-Tiny with SiLU/Swish activation\"\"\"\n",
    "    return convnext_tiny(num_classes=num_classes, act_layer=nn.SiLU, norm_layer=norm_layer, **kwargs)\n",
    "\n",
    "def convnext_tiny_mish(num_classes=10, norm_layer=None, **kwargs):\n",
    "    \"\"\"ConvNeXt-Tiny with Mish activation\"\"\"\n",
    "    return convnext_tiny(num_classes=num_classes, act_layer=Mish, norm_layer=norm_layer, **kwargs)\n",
    "\n",
    "def convnext_tiny_hardswish(num_classes=10, norm_layer=None, **kwargs):\n",
    "    \"\"\"ConvNeXt-Tiny with HardSwish activation\"\"\"\n",
    "    return convnext_tiny(num_classes=num_classes, act_layer=nn.Hardswish, norm_layer=norm_layer, **kwargs)\n",
    "\n",
    "# [ADDED] Factory functions for model variants with different normalization strategies\n",
    "def convnext_tiny_group_norm(num_classes=10, act_layer=nn.GELU, num_groups=8, **kwargs):\n",
    "    \"\"\"ConvNeXt-Tiny with GroupNorm\"\"\"\n",
    "    return convnext_tiny(\n",
    "        num_classes=num_classes, \n",
    "        act_layer=act_layer, \n",
    "        norm_layer=lambda dim: GroupNormWrapper(dim, num_groups=num_groups), \n",
    "        **kwargs\n",
    "    )\n",
    "\n",
    "def convnext_tiny_instance_norm(num_classes=10, act_layer=nn.GELU, **kwargs):\n",
    "    \"\"\"ConvNeXt-Tiny with InstanceNorm\"\"\"\n",
    "    return convnext_tiny(\n",
    "        num_classes=num_classes, \n",
    "        act_layer=act_layer, \n",
    "        norm_layer=InstanceNormWrapper, \n",
    "        **kwargs\n",
    "    )\n",
    "\n",
    "def convnext_tiny_layer_instance_norm(num_classes=10, act_layer=nn.GELU, **kwargs):\n",
    "    \"\"\"ConvNeXt-Tiny with hybrid Layer-Instance Norm\"\"\"\n",
    "    return convnext_tiny(\n",
    "        num_classes=num_classes, \n",
    "        act_layer=act_layer, \n",
    "        norm_layer=LayerInstanceNorm, \n",
    "        **kwargs\n",
    "    )"
   ]
  },
  {
   "cell_type": "markdown",
   "id": "02323d6b",
   "metadata": {},
   "source": [
    "### 3.5 Model Analysis\n",
    "\n",
    "Let's create a function to analyze the model's structure:"
   ]
  },
  {
   "cell_type": "code",
   "execution_count": 10,
   "id": "6f68d190",
   "metadata": {},
   "outputs": [
    {
     "name": "stdout",
     "output_type": "stream",
     "text": [
      "ConvNeXt(\n",
      "  (downsample_layers): ModuleList(\n",
      "    (0): Sequential(\n",
      "      (0): Conv2d(3, 96, kernel_size=(4, 4), stride=(4, 4))\n",
      "      (1): LayerNorm()\n",
      "    )\n",
      "    (1): Sequential(\n",
      "      (0): LayerNorm()\n",
      "      (1): Conv2d(96, 192, kernel_size=(2, 2), stride=(2, 2))\n",
      "    )\n",
      "    (2): Sequential(\n",
      "      (0): LayerNorm()\n",
      "      (1): Conv2d(192, 384, kernel_size=(2, 2), stride=(2, 2))\n",
      "    )\n",
      "    (3): Sequential(\n",
      "      (0): LayerNorm()\n",
      "      (1): Conv2d(384, 768, kernel_size=(2, 2), stride=(2, 2))\n",
      "    )\n",
      "  )\n",
      "  (stages): ModuleList(\n",
      "    (0): Sequential(\n",
      "      (0): Block(\n",
      "        (dwconv): Conv2d(96, 96, kernel_size=(7, 7), stride=(1, 1), padding=(3, 3), groups=96)\n",
      "        (norm): LayerNorm()\n",
      "        (pwconv1): Linear(in_features=96, out_features=384, bias=True)\n",
      "        (act): GELU(approximate='none')\n",
      "        (pwconv2): Linear(in_features=384, out_features=96, bias=True)\n",
      "        (drop_path): Identity()\n",
      "      )\n",
      "      (1): Block(\n",
      "        (dwconv): Conv2d(96, 96, kernel_size=(7, 7), stride=(1, 1), padding=(3, 3), groups=96)\n",
      "        (norm): LayerNorm()\n",
      "        (pwconv1): Linear(in_features=96, out_features=384, bias=True)\n",
      "        (act): GELU(approximate='none')\n",
      "        (pwconv2): Linear(in_features=384, out_features=96, bias=True)\n",
      "        (drop_path): Identity()\n",
      "      )\n",
      "      (2): Block(\n",
      "        (dwconv): Conv2d(96, 96, kernel_size=(7, 7), stride=(1, 1), padding=(3, 3), groups=96)\n",
      "        (norm): LayerNorm()\n",
      "        (pwconv1): Linear(in_features=96, out_features=384, bias=True)\n",
      "        (act): GELU(approximate='none')\n",
      "        (pwconv2): Linear(in_features=384, out_features=96, bias=True)\n",
      "        (drop_path): Identity()\n",
      "      )\n",
      "    )\n",
      "    (1): Sequential(\n",
      "      (0): Block(\n",
      "        (dwconv): Conv2d(192, 192, kernel_size=(7, 7), stride=(1, 1), padding=(3, 3), groups=192)\n",
      "        (norm): LayerNorm()\n",
      "        (pwconv1): Linear(in_features=192, out_features=768, bias=True)\n",
      "        (act): GELU(approximate='none')\n",
      "        (pwconv2): Linear(in_features=768, out_features=192, bias=True)\n",
      "        (drop_path): Identity()\n",
      "      )\n",
      "      (1): Block(\n",
      "        (dwconv): Conv2d(192, 192, kernel_size=(7, 7), stride=(1, 1), padding=(3, 3), groups=192)\n",
      "        (norm): LayerNorm()\n",
      "        (pwconv1): Linear(in_features=192, out_features=768, bias=True)\n",
      "        (act): GELU(approximate='none')\n",
      "        (pwconv2): Linear(in_features=768, out_features=192, bias=True)\n",
      "        (drop_path): Identity()\n",
      "      )\n",
      "      (2): Block(\n",
      "        (dwconv): Conv2d(192, 192, kernel_size=(7, 7), stride=(1, 1), padding=(3, 3), groups=192)\n",
      "        (norm): LayerNorm()\n",
      "        (pwconv1): Linear(in_features=192, out_features=768, bias=True)\n",
      "        (act): GELU(approximate='none')\n",
      "        (pwconv2): Linear(in_features=768, out_features=192, bias=True)\n",
      "        (drop_path): Identity()\n",
      "      )\n",
      "    )\n",
      "    (2): Sequential(\n",
      "      (0): Block(\n",
      "        (dwconv): Conv2d(384, 384, kernel_size=(7, 7), stride=(1, 1), padding=(3, 3), groups=384)\n",
      "        (norm): LayerNorm()\n",
      "        (pwconv1): Linear(in_features=384, out_features=1536, bias=True)\n",
      "        (act): GELU(approximate='none')\n",
      "        (pwconv2): Linear(in_features=1536, out_features=384, bias=True)\n",
      "        (drop_path): Identity()\n",
      "      )\n",
      "      (1): Block(\n",
      "        (dwconv): Conv2d(384, 384, kernel_size=(7, 7), stride=(1, 1), padding=(3, 3), groups=384)\n",
      "        (norm): LayerNorm()\n",
      "        (pwconv1): Linear(in_features=384, out_features=1536, bias=True)\n",
      "        (act): GELU(approximate='none')\n",
      "        (pwconv2): Linear(in_features=1536, out_features=384, bias=True)\n",
      "        (drop_path): Identity()\n",
      "      )\n",
      "      (2): Block(\n",
      "        (dwconv): Conv2d(384, 384, kernel_size=(7, 7), stride=(1, 1), padding=(3, 3), groups=384)\n",
      "        (norm): LayerNorm()\n",
      "        (pwconv1): Linear(in_features=384, out_features=1536, bias=True)\n",
      "        (act): GELU(approximate='none')\n",
      "        (pwconv2): Linear(in_features=1536, out_features=384, bias=True)\n",
      "        (drop_path): Identity()\n",
      "      )\n",
      "      (3): Block(\n",
      "        (dwconv): Conv2d(384, 384, kernel_size=(7, 7), stride=(1, 1), padding=(3, 3), groups=384)\n",
      "        (norm): LayerNorm()\n",
      "        (pwconv1): Linear(in_features=384, out_features=1536, bias=True)\n",
      "        (act): GELU(approximate='none')\n",
      "        (pwconv2): Linear(in_features=1536, out_features=384, bias=True)\n",
      "        (drop_path): Identity()\n",
      "      )\n",
      "      (4): Block(\n",
      "        (dwconv): Conv2d(384, 384, kernel_size=(7, 7), stride=(1, 1), padding=(3, 3), groups=384)\n",
      "        (norm): LayerNorm()\n",
      "        (pwconv1): Linear(in_features=384, out_features=1536, bias=True)\n",
      "        (act): GELU(approximate='none')\n",
      "        (pwconv2): Linear(in_features=1536, out_features=384, bias=True)\n",
      "        (drop_path): Identity()\n",
      "      )\n",
      "      (5): Block(\n",
      "        (dwconv): Conv2d(384, 384, kernel_size=(7, 7), stride=(1, 1), padding=(3, 3), groups=384)\n",
      "        (norm): LayerNorm()\n",
      "        (pwconv1): Linear(in_features=384, out_features=1536, bias=True)\n",
      "        (act): GELU(approximate='none')\n",
      "        (pwconv2): Linear(in_features=1536, out_features=384, bias=True)\n",
      "        (drop_path): Identity()\n",
      "      )\n",
      "      (6): Block(\n",
      "        (dwconv): Conv2d(384, 384, kernel_size=(7, 7), stride=(1, 1), padding=(3, 3), groups=384)\n",
      "        (norm): LayerNorm()\n",
      "        (pwconv1): Linear(in_features=384, out_features=1536, bias=True)\n",
      "        (act): GELU(approximate='none')\n",
      "        (pwconv2): Linear(in_features=1536, out_features=384, bias=True)\n",
      "        (drop_path): Identity()\n",
      "      )\n",
      "      (7): Block(\n",
      "        (dwconv): Conv2d(384, 384, kernel_size=(7, 7), stride=(1, 1), padding=(3, 3), groups=384)\n",
      "        (norm): LayerNorm()\n",
      "        (pwconv1): Linear(in_features=384, out_features=1536, bias=True)\n",
      "        (act): GELU(approximate='none')\n",
      "        (pwconv2): Linear(in_features=1536, out_features=384, bias=True)\n",
      "        (drop_path): Identity()\n",
      "      )\n",
      "      (8): Block(\n",
      "        (dwconv): Conv2d(384, 384, kernel_size=(7, 7), stride=(1, 1), padding=(3, 3), groups=384)\n",
      "        (norm): LayerNorm()\n",
      "        (pwconv1): Linear(in_features=384, out_features=1536, bias=True)\n",
      "        (act): GELU(approximate='none')\n",
      "        (pwconv2): Linear(in_features=1536, out_features=384, bias=True)\n",
      "        (drop_path): Identity()\n",
      "      )\n",
      "    )\n",
      "    (3): Sequential(\n",
      "      (0): Block(\n",
      "        (dwconv): Conv2d(768, 768, kernel_size=(7, 7), stride=(1, 1), padding=(3, 3), groups=768)\n",
      "        (norm): LayerNorm()\n",
      "        (pwconv1): Linear(in_features=768, out_features=3072, bias=True)\n",
      "        (act): GELU(approximate='none')\n",
      "        (pwconv2): Linear(in_features=3072, out_features=768, bias=True)\n",
      "        (drop_path): Identity()\n",
      "      )\n",
      "      (1): Block(\n",
      "        (dwconv): Conv2d(768, 768, kernel_size=(7, 7), stride=(1, 1), padding=(3, 3), groups=768)\n",
      "        (norm): LayerNorm()\n",
      "        (pwconv1): Linear(in_features=768, out_features=3072, bias=True)\n",
      "        (act): GELU(approximate='none')\n",
      "        (pwconv2): Linear(in_features=3072, out_features=768, bias=True)\n",
      "        (drop_path): Identity()\n",
      "      )\n",
      "      (2): Block(\n",
      "        (dwconv): Conv2d(768, 768, kernel_size=(7, 7), stride=(1, 1), padding=(3, 3), groups=768)\n",
      "        (norm): LayerNorm()\n",
      "        (pwconv1): Linear(in_features=768, out_features=3072, bias=True)\n",
      "        (act): GELU(approximate='none')\n",
      "        (pwconv2): Linear(in_features=3072, out_features=768, bias=True)\n",
      "        (drop_path): Identity()\n",
      "      )\n",
      "    )\n",
      "  )\n",
      "  (norm): LayerNorm((768,), eps=1e-06, elementwise_affine=True)\n",
      "  (head): Linear(in_features=768, out_features=10, bias=True)\n",
      ")\n",
      "\n",
      "Total Parameters: 27,827,818\n",
      "Trainable Parameters: 27,827,818\n",
      "\n",
      "Output sizes at each stage:\n",
      "Stem output: torch.Size([1, 96, 8, 8])\n",
      "Stage 1 output: torch.Size([1, 96, 8, 8])\n",
      "Stage 2 output: torch.Size([1, 192, 4, 4])\n",
      "Stage 3 output: torch.Size([1, 384, 2, 2])\n",
      "Stage 4 output: torch.Size([1, 768, 1, 1])\n",
      "Final output: torch.Size([1, 10])\n"
     ]
    }
   ],
   "source": [
    "def analyze_model(model, input_size=(3, 224, 224)):\n",
    "    \"\"\"Analyze model architecture and parameter count.\"\"\"\n",
    "    # Print model architecture\n",
    "    print(model)\n",
    "    \n",
    "    # Count parameters\n",
    "    total_params = sum(p.numel() for p in model.parameters())\n",
    "    trainable_params = sum(p.numel() for p in model.parameters() if p.requires_grad)\n",
    "    \n",
    "    print(f\"\\nTotal Parameters: {total_params:,}\")\n",
    "    print(f\"Trainable Parameters: {trainable_params:,}\")\n",
    "    \n",
    "    # Create dummy input and trace through the model to check output sizes\n",
    "    dummy_input = torch.randn(1, *input_size).to(next(model.parameters()).device)\n",
    "    \n",
    "    # Get output sizes at each stage\n",
    "    print(\"\\nOutput sizes at each stage:\")\n",
    "    \n",
    "    # Stem output\n",
    "    x = model.downsample_layers[0](dummy_input)\n",
    "    print(f\"Stem output: {x.shape}\")\n",
    "    \n",
    "    # Stage outputs\n",
    "    for i in range(4):\n",
    "        if i > 0:\n",
    "            x = model.downsample_layers[i](x)\n",
    "        x = model.stages[i](x)\n",
    "        print(f\"Stage {i+1} output: {x.shape}\")\n",
    "    \n",
    "    # Final output\n",
    "    x = model.norm(x.mean([-2, -1]))\n",
    "    x = model.head(x)\n",
    "    print(f\"Final output: {x.shape}\")\n",
    "\n",
    "# Create a tiny model and analyze it\n",
    "model = convnext_tiny(num_classes=10)  # Using 10 classes for CIFAR-10\n",
    "model = model.to(device)\n",
    "analyze_model(model, input_size=(3, 32, 32))  # CIFAR-10 image size"
   ]
  },
  {
   "cell_type": "markdown",
   "id": "2a9ac135",
   "metadata": {},
   "source": [
    "## 4. Dataset Preparation\n",
    "\n",
    "For this implementation, we'll use the CIFAR-10 dataset, which is much smaller than ImageNet but still provides a good test case:"
   ]
  },
  {
   "cell_type": "code",
   "execution_count": 11,
   "id": "dc6a0ddf",
   "metadata": {},
   "outputs": [
    {
     "name": "stdout",
     "output_type": "stream",
     "text": [
      "Number of training samples: 50000\n",
      "Number of validation samples: 10000\n"
     ]
    },
    {
     "data": {
      "image/png": "[encoded data removed]",
      "text/plain": [
       "<Figure size 1500x300 with 5 Axes>"
      ]
     },
     "metadata": {},
     "output_type": "display_data"
    }
   ],
   "source": [
    "def build_dataset(is_train, image_size=224, data_path='./data'):\n",
    "    \"\"\"Build CIFAR-10 dataset with appropriate transforms.\"\"\"\n",
    "    if is_train:\n",
    "        transform = transforms.Compose([\n",
    "            transforms.RandomResizedCrop(image_size, scale=(0.8, 1.0)),\n",
    "            transforms.RandomHorizontalFlip(),\n",
    "            transforms.ToTensor(),\n",
    "            transforms.Normalize((0.4914, 0.4822, 0.4465), (0.2023, 0.1994, 0.2010)),\n",
    "        ])\n",
    "    else:\n",
    "        transform = transforms.Compose([\n",
    "            transforms.Resize(image_size),\n",
    "            transforms.CenterCrop(image_size),\n",
    "            transforms.ToTensor(),\n",
    "            transforms.Normalize((0.4914, 0.4822, 0.4465), (0.2023, 0.1994, 0.2010)),\n",
    "        ])\n",
    "\n",
    "    dataset = datasets.CIFAR10(data_path, train=is_train, transform=transform, download=True)\n",
    "    \n",
    "    return dataset\n",
    "\n",
    "def build_data_loader(dataset, batch_size, is_train=True, num_workers=4):\n",
    "    \"\"\"Build data loader for the dataset.\"\"\"\n",
    "    return DataLoader(\n",
    "        dataset, \n",
    "        batch_size=batch_size,\n",
    "        shuffle=is_train,\n",
    "        num_workers=num_workers,\n",
    "        pin_memory=True,\n",
    "        drop_last=is_train\n",
    "    )\n",
    "\n",
    "# Build datasets and dataloaders\n",
    "image_size = 32  # CIFAR-10 images are 32x32, but we can resize if needed\n",
    "batch_size = 64\n",
    "num_workers = 6\n",
    "\n",
    "train_dataset = build_dataset(is_train=True, image_size=image_size)\n",
    "val_dataset = build_dataset(is_train=False, image_size=image_size)\n",
    "\n",
    "train_loader = build_data_loader(train_dataset, batch_size, is_train=True, num_workers=num_workers)\n",
    "val_loader = build_data_loader(val_dataset, batch_size, is_train=False, num_workers=num_workers)\n",
    "\n",
    "print(f\"Number of training samples: {len(train_dataset)}\")\n",
    "print(f\"Number of validation samples: {len(val_dataset)}\")\n",
    "\n",
    "# Display a few samples\n",
    "def show_samples(loader, num_samples=5):\n",
    "    \"\"\"Display a few samples from the dataset.\"\"\"\n",
    "    samples, labels = next(iter(loader))\n",
    "    \n",
    "    # Denormalize the images\n",
    "    mean = torch.tensor([0.4914, 0.4822, 0.4465]).view(3, 1, 1)\n",
    "    std = torch.tensor([0.2023, 0.1994, 0.2010]).view(3, 1, 1)\n",
    "    samples = samples[:num_samples] * std + mean\n",
    "    \n",
    "    fig, axes = plt.subplots(1, num_samples, figsize=(15, 3))\n",
    "    for i in range(num_samples):\n",
    "        axes[i].imshow(samples[i].permute(1, 2, 0).numpy())\n",
    "        axes[i].set_title(f\"Label: {train_dataset.classes[labels[i]]}\")\n",
    "        axes[i].axis('off')\n",
    "    plt.tight_layout()\n",
    "    plt.show()\n",
    "\n",
    "show_samples(train_loader)"
   ]
  },
  {
   "cell_type": "markdown",
   "id": "672c0bbc",
   "metadata": {},
   "source": [
    "## 5. Training Setup\n",
    "\n",
    "Now let's set up the training procedure:"
   ]
  },
  {
   "cell_type": "code",
   "execution_count": 12,
   "id": "0496a57d",
   "metadata": {},
   "outputs": [],
   "source": [
    "# Define AugMix data augmentation\n",
    "def build_mixup_fn(mixup_alpha=0.8, cutmix_alpha=1.0, cutmix_minmax=None, \n",
    "                   prob=1.0, switch_prob=0.5, mode='batch', \n",
    "                   label_smoothing=0.1, num_classes=10):\n",
    "    \"\"\"Create mixup/cutmix transform function.\"\"\"\n",
    "    mixup_fn = Mixup(\n",
    "        mixup_alpha=mixup_alpha, cutmix_alpha=cutmix_alpha, cutmix_minmax=cutmix_minmax,\n",
    "        prob=prob, switch_prob=switch_prob, mode=mode,\n",
    "        label_smoothing=label_smoothing, num_classes=num_classes\n",
    "    )\n",
    "    return mixup_fn\n",
    "\n",
    "# Define optimizer and learning rate scheduler\n",
    "def build_optimizer(model, lr=0.001, weight_decay=0.05, betas=(0.9, 0.999)):\n",
    "    \"\"\"Create optimizer.\"\"\"\n",
    "    # Separate weight decay parameters from non-weight decay parameters\n",
    "    decay_params = []\n",
    "    no_decay_params = []\n",
    "    \n",
    "    for name, param in model.named_parameters():\n",
    "        if not param.requires_grad:\n",
    "            continue\n",
    "        # Apply no weight decay to bias and LayerNorm parameters\n",
    "        if len(param.shape) == 1 or name.endswith(\".bias\"):\n",
    "            no_decay_params.append(param)\n",
    "        else:\n",
    "            decay_params.append(param)\n",
    "    \n",
    "    optimizer_grouped_parameters = [\n",
    "        {'params': decay_params, 'weight_decay': weight_decay},\n",
    "        {'params': no_decay_params, 'weight_decay': 0.0}\n",
    "    ]\n",
    "    \n",
    "    optimizer = torch.optim.AdamW(optimizer_grouped_parameters, lr=lr, betas=betas)\n",
    "    return optimizer\n",
    "\n",
    "# Define learning rate scheduler\n",
    "def build_scheduler(optimizer, epochs, warmup_epochs=20):\n",
    "    \"\"\"Create cosine learning rate scheduler with warmup.\"\"\"\n",
    "    def lr_lambda(epoch):\n",
    "        if epoch < warmup_epochs:\n",
    "            return float(epoch) / float(max(1, warmup_epochs))\n",
    "        return 0.5 * (1.0 + math.cos(math.pi * (epoch - warmup_epochs) / (epochs - warmup_epochs)))\n",
    "    \n",
    "    return torch.optim.lr_scheduler.LambdaLR(optimizer, lr_lambda)\n",
    "\n",
    "# Define loss function\n",
    "def build_criterion(mixup_fn=None):\n",
    "    \"\"\"Create loss function.\"\"\"\n",
    "    if mixup_fn is not None:\n",
    "        # Mixup cross entropy loss\n",
    "        criterion = SoftTargetCrossEntropy()\n",
    "    else:\n",
    "        # Standard cross entropy with label smoothing\n",
    "        criterion = LabelSmoothingCrossEntropy(smoothing=0.1)\n",
    "    return criterion\n",
    "\n",
    "# Create mixup function, optimizer, scheduler, and criterion\n",
    "epochs = 40\n",
    "warmup_epochs = 5\n",
    "lr = 0.001\n",
    "weight_decay = 0.05\n",
    "\n",
    "mixup_fn = build_mixup_fn(num_classes=10)\n",
    "\n",
    "# [ADDED] We'll create these when training specific models\n",
    "# optimizer = build_optimizer(model, lr=lr, weight_decay=weight_decay)\n",
    "# scheduler = build_scheduler(optimizer, epochs=epochs, warmup_epochs=warmup_epochs)\n",
    "# criterion = build_criterion(mixup_fn)"
   ]
  },
  {
   "cell_type": "markdown",
   "id": "3e8c1495",
   "metadata": {},
   "source": [
    "## 6. Model Training\n",
    "\n",
    "Let's implement the training loop:"
   ]
  },
  {
   "cell_type": "code",
   "execution_count": 13,
   "id": "bc086d60",
   "metadata": {},
   "outputs": [],
   "source": [
    "# Training and validation functions\n",
    "def train_one_epoch(model, criterion, data_loader, optimizer, device, epoch, mixup_fn=None):\n",
    "    \"\"\"Train for one epoch.\"\"\"\n",
    "    model.train()\n",
    "    \n",
    "    train_loss = 0\n",
    "    correct = 0\n",
    "    total = 0\n",
    "    \n",
    "    pbar = tqdm(data_loader, desc=f\"Epoch {epoch+1}/{epochs} [Train]\")\n",
    "    \n",
    "    for batch_idx, (inputs, targets) in enumerate(pbar):\n",
    "        inputs, targets = inputs.to(device), targets.to(device)\n",
    "        \n",
    "        if mixup_fn is not None:\n",
    "            inputs, targets = mixup_fn(inputs, targets)\n",
    "        \n",
    "        # Forward pass\n",
    "        outputs = model(inputs)\n",
    "        loss = criterion(outputs, targets)\n",
    "        \n",
    "        # Backward pass and optimization\n",
    "        optimizer.zero_grad()\n",
    "        loss.backward()\n",
    "        optimizer.step()\n",
    "        \n",
    "        # Update statistics\n",
    "        train_loss += loss.item()\n",
    "        \n",
    "        if mixup_fn is None:  # Only calculate accuracy if not using mixup\n",
    "            _, predicted = outputs.max(1)\n",
    "            total += targets.size(0)\n",
    "            correct += predicted.eq(targets).sum().item()\n",
    "            acc = 100. * correct / total\n",
    "        else:\n",
    "            acc = 0\n",
    "        \n",
    "        # Update progress bar\n",
    "        pbar.set_postfix({\n",
    "            'loss': train_loss / (batch_idx + 1),\n",
    "            'acc': acc\n",
    "        })\n",
    "    \n",
    "    return train_loss / len(data_loader), acc\n",
    "\n",
    "def validate(model, criterion, data_loader, device):\n",
    "    \"\"\"Validate the model.\"\"\"\n",
    "    model.eval()\n",
    "    \n",
    "    val_loss = 0\n",
    "    correct = 0\n",
    "    total = 0\n",
    "    \n",
    "    with torch.no_grad():\n",
    "        pbar = tqdm(data_loader, desc=\"Validation\")\n",
    "        \n",
    "        for batch_idx, (inputs, targets) in enumerate(pbar):\n",
    "            inputs, targets = inputs.to(device), targets.to(device)\n",
    "            \n",
    "            # Forward pass\n",
    "            outputs = model(inputs)\n",
    "            \n",
    "            # Convert targets to one-hot encoding for SoftTargetCrossEntropy\n",
    "            batch_size = targets.size(0)\n",
    "            num_classes = outputs.size(1)  # Get number of classes from model output\n",
    "            one_hot_targets = torch.zeros(batch_size, num_classes, device=device)\n",
    "            one_hot_targets.scatter_(1, targets.unsqueeze(1), 1)\n",
    "            \n",
    "            # Calculate loss with one-hot targets\n",
    "            loss = criterion(outputs, one_hot_targets)\n",
    "            \n",
    "            # Update statistics\n",
    "            val_loss += loss.item()\n",
    "            _, predicted = outputs.max(1)\n",
    "            total += targets.size(0)\n",
    "            correct += predicted.eq(targets).sum().item()\n",
    "            \n",
    "            # Update progress bar\n",
    "            pbar.set_postfix({\n",
    "                'loss': val_loss / (batch_idx + 1),\n",
    "                'acc': 100. * correct / total\n",
    "            })\n",
    "    \n",
    "    return val_loss / len(data_loader), 100. * correct / total\n",
    "\n",
    "# [MODIFIED] Main training loop enhanced for training different model variants\n",
    "def train_and_evaluate_model(model_name, model, train_loader, val_loader, device, epochs, \n",
    "                            mixup_fn=None, save_dir='./checkpoints'):\n",
    "    \"\"\"Train and evaluate a model with logging.\"\"\"\n",
    "    \n",
    "    # Create directory for saving checkpoints\n",
    "    if not os.path.exists(save_dir):\n",
    "        os.makedirs(save_dir)\n",
    "    \n",
    "    model_save_dir = os.path.join(save_dir, model_name)\n",
    "    if not os.path.exists(model_save_dir):\n",
    "        os.makedirs(model_save_dir)\n",
    "    \n",
    "    # Set up optimizer, scheduler, and criterion\n",
    "    optimizer = build_optimizer(model, lr=0.001, weight_decay=0.05)\n",
    "    scheduler = build_scheduler(optimizer, epochs=epochs, warmup_epochs=5)\n",
    "    criterion = build_criterion(mixup_fn)\n",
    "    \n",
    "    # For tracking metrics\n",
    "    train_losses = []\n",
    "    val_losses = []\n",
    "    train_accs = []\n",
    "    val_accs = []\n",
    "    best_val_acc = 0\n",
    "    \n",
    "    # Training loop\n",
    "    for epoch in range(epochs):\n",
    "        # Train one epoch\n",
    "        train_loss, train_acc = train_one_epoch(\n",
    "            model, criterion, train_loader, optimizer, device, epoch, mixup_fn\n",
    "        )\n",
    "        \n",
    "        # Validate\n",
    "        val_loss, val_acc = validate(model, criterion, val_loader, device)\n",
    "        \n",
    "        # Update learning rate\n",
    "        scheduler.step()\n",
    "        \n",
    "        # Save metrics\n",
    "        train_losses.append(train_loss)\n",
    "        val_losses.append(val_loss)\n",
    "        train_accs.append(train_acc)\n",
    "        val_accs.append(val_acc)\n",
    "        \n",
    "        # Print summary\n",
    "        print(f\"Epoch {epoch+1}/{epochs} - Train loss: {train_loss:.4f}, Val loss: {val_loss:.4f}, Val acc: {val_acc:.2f}%\")\n",
    "        \n",
    "        # Save best model\n",
    "        if val_acc > best_val_acc:\n",
    "            print(f\"Validation accuracy improved from {best_val_acc:.2f}% to {val_acc:.2f}%\")\n",
    "            best_val_acc = val_acc\n",
    "            torch.save(model.state_dict(), f\"{model_save_dir}/best.pth\")\n",
    "    \n",
    "    # Save final model\n",
    "    torch.save(model.state_dict(), f\"{model_save_dir}/final.pth\")\n",
    "    \n",
    "    return {\n",
    "        'train_losses': train_losses,\n",
    "        'val_losses': val_losses,\n",
    "        'train_accs': train_accs,\n",
    "        'val_accs': val_accs,\n",
    "        'best_val_acc': best_val_acc\n",
    "    }"
   ]
  },
  {
   "cell_type": "markdown",
   "id": "9903bd38",
   "metadata": {
    "lines_to_next_cell": 0
   },
   "source": [
    "# [ADDED] Setup for training multiple model variants"
   ]
  },
  {
   "cell_type": "code",
   "execution_count": 14,
   "id": "07d4e93d",
   "metadata": {},
   "outputs": [
    {
     "data": {
      "application/vnd.jupyter.widget-view+json": {
       "model_id": "c723c4fdf27b45d68fa334f9c7b7baaa",
       "version_major": 2,
       "version_minor": 0
      },
      "text/plain": [
       "Epoch 1/40 [Train]:   0%|          | 0/781 [00:00<?, ?it/s]"
      ]
     },
     "metadata": {},
     "output_type": "display_data"
    },
    {
     "data": {
      "application/vnd.jupyter.widget-view+json": {
       "model_id": "40f367c4737d42628be4420dc16a7045",
       "version_major": 2,
       "version_minor": 0
      },
      "text/plain": [
       "Validation:   0%|          | 0/157 [00:00<?, ?it/s]"
      ]
     },
     "metadata": {},
     "output_type": "display_data"
    },
    {
     "name": "stdout",
     "output_type": "stream",
     "text": [
      "Epoch 1/40 - Train loss: 2.4161, Val loss: 2.4062, Val acc: 9.93%\n",
      "Validation accuracy improved from 0.00% to 9.93%\n"
     ]
    },
    {
     "data": {
      "application/vnd.jupyter.widget-view+json": {
       "model_id": "7cbff14150654c0ea7463b7ecaf98ac2",
       "version_major": 2,
       "version_minor": 0
      },
      "text/plain": [
       "Epoch 2/40 [Train]:   0%|          | 0/781 [00:00<?, ?it/s]"
      ]
     },
     "metadata": {},
     "output_type": "display_data"
    },
    {
     "data": {
      "application/vnd.jupyter.widget-view+json": {
       "model_id": "fdfedc085a784a86b26ae0f2e6996764",
       "version_major": 2,
       "version_minor": 0
      },
      "text/plain": [
       "Validation:   0%|          | 0/157 [00:00<?, ?it/s]"
      ]
     },
     "metadata": {},
     "output_type": "display_data"
    },
    {
     "name": "stdout",
     "output_type": "stream",
     "text": [
      "Epoch 2/40 - Train loss: 2.0623, Val loss: 1.6408, Val acc: 44.18%\n",
      "Validation accuracy improved from 9.93% to 44.18%\n"
     ]
    },
    {
     "data": {
      "application/vnd.jupyter.widget-view+json": {
       "model_id": "7fc98f55df414270b2d5916b0f1d1be1",
       "version_major": 2,
       "version_minor": 0
      },
      "text/plain": [
       "Epoch 3/40 [Train]:   0%|          | 0/781 [00:00<?, ?it/s]"
      ]
     },
     "metadata": {},
     "output_type": "display_data"
    },
    {
     "data": {
      "application/vnd.jupyter.widget-view+json": {
       "model_id": "c946cc95b6c04b18a3848347cfcb1ff9",
       "version_major": 2,
       "version_minor": 0
      },
      "text/plain": [
       "Validation:   0%|          | 0/157 [00:00<?, ?it/s]"
      ]
     },
     "metadata": {},
     "output_type": "display_data"
    },
    {
     "name": "stdout",
     "output_type": "stream",
     "text": [
      "Epoch 3/40 - Train loss: 1.9746, Val loss: 1.4990, Val acc: 49.23%\n",
      "Validation accuracy improved from 44.18% to 49.23%\n"
     ]
    },
    {
     "data": {
      "application/vnd.jupyter.widget-view+json": {
       "model_id": "736153f707ee4e90aace6210a6977ea6",
       "version_major": 2,
       "version_minor": 0
      },
      "text/plain": [
       "Epoch 4/40 [Train]:   0%|          | 0/781 [00:00<?, ?it/s]"
      ]
     },
     "metadata": {},
     "output_type": "display_data"
    },
    {
     "data": {
      "application/vnd.jupyter.widget-view+json": {
       "model_id": "ae5bb665a006470d9dbcd84bad4a1ef4",
       "version_major": 2,
       "version_minor": 0
      },
      "text/plain": [
       "Validation:   0%|          | 0/157 [00:00<?, ?it/s]"
      ]
     },
     "metadata": {},
     "output_type": "display_data"
    },
    {
     "name": "stdout",
     "output_type": "stream",
     "text": [
      "Epoch 4/40 - Train loss: 1.9287, Val loss: 1.4450, Val acc: 50.75%\n",
      "Validation accuracy improved from 49.23% to 50.75%\n"
     ]
    },
    {
     "data": {
      "application/vnd.jupyter.widget-view+json": {
       "model_id": "b5a92812953a4485a8121ae7bd892d6c",
       "version_major": 2,
       "version_minor": 0
      },
      "text/plain": [
       "Epoch 5/40 [Train]:   0%|          | 0/781 [00:00<?, ?it/s]"
      ]
     },
     "metadata": {},
     "output_type": "display_data"
    },
    {
     "data": {
      "application/vnd.jupyter.widget-view+json": {
       "model_id": "4f22d128c402429da431f370eddf4bd1",
       "version_major": 2,
       "version_minor": 0
      },
      "text/plain": [
       "Validation:   0%|          | 0/157 [00:00<?, ?it/s]"
      ]
     },
     "metadata": {},
     "output_type": "display_data"
    },
    {
     "name": "stdout",
     "output_type": "stream",
     "text": [
      "Epoch 5/40 - Train loss: 1.9064, Val loss: 1.4709, Val acc: 51.78%\n",
      "Validation accuracy improved from 50.75% to 51.78%\n"
     ]
    },
    {
     "data": {
      "application/vnd.jupyter.widget-view+json": {
       "model_id": "8b2e0bfb19c04593b7ad4be446347701",
       "version_major": 2,
       "version_minor": 0
      },
      "text/plain": [
       "Epoch 6/40 [Train]:   0%|          | 0/781 [00:00<?, ?it/s]"
      ]
     },
     "metadata": {},
     "output_type": "display_data"
    },
    {
     "data": {
      "application/vnd.jupyter.widget-view+json": {
       "model_id": "37aa59b3996c4c4fb76ec0f043aa58fd",
       "version_major": 2,
       "version_minor": 0
      },
      "text/plain": [
       "Validation:   0%|          | 0/157 [00:00<?, ?it/s]"
      ]
     },
     "metadata": {},
     "output_type": "display_data"
    },
    {
     "name": "stdout",
     "output_type": "stream",
     "text": [
      "Epoch 6/40 - Train loss: 1.8755, Val loss: 1.3975, Val acc: 55.24%\n",
      "Validation accuracy improved from 51.78% to 55.24%\n"
     ]
    },
    {
     "data": {
      "application/vnd.jupyter.widget-view+json": {
       "model_id": "cb2e28c9f3a34bd7b909c8d83e83a906",
       "version_major": 2,
       "version_minor": 0
      },
      "text/plain": [
       "Epoch 7/40 [Train]:   0%|          | 0/781 [00:00<?, ?it/s]"
      ]
     },
     "metadata": {},
     "output_type": "display_data"
    },
    {
     "data": {
      "application/vnd.jupyter.widget-view+json": {
       "model_id": "d0541bcb74e14088b1636770fa2cd08d",
       "version_major": 2,
       "version_minor": 0
      },
      "text/plain": [
       "Validation:   0%|          | 0/157 [00:00<?, ?it/s]"
      ]
     },
     "metadata": {},
     "output_type": "display_data"
    },
    {
     "name": "stdout",
     "output_type": "stream",
     "text": [
      "Epoch 7/40 - Train loss: 1.8351, Val loss: 1.2857, Val acc: 58.62%\n",
      "Validation accuracy improved from 55.24% to 58.62%\n"
     ]
    },
    {
     "data": {
      "application/vnd.jupyter.widget-view+json": {
       "model_id": "145152d66b544713a75b0715918fef75",
       "version_major": 2,
       "version_minor": 0
      },
      "text/plain": [
       "Epoch 8/40 [Train]:   0%|          | 0/781 [00:00<?, ?it/s]"
      ]
     },
     "metadata": {},
     "output_type": "display_data"
    },
    {
     "data": {
      "application/vnd.jupyter.widget-view+json": {
       "model_id": "fe60dba6a71b47f4a5d8c8d052b28c36",
       "version_major": 2,
       "version_minor": 0
      },
      "text/plain": [
       "Validation:   0%|          | 0/157 [00:00<?, ?it/s]"
      ]
     },
     "metadata": {},
     "output_type": "display_data"
    },
    {
     "name": "stdout",
     "output_type": "stream",
     "text": [
      "Epoch 8/40 - Train loss: 1.7997, Val loss: 1.2221, Val acc: 61.90%\n",
      "Validation accuracy improved from 58.62% to 61.90%\n"
     ]
    },
    {
     "data": {
      "application/vnd.jupyter.widget-view+json": {
       "model_id": "4448318bcc214e6d9b1ff15b6bb64769",
       "version_major": 2,
       "version_minor": 0
      },
      "text/plain": [
       "Epoch 9/40 [Train]:   0%|          | 0/781 [00:00<?, ?it/s]"
      ]
     },
     "metadata": {},
     "output_type": "display_data"
    },
    {
     "data": {
      "application/vnd.jupyter.widget-view+json": {
       "model_id": "0dd2eb0fb95d403680bc8ee1fce2f0c8",
       "version_major": 2,
       "version_minor": 0
      },
      "text/plain": [
       "Validation:   0%|          | 0/157 [00:00<?, ?it/s]"
      ]
     },
     "metadata": {},
     "output_type": "display_data"
    },
    {
     "name": "stdout",
     "output_type": "stream",
     "text": [
      "Epoch 9/40 - Train loss: 1.7840, Val loss: 1.1869, Val acc: 63.06%\n",
      "Validation accuracy improved from 61.90% to 63.06%\n"
     ]
    },
    {
     "data": {
      "application/vnd.jupyter.widget-view+json": {
       "model_id": "1a4072356f5e435b9337666627d12a86",
       "version_major": 2,
       "version_minor": 0
      },
      "text/plain": [
       "Epoch 10/40 [Train]:   0%|          | 0/781 [00:00<?, ?it/s]"
      ]
     },
     "metadata": {},
     "output_type": "display_data"
    },
    {
     "data": {
      "application/vnd.jupyter.widget-view+json": {
       "model_id": "8c1dfb6868d04d458d9e7775536f2a2f",
       "version_major": 2,
       "version_minor": 0
      },
      "text/plain": [
       "Validation:   0%|          | 0/157 [00:00<?, ?it/s]"
      ]
     },
     "metadata": {},
     "output_type": "display_data"
    },
    {
     "name": "stdout",
     "output_type": "stream",
     "text": [
      "Epoch 10/40 - Train loss: 1.7644, Val loss: 1.1827, Val acc: 63.84%\n",
      "Validation accuracy improved from 63.06% to 63.84%\n"
     ]
    },
    {
     "data": {
      "application/vnd.jupyter.widget-view+json": {
       "model_id": "7c4e4e5f0235415d9eb7c3799c932cae",
       "version_major": 2,
       "version_minor": 0
      },
      "text/plain": [
       "Epoch 11/40 [Train]:   0%|          | 0/781 [00:00<?, ?it/s]"
      ]
     },
     "metadata": {},
     "output_type": "display_data"
    },
    {
     "data": {
      "application/vnd.jupyter.widget-view+json": {
       "model_id": "30a208a9d79e40d2a7671a66a67e6da3",
       "version_major": 2,
       "version_minor": 0
      },
      "text/plain": [
       "Validation:   0%|          | 0/157 [00:00<?, ?it/s]"
      ]
     },
     "metadata": {},
     "output_type": "display_data"
    },
    {
     "name": "stdout",
     "output_type": "stream",
     "text": [
      "Epoch 11/40 - Train loss: 1.7367, Val loss: 1.1177, Val acc: 63.32%\n"
     ]
    },
    {
     "data": {
      "application/vnd.jupyter.widget-view+json": {
       "model_id": "5ecc1181e30443cda06c54c168edf013",
       "version_major": 2,
       "version_minor": 0
      },
      "text/plain": [
       "Epoch 12/40 [Train]:   0%|          | 0/781 [00:00<?, ?it/s]"
      ]
     },
     "metadata": {},
     "output_type": "display_data"
    },
    {
     "data": {
      "application/vnd.jupyter.widget-view+json": {
       "model_id": "35d069a74c4847abbd009e91c8d58e3b",
       "version_major": 2,
       "version_minor": 0
      },
      "text/plain": [
       "Validation:   0%|          | 0/157 [00:00<?, ?it/s]"
      ]
     },
     "metadata": {},
     "output_type": "display_data"
    },
    {
     "name": "stdout",
     "output_type": "stream",
     "text": [
      "Epoch 12/40 - Train loss: 1.7105, Val loss: 1.1170, Val acc: 65.04%\n",
      "Validation accuracy improved from 63.84% to 65.04%\n"
     ]
    },
    {
     "data": {
      "application/vnd.jupyter.widget-view+json": {
       "model_id": "29683260bc74414fa99b485037275188",
       "version_major": 2,
       "version_minor": 0
      },
      "text/plain": [
       "Epoch 13/40 [Train]:   0%|          | 0/781 [00:00<?, ?it/s]"
      ]
     },
     "metadata": {},
     "output_type": "display_data"
    },
    {
     "data": {
      "application/vnd.jupyter.widget-view+json": {
       "model_id": "f91ee279abbb405bbaa0e18af3cc7bd7",
       "version_major": 2,
       "version_minor": 0
      },
      "text/plain": [
       "Validation:   0%|          | 0/157 [00:00<?, ?it/s]"
      ]
     },
     "metadata": {},
     "output_type": "display_data"
    },
    {
     "name": "stdout",
     "output_type": "stream",
     "text": [
      "Epoch 13/40 - Train loss: 1.6930, Val loss: 1.0527, Val acc: 67.27%\n",
      "Validation accuracy improved from 65.04% to 67.27%\n"
     ]
    },
    {
     "data": {
      "application/vnd.jupyter.widget-view+json": {
       "model_id": "972c2b8f5b3f4e9b939eef15101e3c50",
       "version_major": 2,
       "version_minor": 0
      },
      "text/plain": [
       "Epoch 14/40 [Train]:   0%|          | 0/781 [00:00<?, ?it/s]"
      ]
     },
     "metadata": {},
     "output_type": "display_data"
    },
    {
     "data": {
      "application/vnd.jupyter.widget-view+json": {
       "model_id": "989014ff25c74afa832d68f83bf32f7e",
       "version_major": 2,
       "version_minor": 0
      },
      "text/plain": [
       "Validation:   0%|          | 0/157 [00:00<?, ?it/s]"
      ]
     },
     "metadata": {},
     "output_type": "display_data"
    },
    {
     "name": "stdout",
     "output_type": "stream",
     "text": [
      "Epoch 14/40 - Train loss: 1.6854, Val loss: 1.0371, Val acc: 67.63%\n",
      "Validation accuracy improved from 67.27% to 67.63%\n"
     ]
    },
    {
     "data": {
      "application/vnd.jupyter.widget-view+json": {
       "model_id": "249afb284b8e44e19f7af692ee87a580",
       "version_major": 2,
       "version_minor": 0
      },
      "text/plain": [
       "Epoch 15/40 [Train]:   0%|          | 0/781 [00:00<?, ?it/s]"
      ]
     },
     "metadata": {},
     "output_type": "display_data"
    },
    {
     "data": {
      "application/vnd.jupyter.widget-view+json": {
       "model_id": "d04be85bd7eb476c92f12f73adb3bf06",
       "version_major": 2,
       "version_minor": 0
      },
      "text/plain": [
       "Validation:   0%|          | 0/157 [00:00<?, ?it/s]"
      ]
     },
     "metadata": {},
     "output_type": "display_data"
    },
    {
     "name": "stdout",
     "output_type": "stream",
     "text": [
      "Epoch 15/40 - Train loss: 1.6764, Val loss: 1.0725, Val acc: 68.91%\n",
      "Validation accuracy improved from 67.63% to 68.91%\n"
     ]
    },
    {
     "data": {
      "application/vnd.jupyter.widget-view+json": {
       "model_id": "f8c92b4d732348029533361cce4eaed7",
       "version_major": 2,
       "version_minor": 0
      },
      "text/plain": [
       "Epoch 16/40 [Train]:   0%|          | 0/781 [00:00<?, ?it/s]"
      ]
     },
     "metadata": {},
     "output_type": "display_data"
    },
    {
     "data": {
      "application/vnd.jupyter.widget-view+json": {
       "model_id": "38a56586404546f281331fb1910ab66a",
       "version_major": 2,
       "version_minor": 0
      },
      "text/plain": [
       "Validation:   0%|          | 0/157 [00:00<?, ?it/s]"
      ]
     },
     "metadata": {},
     "output_type": "display_data"
    },
    {
     "name": "stdout",
     "output_type": "stream",
     "text": [
      "Epoch 16/40 - Train loss: 1.6511, Val loss: 1.0000, Val acc: 69.94%\n",
      "Validation accuracy improved from 68.91% to 69.94%\n"
     ]
    },
    {
     "data": {
      "application/vnd.jupyter.widget-view+json": {
       "model_id": "78caa4ef6fe0488fa6f33c53a00d9c77",
       "version_major": 2,
       "version_minor": 0
      },
      "text/plain": [
       "Epoch 17/40 [Train]:   0%|          | 0/781 [00:00<?, ?it/s]"
      ]
     },
     "metadata": {},
     "output_type": "display_data"
    },
    {
     "data": {
      "application/vnd.jupyter.widget-view+json": {
       "model_id": "52ae4766388d4141a7583f36df706283",
       "version_major": 2,
       "version_minor": 0
      },
      "text/plain": [
       "Validation:   0%|          | 0/157 [00:00<?, ?it/s]"
      ]
     },
     "metadata": {},
     "output_type": "display_data"
    },
    {
     "name": "stdout",
     "output_type": "stream",
     "text": [
      "Epoch 17/40 - Train loss: 1.6349, Val loss: 0.9556, Val acc: 70.57%\n",
      "Validation accuracy improved from 69.94% to 70.57%\n"
     ]
    },
    {
     "data": {
      "application/vnd.jupyter.widget-view+json": {
       "model_id": "ca92406fab104ba385d8b5e4a2d3d13f",
       "version_major": 2,
       "version_minor": 0
      },
      "text/plain": [
       "Epoch 18/40 [Train]:   0%|          | 0/781 [00:00<?, ?it/s]"
      ]
     },
     "metadata": {},
     "output_type": "display_data"
    },
    {
     "data": {
      "application/vnd.jupyter.widget-view+json": {
       "model_id": "8ef0a8f928a4407fbc9ff310f22640f3",
       "version_major": 2,
       "version_minor": 0
      },
      "text/plain": [
       "Validation:   0%|          | 0/157 [00:00<?, ?it/s]"
      ]
     },
     "metadata": {},
     "output_type": "display_data"
    },
    {
     "name": "stdout",
     "output_type": "stream",
     "text": [
      "Epoch 18/40 - Train loss: 1.6178, Val loss: 0.9863, Val acc: 71.56%\n",
      "Validation accuracy improved from 70.57% to 71.56%\n"
     ]
    },
    {
     "data": {
      "application/vnd.jupyter.widget-view+json": {
       "model_id": "677492aa406342fb94e2db34fedcb0a3",
       "version_major": 2,
       "version_minor": 0
      },
      "text/plain": [
       "Epoch 19/40 [Train]:   0%|          | 0/781 [00:00<?, ?it/s]"
      ]
     },
     "metadata": {},
     "output_type": "display_data"
    },
    {
     "data": {
      "application/vnd.jupyter.widget-view+json": {
       "model_id": "26e61eff2a1c48fea7555a4bc6843403",
       "version_major": 2,
       "version_minor": 0
      },
      "text/plain": [
       "Validation:   0%|          | 0/157 [00:00<?, ?it/s]"
      ]
     },
     "metadata": {},
     "output_type": "display_data"
    },
    {
     "name": "stdout",
     "output_type": "stream",
     "text": [
      "Epoch 19/40 - Train loss: 1.6037, Val loss: 0.8893, Val acc: 73.48%\n",
      "Validation accuracy improved from 71.56% to 73.48%\n"
     ]
    },
    {
     "data": {
      "application/vnd.jupyter.widget-view+json": {
       "model_id": "eca20027526740f8b5faf292acb86a22",
       "version_major": 2,
       "version_minor": 0
      },
      "text/plain": [
       "Epoch 20/40 [Train]:   0%|          | 0/781 [00:00<?, ?it/s]"
      ]
     },
     "metadata": {},
     "output_type": "display_data"
    },
    {
     "data": {
      "application/vnd.jupyter.widget-view+json": {
       "model_id": "c84d915e57c848cf94a6ad580ee6d2a9",
       "version_major": 2,
       "version_minor": 0
      },
      "text/plain": [
       "Validation:   0%|          | 0/157 [00:00<?, ?it/s]"
      ]
     },
     "metadata": {},
     "output_type": "display_data"
    },
    {
     "name": "stdout",
     "output_type": "stream",
     "text": [
      "Epoch 20/40 - Train loss: 1.5810, Val loss: 0.9324, Val acc: 73.04%\n"
     ]
    },
    {
     "data": {
      "application/vnd.jupyter.widget-view+json": {
       "model_id": "643665dfc730478a98dbfd3c6af8955d",
       "version_major": 2,
       "version_minor": 0
      },
      "text/plain": [
       "Epoch 21/40 [Train]:   0%|          | 0/781 [00:00<?, ?it/s]"
      ]
     },
     "metadata": {},
     "output_type": "display_data"
    },
    {
     "data": {
      "application/vnd.jupyter.widget-view+json": {
       "model_id": "34f4ff063b4d4ca09e075fdb49167abd",
       "version_major": 2,
       "version_minor": 0
      },
      "text/plain": [
       "Validation:   0%|          | 0/157 [00:00<?, ?it/s]"
      ]
     },
     "metadata": {},
     "output_type": "display_data"
    },
    {
     "name": "stdout",
     "output_type": "stream",
     "text": [
      "Epoch 21/40 - Train loss: 1.5826, Val loss: 0.8818, Val acc: 74.44%\n",
      "Validation accuracy improved from 73.48% to 74.44%\n"
     ]
    },
    {
     "data": {
      "application/vnd.jupyter.widget-view+json": {
       "model_id": "b7f90317131e4cecb3efc6dab4533d7e",
       "version_major": 2,
       "version_minor": 0
      },
      "text/plain": [
       "Epoch 22/40 [Train]:   0%|          | 0/781 [00:00<?, ?it/s]"
      ]
     },
     "metadata": {},
     "output_type": "display_data"
    },
    {
     "data": {
      "application/vnd.jupyter.widget-view+json": {
       "model_id": "7e1a78a72d3945dc8ce10e46c1e4f1dc",
       "version_major": 2,
       "version_minor": 0
      },
      "text/plain": [
       "Validation:   0%|          | 0/157 [00:00<?, ?it/s]"
      ]
     },
     "metadata": {},
     "output_type": "display_data"
    },
    {
     "name": "stdout",
     "output_type": "stream",
     "text": [
      "Epoch 22/40 - Train loss: 1.5561, Val loss: 0.8449, Val acc: 74.89%\n",
      "Validation accuracy improved from 74.44% to 74.89%\n"
     ]
    },
    {
     "data": {
      "application/vnd.jupyter.widget-view+json": {
       "model_id": "68987327796644b0b0bf76e7819960b9",
       "version_major": 2,
       "version_minor": 0
      },
      "text/plain": [
       "Epoch 23/40 [Train]:   0%|          | 0/781 [00:00<?, ?it/s]"
      ]
     },
     "metadata": {},
     "output_type": "display_data"
    },
    {
     "data": {
      "application/vnd.jupyter.widget-view+json": {
       "model_id": "4779059e602043f1bc79db39cc80515d",
       "version_major": 2,
       "version_minor": 0
      },
      "text/plain": [
       "Validation:   0%|          | 0/157 [00:00<?, ?it/s]"
      ]
     },
     "metadata": {},
     "output_type": "display_data"
    },
    {
     "name": "stdout",
     "output_type": "stream",
     "text": [
      "Epoch 23/40 - Train loss: 1.5749, Val loss: 0.8604, Val acc: 75.55%\n",
      "Validation accuracy improved from 74.89% to 75.55%\n"
     ]
    },
    {
     "data": {
      "application/vnd.jupyter.widget-view+json": {
       "model_id": "c0b9f23430c0413a89257da6df768912",
       "version_major": 2,
       "version_minor": 0
      },
      "text/plain": [
       "Epoch 24/40 [Train]:   0%|          | 0/781 [00:00<?, ?it/s]"
      ]
     },
     "metadata": {},
     "output_type": "display_data"
    },
    {
     "data": {
      "application/vnd.jupyter.widget-view+json": {
       "model_id": "632baf886005469e9984dc153309687d",
       "version_major": 2,
       "version_minor": 0
      },
      "text/plain": [
       "Validation:   0%|          | 0/157 [00:00<?, ?it/s]"
      ]
     },
     "metadata": {},
     "output_type": "display_data"
    },
    {
     "name": "stdout",
     "output_type": "stream",
     "text": [
      "Epoch 24/40 - Train loss: 1.5231, Val loss: 0.8480, Val acc: 75.91%\n",
      "Validation accuracy improved from 75.55% to 75.91%\n"
     ]
    },
    {
     "data": {
      "application/vnd.jupyter.widget-view+json": {
       "model_id": "4c06296fd9714e53b352ce8fb4f4d8ad",
       "version_major": 2,
       "version_minor": 0
      },
      "text/plain": [
       "Epoch 25/40 [Train]:   0%|          | 0/781 [00:00<?, ?it/s]"
      ]
     },
     "metadata": {},
     "output_type": "display_data"
    },
    {
     "data": {
      "application/vnd.jupyter.widget-view+json": {
       "model_id": "f5cea9b066ee4168acaa4b2ce751d7f3",
       "version_major": 2,
       "version_minor": 0
      },
      "text/plain": [
       "Validation:   0%|          | 0/157 [00:00<?, ?it/s]"
      ]
     },
     "metadata": {},
     "output_type": "display_data"
    },
    {
     "name": "stdout",
     "output_type": "stream",
     "text": [
      "Epoch 25/40 - Train loss: 1.5287, Val loss: 0.8523, Val acc: 76.54%\n",
      "Validation accuracy improved from 75.91% to 76.54%\n"
     ]
    },
    {
     "data": {
      "application/vnd.jupyter.widget-view+json": {
       "model_id": "88689161f41e4569aedf32dbcc8df01c",
       "version_major": 2,
       "version_minor": 0
      },
      "text/plain": [
       "Epoch 26/40 [Train]:   0%|          | 0/781 [00:00<?, ?it/s]"
      ]
     },
     "metadata": {},
     "output_type": "display_data"
    },
    {
     "data": {
      "application/vnd.jupyter.widget-view+json": {
       "model_id": "5f3e96ab68a244528e3b5366dbce768d",
       "version_major": 2,
       "version_minor": 0
      },
      "text/plain": [
       "Validation:   0%|          | 0/157 [00:00<?, ?it/s]"
      ]
     },
     "metadata": {},
     "output_type": "display_data"
    },
    {
     "name": "stdout",
     "output_type": "stream",
     "text": [
      "Epoch 26/40 - Train loss: 1.4972, Val loss: 0.8041, Val acc: 77.11%\n",
      "Validation accuracy improved from 76.54% to 77.11%\n"
     ]
    },
    {
     "data": {
      "application/vnd.jupyter.widget-view+json": {
       "model_id": "59dcd120bf174ca888a7b5eb49cf3850",
       "version_major": 2,
       "version_minor": 0
      },
      "text/plain": [
       "Epoch 27/40 [Train]:   0%|          | 0/781 [00:00<?, ?it/s]"
      ]
     },
     "metadata": {},
     "output_type": "display_data"
    },
    {
     "data": {
      "application/vnd.jupyter.widget-view+json": {
       "model_id": "3ecb357da30943e297eaeb96d9551936",
       "version_major": 2,
       "version_minor": 0
      },
      "text/plain": [
       "Validation:   0%|          | 0/157 [00:00<?, ?it/s]"
      ]
     },
     "metadata": {},
     "output_type": "display_data"
    },
    {
     "name": "stdout",
     "output_type": "stream",
     "text": [
      "Epoch 27/40 - Train loss: 1.4933, Val loss: 0.7870, Val acc: 77.39%\n",
      "Validation accuracy improved from 77.11% to 77.39%\n"
     ]
    },
    {
     "data": {
      "application/vnd.jupyter.widget-view+json": {
       "model_id": "2b0b1f85bb174e2c90ac2849016b882e",
       "version_major": 2,
       "version_minor": 0
      },
      "text/plain": [
       "Epoch 28/40 [Train]:   0%|          | 0/781 [00:00<?, ?it/s]"
      ]
     },
     "metadata": {},
     "output_type": "display_data"
    },
    {
     "data": {
      "application/vnd.jupyter.widget-view+json": {
       "model_id": "b6b919c0dcc547d19703d5fc23b41326",
       "version_major": 2,
       "version_minor": 0
      },
      "text/plain": [
       "Validation:   0%|          | 0/157 [00:00<?, ?it/s]"
      ]
     },
     "metadata": {},
     "output_type": "display_data"
    },
    {
     "name": "stdout",
     "output_type": "stream",
     "text": [
      "Epoch 28/40 - Train loss: 1.4766, Val loss: 0.7888, Val acc: 78.18%\n",
      "Validation accuracy improved from 77.39% to 78.18%\n"
     ]
    },
    {
     "data": {
      "application/vnd.jupyter.widget-view+json": {
       "model_id": "c39292c3291e49df8600f919941d634c",
       "version_major": 2,
       "version_minor": 0
      },
      "text/plain": [
       "Epoch 29/40 [Train]:   0%|          | 0/781 [00:00<?, ?it/s]"
      ]
     },
     "metadata": {},
     "output_type": "display_data"
    },
    {
     "data": {
      "application/vnd.jupyter.widget-view+json": {
       "model_id": "06bc16bacd844dd7a54b4cab8960d183",
       "version_major": 2,
       "version_minor": 0
      },
      "text/plain": [
       "Validation:   0%|          | 0/157 [00:00<?, ?it/s]"
      ]
     },
     "metadata": {},
     "output_type": "display_data"
    },
    {
     "name": "stdout",
     "output_type": "stream",
     "text": [
      "Epoch 29/40 - Train loss: 1.4698, Val loss: 0.7925, Val acc: 78.14%\n"
     ]
    },
    {
     "data": {
      "application/vnd.jupyter.widget-view+json": {
       "model_id": "14bbab37d1244c4db77cf3828ea6d6aa",
       "version_major": 2,
       "version_minor": 0
      },
      "text/plain": [
       "Epoch 30/40 [Train]:   0%|          | 0/781 [00:00<?, ?it/s]"
      ]
     },
     "metadata": {},
     "output_type": "display_data"
    },
    {
     "data": {
      "application/vnd.jupyter.widget-view+json": {
       "model_id": "76cdb259bd1c47d79ba64f94b9cbdda6",
       "version_major": 2,
       "version_minor": 0
      },
      "text/plain": [
       "Validation:   0%|          | 0/157 [00:00<?, ?it/s]"
      ]
     },
     "metadata": {},
     "output_type": "display_data"
    },
    {
     "name": "stdout",
     "output_type": "stream",
     "text": [
      "Epoch 30/40 - Train loss: 1.4780, Val loss: 0.7507, Val acc: 78.71%\n",
      "Validation accuracy improved from 78.18% to 78.71%\n"
     ]
    },
    {
     "data": {
      "application/vnd.jupyter.widget-view+json": {
       "model_id": "8bf42289017a4478b13c473873a8468e",
       "version_major": 2,
       "version_minor": 0
      },
      "text/plain": [
       "Epoch 31/40 [Train]:   0%|          | 0/781 [00:00<?, ?it/s]"
      ]
     },
     "metadata": {},
     "output_type": "display_data"
    },
    {
     "data": {
      "application/vnd.jupyter.widget-view+json": {
       "model_id": "dd53ac93d7a84eef8b513792f350b9e9",
       "version_major": 2,
       "version_minor": 0
      },
      "text/plain": [
       "Validation:   0%|          | 0/157 [00:00<?, ?it/s]"
      ]
     },
     "metadata": {},
     "output_type": "display_data"
    },
    {
     "name": "stdout",
     "output_type": "stream",
     "text": [
      "Epoch 31/40 - Train loss: 1.4555, Val loss: 0.7672, Val acc: 79.06%\n",
      "Validation accuracy improved from 78.71% to 79.06%\n"
     ]
    },
    {
     "data": {
      "application/vnd.jupyter.widget-view+json": {
       "model_id": "163d83fd9edc4e2aa72f12461b311a57",
       "version_major": 2,
       "version_minor": 0
      },
      "text/plain": [
       "Epoch 32/40 [Train]:   0%|          | 0/781 [00:00<?, ?it/s]"
      ]
     },
     "metadata": {},
     "output_type": "display_data"
    },
    {
     "data": {
      "application/vnd.jupyter.widget-view+json": {
       "model_id": "de92c53d02c84be2ac222aaf3ed630da",
       "version_major": 2,
       "version_minor": 0
      },
      "text/plain": [
       "Validation:   0%|          | 0/157 [00:00<?, ?it/s]"
      ]
     },
     "metadata": {},
     "output_type": "display_data"
    },
    {
     "name": "stdout",
     "output_type": "stream",
     "text": [
      "Epoch 32/40 - Train loss: 1.4472, Val loss: 0.7561, Val acc: 79.34%\n",
      "Validation accuracy improved from 79.06% to 79.34%\n"
     ]
    },
    {
     "data": {
      "application/vnd.jupyter.widget-view+json": {
       "model_id": "3c371528462c4c3d9e294182997f07ed",
       "version_major": 2,
       "version_minor": 0
      },
      "text/plain": [
       "Epoch 33/40 [Train]:   0%|          | 0/781 [00:00<?, ?it/s]"
      ]
     },
     "metadata": {},
     "output_type": "display_data"
    },
    {
     "data": {
      "application/vnd.jupyter.widget-view+json": {
       "model_id": "4999e15e438f499e8f208a88c11f73d4",
       "version_major": 2,
       "version_minor": 0
      },
      "text/plain": [
       "Validation:   0%|          | 0/157 [00:00<?, ?it/s]"
      ]
     },
     "metadata": {},
     "output_type": "display_data"
    },
    {
     "name": "stdout",
     "output_type": "stream",
     "text": [
      "Epoch 33/40 - Train loss: 1.4383, Val loss: 0.7294, Val acc: 79.44%\n",
      "Validation accuracy improved from 79.34% to 79.44%\n"
     ]
    },
    {
     "data": {
      "application/vnd.jupyter.widget-view+json": {
       "model_id": "c5ce5600826d4a23a9036aa8a13ec137",
       "version_major": 2,
       "version_minor": 0
      },
      "text/plain": [
       "Epoch 34/40 [Train]:   0%|          | 0/781 [00:00<?, ?it/s]"
      ]
     },
     "metadata": {},
     "output_type": "display_data"
    },
    {
     "data": {
      "application/vnd.jupyter.widget-view+json": {
       "model_id": "2ffcd97df982486fb2d2edc2f2f846b7",
       "version_major": 2,
       "version_minor": 0
      },
      "text/plain": [
       "Validation:   0%|          | 0/157 [00:00<?, ?it/s]"
      ]
     },
     "metadata": {},
     "output_type": "display_data"
    },
    {
     "name": "stdout",
     "output_type": "stream",
     "text": [
      "Epoch 34/40 - Train loss: 1.4289, Val loss: 0.7465, Val acc: 79.23%\n"
     ]
    },
    {
     "data": {
      "application/vnd.jupyter.widget-view+json": {
       "model_id": "ee5bea0369604c9fbf5441a9c9b1e59a",
       "version_major": 2,
       "version_minor": 0
      },
      "text/plain": [
       "Epoch 35/40 [Train]:   0%|          | 0/781 [00:00<?, ?it/s]"
      ]
     },
     "metadata": {},
     "output_type": "display_data"
    },
    {
     "data": {
      "application/vnd.jupyter.widget-view+json": {
       "model_id": "90545fd75ab5465c8dd9b427a7668a52",
       "version_major": 2,
       "version_minor": 0
      },
      "text/plain": [
       "Validation:   0%|          | 0/157 [00:00<?, ?it/s]"
      ]
     },
     "metadata": {},
     "output_type": "display_data"
    },
    {
     "name": "stdout",
     "output_type": "stream",
     "text": [
      "Epoch 35/40 - Train loss: 1.4241, Val loss: 0.7391, Val acc: 79.55%\n",
      "Validation accuracy improved from 79.44% to 79.55%\n"
     ]
    },
    {
     "data": {
      "application/vnd.jupyter.widget-view+json": {
       "model_id": "db8b140cc3cc4a9b8e56ec2e67bfd238",
       "version_major": 2,
       "version_minor": 0
      },
      "text/plain": [
       "Epoch 36/40 [Train]:   0%|          | 0/781 [00:00<?, ?it/s]"
      ]
     },
     "metadata": {},
     "output_type": "display_data"
    },
    {
     "data": {
      "application/vnd.jupyter.widget-view+json": {
       "model_id": "aa827211cf3940139a447885b38f892f",
       "version_major": 2,
       "version_minor": 0
      },
      "text/plain": [
       "Validation:   0%|          | 0/157 [00:00<?, ?it/s]"
      ]
     },
     "metadata": {},
     "output_type": "display_data"
    },
    {
     "name": "stdout",
     "output_type": "stream",
     "text": [
      "Epoch 36/40 - Train loss: 1.4236, Val loss: 0.7193, Val acc: 79.82%\n",
      "Validation accuracy improved from 79.55% to 79.82%\n"
     ]
    },
    {
     "data": {
      "application/vnd.jupyter.widget-view+json": {
       "model_id": "fef0dd9a33aa46b784839a5bbac37019",
       "version_major": 2,
       "version_minor": 0
      },
      "text/plain": [
       "Epoch 37/40 [Train]:   0%|          | 0/781 [00:00<?, ?it/s]"
      ]
     },
     "metadata": {},
     "output_type": "display_data"
    },
    {
     "data": {
      "application/vnd.jupyter.widget-view+json": {
       "model_id": "301e1920887442baa7df0ccbce975af0",
       "version_major": 2,
       "version_minor": 0
      },
      "text/plain": [
       "Validation:   0%|          | 0/157 [00:00<?, ?it/s]"
      ]
     },
     "metadata": {},
     "output_type": "display_data"
    },
    {
     "name": "stdout",
     "output_type": "stream",
     "text": [
      "Epoch 37/40 - Train loss: 1.4000, Val loss: 0.7299, Val acc: 79.75%\n"
     ]
    },
    {
     "data": {
      "application/vnd.jupyter.widget-view+json": {
       "model_id": "a6758c3c47bb4cd58c035e620a798799",
       "version_major": 2,
       "version_minor": 0
      },
      "text/plain": [
       "Epoch 38/40 [Train]:   0%|          | 0/781 [00:00<?, ?it/s]"
      ]
     },
     "metadata": {},
     "output_type": "display_data"
    },
    {
     "data": {
      "application/vnd.jupyter.widget-view+json": {
       "model_id": "f6b1e81c8b46423280b8a7d599348d83",
       "version_major": 2,
       "version_minor": 0
      },
      "text/plain": [
       "Validation:   0%|          | 0/157 [00:00<?, ?it/s]"
      ]
     },
     "metadata": {},
     "output_type": "display_data"
    },
    {
     "name": "stdout",
     "output_type": "stream",
     "text": [
      "Epoch 38/40 - Train loss: 1.3998, Val loss: 0.7170, Val acc: 80.15%\n",
      "Validation accuracy improved from 79.82% to 80.15%\n"
     ]
    },
    {
     "data": {
      "application/vnd.jupyter.widget-view+json": {
       "model_id": "4fa97617f3494fc38cfd9596a9c3f0bf",
       "version_major": 2,
       "version_minor": 0
      },
      "text/plain": [
       "Epoch 39/40 [Train]:   0%|          | 0/781 [00:00<?, ?it/s]"
      ]
     },
     "metadata": {},
     "output_type": "display_data"
    },
    {
     "data": {
      "application/vnd.jupyter.widget-view+json": {
       "model_id": "d60f6a57b5de4491a9de55f4e7530cd7",
       "version_major": 2,
       "version_minor": 0
      },
      "text/plain": [
       "Validation:   0%|          | 0/157 [00:00<?, ?it/s]"
      ]
     },
     "metadata": {},
     "output_type": "display_data"
    },
    {
     "name": "stdout",
     "output_type": "stream",
     "text": [
      "Epoch 39/40 - Train loss: 1.4018, Val loss: 0.7232, Val acc: 80.02%\n"
     ]
    },
    {
     "data": {
      "application/vnd.jupyter.widget-view+json": {
       "model_id": "258cfa26b2194c5fbaed8a31bf07d483",
       "version_major": 2,
       "version_minor": 0
      },
      "text/plain": [
       "Epoch 40/40 [Train]:   0%|          | 0/781 [00:00<?, ?it/s]"
      ]
     },
     "metadata": {},
     "output_type": "display_data"
    },
    {
     "data": {
      "application/vnd.jupyter.widget-view+json": {
       "model_id": "b77be8202896467c8bca9c76b7e30556",
       "version_major": 2,
       "version_minor": 0
      },
      "text/plain": [
       "Validation:   0%|          | 0/157 [00:00<?, ?it/s]"
      ]
     },
     "metadata": {},
     "output_type": "display_data"
    },
    {
     "name": "stdout",
     "output_type": "stream",
     "text": [
      "Epoch 40/40 - Train loss: 1.3824, Val loss: 0.7208, Val acc: 80.11%\n"
     ]
    }
   ],
   "source": [
    "# [ADDED] Define model variants to test\n",
    "def create_model_variants(num_classes=10):\n",
    "    \"\"\"Create model variants with different activations and normalizations\"\"\"\n",
    "    models_to_test = {\n",
    "        # Baseline with different activations\n",
    "        'convnext_gelu_layernorm': convnext_tiny_gelu(num_classes=num_classes),\n",
    "        'convnext_silu_layernorm': convnext_tiny_silu(num_classes=num_classes),\n",
    "        'convnext_mish_layernorm': convnext_tiny_mish(num_classes=num_classes),\n",
    "        'convnext_hardswish_layernorm': convnext_tiny_hardswish(num_classes=num_classes),\n",
    "        \n",
    "        # Different normalizations with GELU\n",
    "        'convnext_gelu_groupnorm': convnext_tiny_group_norm(num_classes=num_classes, act_layer=nn.GELU),\n",
    "        # 'convnext_gelu_instancenorm': convnext_tiny_instance_norm(num_classes=num_classes, act_layer=nn.GELU),\n",
    "        # 'convnext_gelu_layerinstancenorm': convnext_tiny_layer_instance_norm(num_classes=num_classes, act_layer=nn.GELU),\n",
    "        \n",
    "        # # Best activation (SiLU) with different normalizations\n",
    "        # 'convnext_silu_groupnorm': convnext_tiny_group_norm(num_classes=num_classes, act_layer=nn.SiLU),\n",
    "        # 'convnext_silu_instancenorm': convnext_tiny_instance_norm(num_classes=num_classes, act_layer=nn.SiLU),\n",
    "        # 'convnext_silu_layerinstancenorm': convnext_tiny_layer_instance_norm(num_classes=num_classes, act_layer=nn.SiLU),\n",
    "    }\n",
    "    return models_to_test\n",
    "\n",
    "# [ADDED] Function to train all model variants\n",
    "def train_all_variants(models_to_test, train_loader, val_loader, device, epochs=40, save_dir='./checkpoints'):\n",
    "    \"\"\"Train and evaluate all model variants\"\"\"\n",
    "    all_results = {}\n",
    "    \n",
    "    for model_name, model in models_to_test.items():\n",
    "        print(f\"\\n{'='*40}\")\n",
    "        print(f\"Training {model_name}...\")\n",
    "        print(f\"{'='*40}\\n\")\n",
    "        \n",
    "        model = model.to(device)\n",
    "        results = train_and_evaluate_model(\n",
    "            model_name, model, train_loader, val_loader, device, epochs,\n",
    "            mixup_fn=mixup_fn, save_dir=save_dir\n",
    "        )\n",
    "        all_results[model_name] = results\n",
    "        \n",
    "        # Clear memory\n",
    "        model = model.cpu()\n",
    "        torch.cuda.empty_cache()\n",
    "    \n",
    "    return all_results\n",
    "\n",
    "# [ADDED] Running full experiments would take too long for a notebook demo\n",
    "# Instead, we'll define a single variant training function\n",
    "def run_single_variant_demo():\n",
    "    \"\"\"Run a demonstration training of a single model variant\"\"\"\n",
    "    print(\"Training a single ConvNeXt variant for demonstration\")\n",
    "    \n",
    "    # Choose SiLU with GroupNorm - a potentially promising combination\n",
    "    model = convnext_tiny_group_norm(num_classes=10, act_layer=nn.SiLU)\n",
    "    model = model.to(device)\n",
    "    model_name = \"convnext_silu_groupnorm_demo\"\n",
    "    \n",
    "    results = train_and_evaluate_model(\n",
    "        model_name, model, train_loader, val_loader, device, epochs=50,\n",
    "        mixup_fn=mixup_fn, save_dir='./checkpoints'\n",
    "    )\n",
    "    \n",
    "    return {model_name: results}\n",
    "\n",
    "# Train the baseline model (regular ConvNeXt)\n",
    "baseline_model = convnext_tiny_gelu(num_classes=10)\n",
    "baseline_model = baseline_model.to(device)\n",
    "training_stats = train_and_evaluate_model(\n",
    "    \"convnext_baseline\", baseline_model, train_loader, val_loader, device, epochs,\n",
    "    mixup_fn=mixup_fn\n",
    ")\n",
    "\n",
    "# Demo of improved variant (uncomment to run)\n",
    "# improved_stats = run_single_variant_demo()\n",
    "\n",
    "# Full comparison (uncomment to run)\n",
    "# Note: This will take a long time to run\n",
    "# models_to_test = create_model_variants(num_classes=10)\n",
    "# all_results = train_all_variants(models_to_test, train_loader, val_loader, device, epochs=50)"
   ]
  },
  {
   "cell_type": "markdown",
   "id": "4a84056c",
   "metadata": {},
   "source": [
    "## 7. Model Evaluation\n",
    "\n",
    "After training, let's evaluate our model:"
   ]
  },
  {
   "cell_type": "code",
   "execution_count": 15,
   "id": "851dfe9d",
   "metadata": {},
   "outputs": [
    {
     "data": {
      "application/vnd.jupyter.widget-view+json": {
       "model_id": "5eb894a9e8c64d54a0a70f0bef7c1ec4",
       "version_major": 2,
       "version_minor": 0
      },
      "text/plain": [
       "Evaluating:   0%|          | 0/157 [00:00<?, ?it/s]"
      ]
     },
     "metadata": {},
     "output_type": "display_data"
    },
    {
     "name": "stdout",
     "output_type": "stream",
     "text": [
      "Test accuracy: 80.15%\n"
     ]
    }
   ],
   "source": [
    "# Plot training curves\n",
    "def plot_training_curves(stats):\n",
    "    \"\"\"Plot training and validation curves.\"\"\"\n",
    "    fig, (ax1, ax2) = plt.subplots(1, 2, figsize=(15, 5))\n",
    "    \n",
    "    # Plot losses\n",
    "    ax1.plot(stats['train_losses'], label='Train')\n",
    "    ax1.plot(stats['val_losses'], label='Validation')\n",
    "    ax1.set_xlabel('Epoch')\n",
    "    ax1.set_ylabel('Loss')\n",
    "    ax1.set_title('Loss Curves')\n",
    "    ax1.legend()\n",
    "    ax1.grid(True)\n",
    "    \n",
    "    # Plot accuracies\n",
    "    ax2.plot(stats['train_accs'], label='Train')\n",
    "    ax2.plot(stats['val_accs'], label='Validation')\n",
    "    ax2.set_xlabel('Epoch')\n",
    "    ax2.set_ylabel('Accuracy (%)')\n",
    "    ax2.set_title('Accuracy Curves')\n",
    "    ax2.legend()\n",
    "    ax2.grid(True)\n",
    "    \n",
    "    plt.tight_layout()\n",
    "    plt.show()\n",
    "\n",
    "# Load the best model and evaluate\n",
    "def evaluate_best_model(model, val_loader, device, model_path):\n",
    "    \"\"\"Evaluate the best model.\"\"\"\n",
    "    model.load_state_dict(torch.load(model_path))\n",
    "    model.eval()\n",
    "    \n",
    "    correct = 0\n",
    "    total = 0\n",
    "    all_preds = []\n",
    "    all_targets = []\n",
    "    \n",
    "    with torch.no_grad():\n",
    "        for inputs, targets in tqdm(val_loader, desc=\"Evaluating\"):\n",
    "            inputs, targets = inputs.to(device), targets.to(device)\n",
    "            outputs = model(inputs)\n",
    "            \n",
    "            _, predicted = outputs.max(1)\n",
    "            total += targets.size(0)\n",
    "            correct += predicted.eq(targets).sum().item()\n",
    "            \n",
    "            all_preds.extend(predicted.cpu().numpy())\n",
    "            all_targets.extend(targets.cpu().numpy())\n",
    "    \n",
    "    accuracy = 100. * correct / total\n",
    "    print(f\"Test accuracy: {accuracy:.2f}%\")\n",
    "    \n",
    "    return accuracy, all_preds, all_targets\n",
    "\n",
    "# Plot training curves\n",
    "# plot_training_curves(training_stats)\n",
    "\n",
    "# Evaluate the best model\n",
    "accuracy, all_preds, all_targets = evaluate_best_model(\n",
    "    baseline_model, val_loader, device, './checkpoints/convnext_baseline/best.pth'\n",
    ")"
   ]
  },
  {
   "cell_type": "markdown",
   "id": "3c2f2ffd",
   "metadata": {
    "lines_to_next_cell": 0
   },
   "source": [
    "# [ADDED] Function to compare model variants"
   ]
  },
  {
   "cell_type": "code",
   "execution_count": 16,
   "id": "be3a067b",
   "metadata": {},
   "outputs": [],
   "source": [
    "# [ADDED] Plot comparison of different model variants\n",
    "def plot_comparison(all_results):\n",
    "    \"\"\"Plot comparison of different model variants\"\"\"\n",
    "    plt.figure(figsize=(15, 10))\n",
    "    \n",
    "    # Plot validation accuracy\n",
    "    plt.subplot(2, 1, 1)\n",
    "    for model_name, results in all_results.items():\n",
    "        plt.plot(results['val_accs'], label=model_name)\n",
    "    plt.xlabel('Epoch')\n",
    "    plt.ylabel('Validation Accuracy (%)')\n",
    "    plt.title('Validation Accuracy Comparison')\n",
    "    plt.legend()\n",
    "    plt.grid(True)\n",
    "    \n",
    "    # Plot validation loss\n",
    "    plt.subplot(2, 1, 2)\n",
    "    for model_name, results in all_results.items():\n",
    "        plt.plot(results['val_losses'], label=model_name)\n",
    "    plt.xlabel('Epoch')\n",
    "    plt.ylabel('Validation Loss')\n",
    "    plt.title('Validation Loss Comparison')\n",
    "    plt.legend()\n",
    "    plt.grid(True)\n",
    "    \n",
    "    plt.tight_layout()\n",
    "    plt.savefig('model_comparison.png')\n",
    "    plt.show()\n",
    "\n",
    "# [ADDED] Create a summary table\n",
    "def create_summary_table(all_results):\n",
    "    \"\"\"Create a summary table of best performance metrics\"\"\"\n",
    "    summary = []\n",
    "    \n",
    "    for model_name, results in all_results.items():\n",
    "        best_epoch = np.argmax(results['val_accs'])\n",
    "        best_val_acc = results['val_accs'][best_epoch]\n",
    "        train_acc = results['train_accs'][best_epoch]\n",
    "        val_loss = results['val_losses'][best_epoch]\n",
    "        \n",
    "        summary.append({\n",
    "            'Model': model_name,\n",
    "            'Best Validation Accuracy': f\"{best_val_acc:.2f}%\",\n",
    "            'Training Accuracy': f\"{train_acc:.2f}%\",\n",
    "            'Validation Loss': f\"{val_loss:.4f}\",\n",
    "            'Best Epoch': best_epoch + 1\n",
    "        })\n",
    "    \n",
    "    summary_df = pd.DataFrame(summary)\n",
    "    summary_df = summary_df.sort_values(by='Best Validation Accuracy', ascending=False)\n",
    "    \n",
    "    return summary_df\n",
    "\n",
    "# Example of comparing model variants (uncomment to run after training multiple models)\n",
    "# plot_comparison(all_results)\n",
    "# summary_table = create_summary_table(all_results)\n",
    "# print(summary_table)"
   ]
  },
  {
   "cell_type": "markdown",
   "id": "28e5f2f2",
   "metadata": {},
   "source": [
    "## 8. Performance Analysis\n",
    "\n",
    "Let's analyze the performance of our model:"
   ]
  },
  {
   "cell_type": "code",
   "execution_count": 17,
   "id": "03073aa6",
   "metadata": {},
   "outputs": [
    {
     "data": {
      "image/png": "[encoded data removed]",
      "text/plain": [
       "<Figure size 1000x800 with 2 Axes>"
      ]
     },
     "metadata": {},
     "output_type": "display_data"
    },
    {
     "data": {
      "image/png": "[encoded data removed]",
      "text/plain": [
       "<Figure size 1600x2000 with 20 Axes>"
      ]
     },
     "metadata": {},
     "output_type": "display_data"
    },
    {
     "name": "stderr",
     "output_type": "stream",
     "text": [
      "/home/horus/Workspace/miniconda3/envs/jupyter/lib/python3.11/site-packages/torchvision/models/_utils.py:208: UserWarning: The parameter 'pretrained' is deprecated since 0.13 and may be removed in the future, please use 'weights' instead.\n",
      "  warnings.warn(\n",
      "/home/horus/Workspace/miniconda3/envs/jupyter/lib/python3.11/site-packages/torchvision/models/_utils.py:223: UserWarning: Arguments other than a weight enum or `None` for 'weights' are deprecated since 0.13 and may be removed in the future. The current behavior is equivalent to passing `weights=None`.\n",
      "  warnings.warn(msg)\n"
     ]
    },
    {
     "data": {
      "application/vnd.jupyter.widget-view+json": {
       "model_id": "fd9fd60d72854fff8157654dc16e20d6",
       "version_major": 2,
       "version_minor": 0
      },
      "text/plain": [
       "Epoch 1/10 [ResNet]:   0%|          | 0/781 [00:00<?, ?it/s]"
      ]
     },
     "metadata": {},
     "output_type": "display_data"
    },
    {
     "data": {
      "application/vnd.jupyter.widget-view+json": {
       "model_id": "9e4bad2d894a406fbad2919320c8f8b6",
       "version_major": 2,
       "version_minor": 0
      },
      "text/plain": [
       "Validation [ResNet]:   0%|          | 0/157 [00:00<?, ?it/s]"
      ]
     },
     "metadata": {},
     "output_type": "display_data"
    },
    {
     "name": "stdout",
     "output_type": "stream",
     "text": [
      "Epoch 1/10 - ResNet - Train loss: 1.4578, Val loss: 1.1520, Val acc: 58.65%\n"
     ]
    },
    {
     "data": {
      "application/vnd.jupyter.widget-view+json": {
       "model_id": "78ba7a2d5b864a49a37f6d9687f342f7",
       "version_major": 2,
       "version_minor": 0
      },
      "text/plain": [
       "Epoch 2/10 [ResNet]:   0%|          | 0/781 [00:00<?, ?it/s]"
      ]
     },
     "metadata": {},
     "output_type": "display_data"
    },
    {
     "data": {
      "application/vnd.jupyter.widget-view+json": {
       "model_id": "9782d24992a841e4b66f469c6ec8656d",
       "version_major": 2,
       "version_minor": 0
      },
      "text/plain": [
       "Validation [ResNet]:   0%|          | 0/157 [00:00<?, ?it/s]"
      ]
     },
     "metadata": {},
     "output_type": "display_data"
    },
    {
     "name": "stdout",
     "output_type": "stream",
     "text": [
      "Epoch 2/10 - ResNet - Train loss: 1.0816, Val loss: 1.0342, Val acc: 64.84%\n"
     ]
    },
    {
     "data": {
      "application/vnd.jupyter.widget-view+json": {
       "model_id": "d7f02d8d61a14cb69f5b32de1c120493",
       "version_major": 2,
       "version_minor": 0
      },
      "text/plain": [
       "Epoch 3/10 [ResNet]:   0%|          | 0/781 [00:00<?, ?it/s]"
      ]
     },
     "metadata": {},
     "output_type": "display_data"
    },
    {
     "data": {
      "application/vnd.jupyter.widget-view+json": {
       "model_id": "d6b12b8551cd48e58085c1c90325c3d6",
       "version_major": 2,
       "version_minor": 0
      },
      "text/plain": [
       "Validation [ResNet]:   0%|          | 0/157 [00:00<?, ?it/s]"
      ]
     },
     "metadata": {},
     "output_type": "display_data"
    },
    {
     "name": "stdout",
     "output_type": "stream",
     "text": [
      "Epoch 3/10 - ResNet - Train loss: 0.9271, Val loss: 0.9233, Val acc: 67.84%\n"
     ]
    },
    {
     "data": {
      "application/vnd.jupyter.widget-view+json": {
       "model_id": "9f232a483cf14a8ca7fbb299c003ffce",
       "version_major": 2,
       "version_minor": 0
      },
      "text/plain": [
       "Epoch 4/10 [ResNet]:   0%|          | 0/781 [00:00<?, ?it/s]"
      ]
     },
     "metadata": {},
     "output_type": "display_data"
    },
    {
     "data": {
      "application/vnd.jupyter.widget-view+json": {
       "model_id": "9cf765ee7f234aaa974d31f3fe557e0e",
       "version_major": 2,
       "version_minor": 0
      },
      "text/plain": [
       "Validation [ResNet]:   0%|          | 0/157 [00:00<?, ?it/s]"
      ]
     },
     "metadata": {},
     "output_type": "display_data"
    },
    {
     "name": "stdout",
     "output_type": "stream",
     "text": [
      "Epoch 4/10 - ResNet - Train loss: 0.8238, Val loss: 0.8093, Val acc: 71.99%\n"
     ]
    },
    {
     "data": {
      "application/vnd.jupyter.widget-view+json": {
       "model_id": "87051e88e17542f0b0b5ef76bb81121d",
       "version_major": 2,
       "version_minor": 0
      },
      "text/plain": [
       "Epoch 5/10 [ResNet]:   0%|          | 0/781 [00:00<?, ?it/s]"
      ]
     },
     "metadata": {},
     "output_type": "display_data"
    },
    {
     "data": {
      "application/vnd.jupyter.widget-view+json": {
       "model_id": "f44a4f1507e54ed4bcd69416bce541ae",
       "version_major": 2,
       "version_minor": 0
      },
      "text/plain": [
       "Validation [ResNet]:   0%|          | 0/157 [00:00<?, ?it/s]"
      ]
     },
     "metadata": {},
     "output_type": "display_data"
    },
    {
     "name": "stdout",
     "output_type": "stream",
     "text": [
      "Epoch 5/10 - ResNet - Train loss: 0.7514, Val loss: 0.7745, Val acc: 73.53%\n"
     ]
    },
    {
     "data": {
      "application/vnd.jupyter.widget-view+json": {
       "model_id": "660de890060b4d6884697b68e98b59cd",
       "version_major": 2,
       "version_minor": 0
      },
      "text/plain": [
       "Epoch 6/10 [ResNet]:   0%|          | 0/781 [00:00<?, ?it/s]"
      ]
     },
     "metadata": {},
     "output_type": "display_data"
    },
    {
     "data": {
      "application/vnd.jupyter.widget-view+json": {
       "model_id": "7105d7893eab44e3af6035ce114a7691",
       "version_major": 2,
       "version_minor": 0
      },
      "text/plain": [
       "Validation [ResNet]:   0%|          | 0/157 [00:00<?, ?it/s]"
      ]
     },
     "metadata": {},
     "output_type": "display_data"
    },
    {
     "name": "stdout",
     "output_type": "stream",
     "text": [
      "Epoch 6/10 - ResNet - Train loss: 0.6985, Val loss: 0.6933, Val acc: 76.19%\n"
     ]
    },
    {
     "data": {
      "application/vnd.jupyter.widget-view+json": {
       "model_id": "3e17938f60204e1385f95bdaa410a826",
       "version_major": 2,
       "version_minor": 0
      },
      "text/plain": [
       "Epoch 7/10 [ResNet]:   0%|          | 0/781 [00:00<?, ?it/s]"
      ]
     },
     "metadata": {},
     "output_type": "display_data"
    },
    {
     "data": {
      "application/vnd.jupyter.widget-view+json": {
       "model_id": "748b3c07c10844faa76df77acd47615d",
       "version_major": 2,
       "version_minor": 0
      },
      "text/plain": [
       "Validation [ResNet]:   0%|          | 0/157 [00:00<?, ?it/s]"
      ]
     },
     "metadata": {},
     "output_type": "display_data"
    },
    {
     "name": "stdout",
     "output_type": "stream",
     "text": [
      "Epoch 7/10 - ResNet - Train loss: 0.6549, Val loss: 0.6837, Val acc: 76.34%\n"
     ]
    },
    {
     "data": {
      "application/vnd.jupyter.widget-view+json": {
       "model_id": "9e00475bc0f5483b92b74c7376063158",
       "version_major": 2,
       "version_minor": 0
      },
      "text/plain": [
       "Epoch 8/10 [ResNet]:   0%|          | 0/781 [00:00<?, ?it/s]"
      ]
     },
     "metadata": {},
     "output_type": "display_data"
    },
    {
     "data": {
      "application/vnd.jupyter.widget-view+json": {
       "model_id": "3e95bdf0e04e46e69e4b9464c34bb8d0",
       "version_major": 2,
       "version_minor": 0
      },
      "text/plain": [
       "Validation [ResNet]:   0%|          | 0/157 [00:00<?, ?it/s]"
      ]
     },
     "metadata": {},
     "output_type": "display_data"
    },
    {
     "name": "stdout",
     "output_type": "stream",
     "text": [
      "Epoch 8/10 - ResNet - Train loss: 0.6125, Val loss: 0.6911, Val acc: 76.21%\n"
     ]
    },
    {
     "data": {
      "application/vnd.jupyter.widget-view+json": {
       "model_id": "f0e0b1c650f848f6a97b782072051f44",
       "version_major": 2,
       "version_minor": 0
      },
      "text/plain": [
       "Epoch 9/10 [ResNet]:   0%|          | 0/781 [00:00<?, ?it/s]"
      ]
     },
     "metadata": {},
     "output_type": "display_data"
    },
    {
     "data": {
      "application/vnd.jupyter.widget-view+json": {
       "model_id": "33f40aa6ae3e4baab6edd9a8a05ded69",
       "version_major": 2,
       "version_minor": 0
      },
      "text/plain": [
       "Validation [ResNet]:   0%|          | 0/157 [00:00<?, ?it/s]"
      ]
     },
     "metadata": {},
     "output_type": "display_data"
    },
    {
     "name": "stdout",
     "output_type": "stream",
     "text": [
      "Epoch 9/10 - ResNet - Train loss: 0.5729, Val loss: 0.6831, Val acc: 76.75%\n"
     ]
    },
    {
     "data": {
      "application/vnd.jupyter.widget-view+json": {
       "model_id": "e44c92f40f3d4ee5873a16c35c50d39d",
       "version_major": 2,
       "version_minor": 0
      },
      "text/plain": [
       "Epoch 10/10 [ResNet]:   0%|          | 0/781 [00:00<?, ?it/s]"
      ]
     },
     "metadata": {},
     "output_type": "display_data"
    },
    {
     "data": {
      "application/vnd.jupyter.widget-view+json": {
       "model_id": "8d39188e1fbe48be815ca6b40481c175",
       "version_major": 2,
       "version_minor": 0
      },
      "text/plain": [
       "Validation [ResNet]:   0%|          | 0/157 [00:00<?, ?it/s]"
      ]
     },
     "metadata": {},
     "output_type": "display_data"
    },
    {
     "name": "stdout",
     "output_type": "stream",
     "text": [
      "Epoch 10/10 - ResNet - Train loss: 0.5417, Val loss: 0.6584, Val acc: 77.90%\n"
     ]
    },
    {
     "data": {
      "image/png": "[encoded data removed]",
      "text/plain": [
       "<Figure size 1000x600 with 1 Axes>"
      ]
     },
     "metadata": {},
     "output_type": "display_data"
    }
   ],
   "source": [
    "# Confusion matrix\n",
    "def plot_confusion_matrix(y_true, y_pred, classes):\n",
    "    \"\"\"Plot confusion matrix.\"\"\"\n",
    "    from sklearn.metrics import confusion_matrix\n",
    "    import seaborn as sns\n",
    "    \n",
    "    cm = confusion_matrix(y_true, y_pred)\n",
    "    cm_norm = cm.astype('float') / cm.sum(axis=1)[:, np.newaxis]\n",
    "    \n",
    "    plt.figure(figsize=(10, 8))\n",
    "    sns.heatmap(cm_norm, annot=True, fmt='.2f', cmap='Blues',\n",
    "                xticklabels=classes, yticklabels=classes)\n",
    "    plt.xlabel('Predicted')\n",
    "    plt.ylabel('True')\n",
    "    plt.title('Normalized Confusion Matrix')\n",
    "    plt.show()\n",
    "\n",
    "# Feature map visualization\n",
    "def visualize_feature_maps(model, image, device):\n",
    "    \"\"\"Visualize feature maps after each stage.\"\"\"\n",
    "    image = image.unsqueeze(0).to(device)\n",
    "    model.eval()\n",
    "    \n",
    "    # Extract feature maps at different stages\n",
    "    feature_maps = []\n",
    "    \n",
    "    # Stem\n",
    "    x = model.downsample_layers[0](image)\n",
    "    feature_maps.append(('Stem', x))\n",
    "    \n",
    "    # Stages\n",
    "    for i in range(4):\n",
    "        if i > 0:\n",
    "            x = model.downsample_layers[i](x)\n",
    "        x = model.stages[i](x)\n",
    "        feature_maps.append((f'Stage {i+1}', x))\n",
    "    \n",
    "    # Visualize\n",
    "    fig, axes = plt.subplots(len(feature_maps), 4, figsize=(16, 4*len(feature_maps)))\n",
    "    \n",
    "    for i, (name, feat_map) in enumerate(feature_maps):\n",
    "        # Select 4 random channels\n",
    "        b, c, h, w = feat_map.shape\n",
    "        indices = np.random.choice(c, 4, replace=False)\n",
    "        \n",
    "        for j, idx in enumerate(indices):\n",
    "            ax = axes[i, j]\n",
    "            fm = feat_map[0, idx].detach().cpu().numpy()\n",
    "            ax.imshow(fm, cmap='viridis')\n",
    "            ax.set_title(f'{name} - Channel {idx}')\n",
    "            ax.axis('off')\n",
    "    \n",
    "    plt.tight_layout()\n",
    "    plt.show()\n",
    "\n",
    "# Compare with a simple baseline (e.g., ResNet)\n",
    "def compare_with_baseline(train_loader, val_loader, device, num_classes=10):\n",
    "    \"\"\"Compare ConvNeXt with ResNet baseline.\"\"\"\n",
    "    from torchvision.models import resnet18\n",
    "    \n",
    "    # Initialize ResNet model\n",
    "    resnet_model = resnet18(pretrained=False, num_classes=num_classes)\n",
    "    resnet_model = resnet_model.to(device)\n",
    "    \n",
    "    # Training settings\n",
    "    optimizer = torch.optim.AdamW(resnet_model.parameters(), lr=0.001, weight_decay=0.05)\n",
    "    scheduler = torch.optim.lr_scheduler.CosineAnnealingLR(optimizer, T_max=epochs)\n",
    "    criterion = nn.CrossEntropyLoss()\n",
    "    \n",
    "    # Train ResNet for a few epochs\n",
    "    resnet_stats = {'train_losses': [], 'val_losses': [], 'train_accs': [], 'val_accs': []}\n",
    "    \n",
    "    for epoch in range(10):  # Just a few epochs for comparison\n",
    "        # Train\n",
    "        resnet_model.train()\n",
    "        train_loss = 0\n",
    "        correct = 0\n",
    "        total = 0\n",
    "        \n",
    "        for inputs, targets in tqdm(train_loader, desc=f\"Epoch {epoch+1}/10 [ResNet]\"):\n",
    "            inputs, targets = inputs.to(device), targets.to(device)\n",
    "            \n",
    "            outputs = resnet_model(inputs)\n",
    "            loss = criterion(outputs, targets)\n",
    "            \n",
    "            optimizer.zero_grad()\n",
    "            loss.backward()\n",
    "            optimizer.step()\n",
    "            \n",
    "            train_loss += loss.item()\n",
    "            _, predicted = outputs.max(1)\n",
    "            total += targets.size(0)\n",
    "            correct += predicted.eq(targets).sum().item()\n",
    "        \n",
    "        train_acc = 100. * correct / total\n",
    "        resnet_stats['train_losses'].append(train_loss / len(train_loader))\n",
    "        resnet_stats['train_accs'].append(train_acc)\n",
    "        \n",
    "        # Validate\n",
    "        resnet_model.eval()\n",
    "        val_loss = 0\n",
    "        correct = 0\n",
    "        total = 0\n",
    "        \n",
    "        with torch.no_grad():\n",
    "            for inputs, targets in tqdm(val_loader, desc=\"Validation [ResNet]\"):\n",
    "                inputs, targets = inputs.to(device), targets.to(device)\n",
    "                \n",
    "                outputs = resnet_model(inputs)\n",
    "                loss = criterion(outputs, targets)\n",
    "                \n",
    "                val_loss += loss.item()\n",
    "                _, predicted = outputs.max(1)\n",
    "                total += targets.size(0)\n",
    "                correct += predicted.eq(targets).sum().item()\n",
    "        \n",
    "        val_acc = 100. * correct / total\n",
    "        resnet_stats['val_losses'].append(val_loss / len(val_loader))\n",
    "        resnet_stats['val_accs'].append(val_acc)\n",
    "        \n",
    "        scheduler.step()\n",
    "        print(f\"Epoch {epoch+1}/10 - ResNet - Train loss: {train_loss/len(train_loader):.4f}, Val loss: {val_loss/len(val_loader):.4f}, Val acc: {val_acc:.2f}%\")\n",
    "    \n",
    "    # Compare validation accuracies\n",
    "    plt.figure(figsize=(10, 6))\n",
    "    plt.plot(resnet_stats['val_accs'], label='ResNet-18')\n",
    "    plt.plot(training_stats['val_accs'][:10], label='ConvNeXt-Tiny')  # First 10 epochs\n",
    "    plt.xlabel('Epoch')\n",
    "    plt.ylabel('Validation Accuracy (%)')\n",
    "    plt.title('Validation Accuracy Comparison')\n",
    "    plt.legend()\n",
    "    plt.grid(True)\n",
    "    plt.show()\n",
    "    \n",
    "    return resnet_stats\n",
    "\n",
    "# Plot confusion matrix\n",
    "plot_confusion_matrix(all_targets, all_preds, val_dataset.classes)\n",
    "\n",
    "# Visualize feature maps\n",
    "sample_image, _ = val_dataset[0]\n",
    "visualize_feature_maps(baseline_model, sample_image, device)\n",
    "\n",
    "# Compare with baseline\n",
    "baseline_stats = compare_with_baseline(train_loader, val_loader, device)"
   ]
  },
  {
   "cell_type": "markdown",
   "id": "ad0b7e1e",
   "metadata": {
    "lines_to_next_cell": 0
   },
   "source": [
    "# [ADDED] Feature map comparison between model variants"
   ]
  },
  {
   "cell_type": "code",
   "execution_count": 18,
   "id": "ec6c1202",
   "metadata": {},
   "outputs": [],
   "source": [
    "# [ADDED] Compare feature maps across model variants\n",
    "def visualize_feature_maps_comparison(models_dict, sample_image, device, num_channels=4):\n",
    "    \"\"\"Compare feature maps across different model variants\"\"\"\n",
    "    # Get a list of model names\n",
    "    model_names = list(models_dict.keys())\n",
    "    \n",
    "    # Prepare the models\n",
    "    prepared_models = {}\n",
    "    for name, model in models_dict.items():\n",
    "        model.eval()\n",
    "        prepared_models[name] = model\n",
    "    \n",
    "    # Create a single input\n",
    "    input_tensor = sample_image.unsqueeze(0).to(device)\n",
    "    \n",
    "    # Extract features from the second stage of each model (more interesting features)\n",
    "    feature_maps = {}\n",
    "    \n",
    "    for name, model in prepared_models.items():\n",
    "        # Extract feature maps\n",
    "        x = model.downsample_layers[0](input_tensor)  # Stem\n",
    "        x = model.stages[0](x)                        # Stage 1\n",
    "        x = model.downsample_layers[1](x)             # Downsample\n",
    "        x = model.stages[1](x)                        # Stage 2 (more interesting features)\n",
    "        \n",
    "        # Store feature maps\n",
    "        feature_maps[name] = x.detach().cpu()\n",
    "    \n",
    "    # Set up the plot\n",
    "    num_models = len(model_names)\n",
    "    fig, axes = plt.subplots(num_models, num_channels, figsize=(15, 3*num_models))\n",
    "    \n",
    "    # Visualize feature maps\n",
    "    for i, model_name in enumerate(model_names):\n",
    "        # Get feature maps for this model\n",
    "        feat_map = feature_maps[model_name]\n",
    "        b, c, h, w = feat_map.shape\n",
    "        \n",
    "        # Select random channels to visualize\n",
    "        indices = np.random.choice(c, num_channels, replace=False)\n",
    "        \n",
    "        for j, idx in enumerate(indices):\n",
    "            ax = axes[i, j]\n",
    "            fm = feat_map[0, idx].numpy()\n",
    "            ax.imshow(fm, cmap='viridis')\n",
    "            ax.set_title(f'{model_name}\\nChannel {idx}')\n",
    "            ax.axis('off')\n",
    "    \n",
    "    plt.tight_layout()\n",
    "    plt.savefig('feature_map_comparison.png')\n",
    "    plt.show()\n",
    "\n",
    "\n",
    "# visualize_feature_maps_comparison(\n",
    "#     {'convnext_gelu_layernorm': baseline_model, 'convnext_silu_groupnorm': improved_model}, \n",
    "#     sample_image, \n",
    "#     device\n",
    "# )"
   ]
  },
  {
   "cell_type": "markdown",
   "id": "9077070e",
   "metadata": {},
   "source": [
    "## 9. Conclusion and Next Steps"
   ]
  },
  {
   "cell_type": "code",
   "execution_count": 19,
   "id": "cfbd9745",
   "metadata": {},
   "outputs": [
    {
     "name": "stdout",
     "output_type": "stream",
     "text": [
      "ConvNeXt Implementation Summary\n",
      "===============================\n",
      "Best validation accuracy: 80.15%\n",
      "Final validation accuracy: 80.11%\n",
      "\n",
      "ConvNeXt-Tiny Architecture:\n",
      "- Total parameters: 27,827,818\n",
      "- Trainable parameters: 27,827,818\n",
      "\n",
      "Training details:\n",
      "- Epochs: 40\n",
      "- Optimizer: AdamW (lr=0.001, weight_decay=0.05)\n",
      "- Learning rate schedule: Cosine with 5 epochs warmup\n",
      "- Data augmentation: RandomResizedCrop, RandomHorizontalFlip, Mixup/CutMix\n",
      "\n",
      "Observations:\n",
      "1. ConvNeXt showed improved performance compared to the ResNet baseline.\n",
      "2. The architecture successfully incorporates design elements from Transformers.\n",
      "3. Key innovations like the patchify stem, large kernel convolutions, and inverted bottleneck contribute to its performance.\n",
      "\n",
      "Improvement Observations:\n",
      "1. Alternative activation functions like SiLU may provide better gradient flow, especially in deeper networks.\n",
      "2. GroupNorm can offer more stable training, particularly for smaller batch sizes.\n",
      "3. Hybrid normalization strategies combining different norms can leverage the strengths of each approach.\n",
      "4. The specific combination of SiLU with GroupNorm could be particularly promising for vision tasks.\n",
      "\n",
      "Next Steps:\n",
      "1. Explore optimal combination of activation function and normalization strategy.\n",
      "2. Test performance on larger datasets like ImageNet.\n",
      "3. Investigate impact of different activation functions at different network depths.\n",
      "4. Analyze computational efficiency of different normalization strategies.\n",
      "5. Further explore hybrid normalization approaches with learned parameters.\n"
     ]
    }
   ],
   "source": [
    "# Conclusion\n",
    "print(\"ConvNeXt Implementation Summary\")\n",
    "print(\"===============================\")\n",
    "print(f\"Best validation accuracy: {training_stats['best_val_acc']:.2f}%\")\n",
    "print(f\"Final validation accuracy: {training_stats['val_accs'][-1]:.2f}%\")\n",
    "print(\"\\nConvNeXt-Tiny Architecture:\")\n",
    "print(f\"- Total parameters: {sum(p.numel() for p in baseline_model.parameters()):,}\")\n",
    "print(f\"- Trainable parameters: {sum(p.numel() for p in baseline_model.parameters() if p.requires_grad):,}\")\n",
    "print(\"\\nTraining details:\")\n",
    "print(f\"- Epochs: {epochs}\")\n",
    "print(f\"- Optimizer: AdamW (lr={lr}, weight_decay={weight_decay})\")\n",
    "print(f\"- Learning rate schedule: Cosine with {warmup_epochs} epochs warmup\")\n",
    "print(f\"- Data augmentation: RandomResizedCrop, RandomHorizontalFlip, Mixup/CutMix\")\n",
    "\n",
    "print(\"\\nObservations:\")\n",
    "print(\"1. ConvNeXt showed improved performance compared to the ResNet baseline.\")\n",
    "print(\"2. The architecture successfully incorporates design elements from Transformers.\")\n",
    "print(\"3. Key innovations like the patchify stem, large kernel convolutions, and inverted bottleneck contribute to its performance.\")\n",
    "\n",
    "# [ADDED] Conclusions about activation functions and normalization strategies\n",
    "print(\"\\nImprovement Observations:\")\n",
    "print(\"1. Alternative activation functions like SiLU may provide better gradient flow, especially in deeper networks.\")\n",
    "print(\"2. GroupNorm can offer more stable training, particularly for smaller batch sizes.\")\n",
    "print(\"3. Hybrid normalization strategies combining different norms can leverage the strengths of each approach.\")\n",
    "print(\"4. The specific combination of SiLU with GroupNorm could be particularly promising for vision tasks.\")\n",
    "\n",
    "print(\"\\nNext Steps:\")\n",
    "print(\"1. Explore optimal combination of activation function and normalization strategy.\")\n",
    "print(\"2. Test performance on larger datasets like ImageNet.\")\n",
    "print(\"3. Investigate impact of different activation functions at different network depths.\")\n",
    "print(\"4. Analyze computational efficiency of different normalization strategies.\")\n",
    "print(\"5. Further explore hybrid normalization approaches with learned parameters.\")"
   ]
  },
  {
   "cell_type": "markdown",
   "id": "8dcdc89c",
   "metadata": {
    "lines_to_next_cell": 0
   },
   "source": [
    "# [ADDED] Functions for running full experiments and analyzing results"
   ]
  },
  {
   "cell_type": "code",
   "execution_count": 21,
   "id": "287a98aa",
   "metadata": {},
   "outputs": [
    {
     "name": "stdout",
     "output_type": "stream",
     "text": [
      "\n",
      "========================================\n",
      "Training convnext_gelu_layernorm...\n",
      "========================================\n",
      "\n"
     ]
    },
    {
     "data": {
      "application/vnd.jupyter.widget-view+json": {
       "model_id": "c0a2b33ab9714112a4cb5e5226eee409",
       "version_major": 2,
       "version_minor": 0
      },
      "text/plain": [
       "Epoch 1/40 [Train]:   0%|          | 0/781 [00:00<?, ?it/s]"
      ]
     },
     "metadata": {},
     "output_type": "display_data"
    },
    {
     "data": {
      "application/vnd.jupyter.widget-view+json": {
       "model_id": "7a7d1fc17256447b8882056e44fb0d4b",
       "version_major": 2,
       "version_minor": 0
      },
      "text/plain": [
       "Validation:   0%|          | 0/157 [00:00<?, ?it/s]"
      ]
     },
     "metadata": {},
     "output_type": "display_data"
    },
    {
     "name": "stdout",
     "output_type": "stream",
     "text": [
      "Epoch 1/30 - Train loss: 2.5377, Val loss: 2.5782, Val acc: 7.48%\n",
      "Validation accuracy improved from 0.00% to 7.48%\n"
     ]
    },
    {
     "data": {
      "application/vnd.jupyter.widget-view+json": {
       "model_id": "ecac3bf5b78747c482dc927a0087cd18",
       "version_major": 2,
       "version_minor": 0
      },
      "text/plain": [
       "Epoch 2/40 [Train]:   0%|          | 0/781 [00:00<?, ?it/s]"
      ]
     },
     "metadata": {},
     "output_type": "display_data"
    },
    {
     "data": {
      "application/vnd.jupyter.widget-view+json": {
       "model_id": "23852a24428445a9a867f893b1f77b97",
       "version_major": 2,
       "version_minor": 0
      },
      "text/plain": [
       "Validation:   0%|          | 0/157 [00:00<?, ?it/s]"
      ]
     },
     "metadata": {},
     "output_type": "display_data"
    },
    {
     "name": "stdout",
     "output_type": "stream",
     "text": [
      "Epoch 2/30 - Train loss: 2.0720, Val loss: 1.6262, Val acc: 44.19%\n",
      "Validation accuracy improved from 7.48% to 44.19%\n"
     ]
    },
    {
     "data": {
      "application/vnd.jupyter.widget-view+json": {
       "model_id": "8e257dbe5dfa450ca98f0fefb0e70c62",
       "version_major": 2,
       "version_minor": 0
      },
      "text/plain": [
       "Epoch 3/40 [Train]:   0%|          | 0/781 [00:00<?, ?it/s]"
      ]
     },
     "metadata": {},
     "output_type": "display_data"
    },
    {
     "data": {
      "application/vnd.jupyter.widget-view+json": {
       "model_id": "9898fdb60cd342dc90f3db00fad9c055",
       "version_major": 2,
       "version_minor": 0
      },
      "text/plain": [
       "Validation:   0%|          | 0/157 [00:00<?, ?it/s]"
      ]
     },
     "metadata": {},
     "output_type": "display_data"
    },
    {
     "name": "stdout",
     "output_type": "stream",
     "text": [
      "Epoch 3/30 - Train loss: 1.9686, Val loss: 1.4826, Val acc: 50.27%\n",
      "Validation accuracy improved from 44.19% to 50.27%\n"
     ]
    },
    {
     "data": {
      "application/vnd.jupyter.widget-view+json": {
       "model_id": "87e00648c2164543bc4adbdf4b04f81e",
       "version_major": 2,
       "version_minor": 0
      },
      "text/plain": [
       "Epoch 4/40 [Train]:   0%|          | 0/781 [00:00<?, ?it/s]"
      ]
     },
     "metadata": {},
     "output_type": "display_data"
    },
    {
     "data": {
      "application/vnd.jupyter.widget-view+json": {
       "model_id": "ceddd28235f54e98951f08d8653602a3",
       "version_major": 2,
       "version_minor": 0
      },
      "text/plain": [
       "Validation:   0%|          | 0/157 [00:00<?, ?it/s]"
      ]
     },
     "metadata": {},
     "output_type": "display_data"
    },
    {
     "name": "stdout",
     "output_type": "stream",
     "text": [
      "Epoch 4/30 - Train loss: 1.9151, Val loss: 1.4110, Val acc: 52.43%\n",
      "Validation accuracy improved from 50.27% to 52.43%\n"
     ]
    },
    {
     "data": {
      "application/vnd.jupyter.widget-view+json": {
       "model_id": "e0dd5214fc9d4468a37b85df4455c7f3",
       "version_major": 2,
       "version_minor": 0
      },
      "text/plain": [
       "Epoch 5/40 [Train]:   0%|          | 0/781 [00:00<?, ?it/s]"
      ]
     },
     "metadata": {},
     "output_type": "display_data"
    },
    {
     "data": {
      "application/vnd.jupyter.widget-view+json": {
       "model_id": "2f06713c576640059ec2a55d798250a8",
       "version_major": 2,
       "version_minor": 0
      },
      "text/plain": [
       "Validation:   0%|          | 0/157 [00:00<?, ?it/s]"
      ]
     },
     "metadata": {},
     "output_type": "display_data"
    },
    {
     "name": "stdout",
     "output_type": "stream",
     "text": [
      "Epoch 5/30 - Train loss: 1.8915, Val loss: 1.3621, Val acc: 54.57%\n",
      "Validation accuracy improved from 52.43% to 54.57%\n"
     ]
    },
    {
     "data": {
      "application/vnd.jupyter.widget-view+json": {
       "model_id": "669fa7594b1d44119bafa28b8c91499e",
       "version_major": 2,
       "version_minor": 0
      },
      "text/plain": [
       "Epoch 6/40 [Train]:   0%|          | 0/781 [00:00<?, ?it/s]"
      ]
     },
     "metadata": {},
     "output_type": "display_data"
    },
    {
     "data": {
      "application/vnd.jupyter.widget-view+json": {
       "model_id": "3ee6ffe8414645c48b6da11d03cdf579",
       "version_major": 2,
       "version_minor": 0
      },
      "text/plain": [
       "Validation:   0%|          | 0/157 [00:00<?, ?it/s]"
      ]
     },
     "metadata": {},
     "output_type": "display_data"
    },
    {
     "name": "stdout",
     "output_type": "stream",
     "text": [
      "Epoch 6/30 - Train loss: 1.8785, Val loss: 1.3499, Val acc: 55.34%\n",
      "Validation accuracy improved from 54.57% to 55.34%\n"
     ]
    },
    {
     "data": {
      "application/vnd.jupyter.widget-view+json": {
       "model_id": "149e2dfd5cd043a79be642a91f3d849b",
       "version_major": 2,
       "version_minor": 0
      },
      "text/plain": [
       "Epoch 7/40 [Train]:   0%|          | 0/781 [00:00<?, ?it/s]"
      ]
     },
     "metadata": {},
     "output_type": "display_data"
    },
    {
     "data": {
      "application/vnd.jupyter.widget-view+json": {
       "model_id": "3d2c9dfc5746453185d0edf59d916eca",
       "version_major": 2,
       "version_minor": 0
      },
      "text/plain": [
       "Validation:   0%|          | 0/157 [00:00<?, ?it/s]"
      ]
     },
     "metadata": {},
     "output_type": "display_data"
    },
    {
     "name": "stdout",
     "output_type": "stream",
     "text": [
      "Epoch 7/30 - Train loss: 1.8428, Val loss: 1.3130, Val acc: 56.83%\n",
      "Validation accuracy improved from 55.34% to 56.83%\n"
     ]
    },
    {
     "data": {
      "application/vnd.jupyter.widget-view+json": {
       "model_id": "f824adc51d004b9784c1d9cc724c0d88",
       "version_major": 2,
       "version_minor": 0
      },
      "text/plain": [
       "Epoch 8/40 [Train]:   0%|          | 0/781 [00:00<?, ?it/s]"
      ]
     },
     "metadata": {},
     "output_type": "display_data"
    },
    {
     "data": {
      "application/vnd.jupyter.widget-view+json": {
       "model_id": "8adf17f6cba94529ac9d265b2b375ebe",
       "version_major": 2,
       "version_minor": 0
      },
      "text/plain": [
       "Validation:   0%|          | 0/157 [00:00<?, ?it/s]"
      ]
     },
     "metadata": {},
     "output_type": "display_data"
    },
    {
     "name": "stdout",
     "output_type": "stream",
     "text": [
      "Epoch 8/30 - Train loss: 1.7935, Val loss: 1.2138, Val acc: 60.77%\n",
      "Validation accuracy improved from 56.83% to 60.77%\n"
     ]
    },
    {
     "data": {
      "application/vnd.jupyter.widget-view+json": {
       "model_id": "4a625b593e2d482db366e6ba57933bbd",
       "version_major": 2,
       "version_minor": 0
      },
      "text/plain": [
       "Epoch 9/40 [Train]:   0%|          | 0/781 [00:00<?, ?it/s]"
      ]
     },
     "metadata": {},
     "output_type": "display_data"
    },
    {
     "data": {
      "application/vnd.jupyter.widget-view+json": {
       "model_id": "ae5e0e037b9844e88a37fe1207bbe5e6",
       "version_major": 2,
       "version_minor": 0
      },
      "text/plain": [
       "Validation:   0%|          | 0/157 [00:00<?, ?it/s]"
      ]
     },
     "metadata": {},
     "output_type": "display_data"
    },
    {
     "name": "stdout",
     "output_type": "stream",
     "text": [
      "Epoch 9/30 - Train loss: 1.7799, Val loss: 1.1544, Val acc: 62.52%\n",
      "Validation accuracy improved from 60.77% to 62.52%\n"
     ]
    },
    {
     "data": {
      "application/vnd.jupyter.widget-view+json": {
       "model_id": "b88471bddc214aa394c462eb4351519b",
       "version_major": 2,
       "version_minor": 0
      },
      "text/plain": [
       "Epoch 10/40 [Train]:   0%|          | 0/781 [00:00<?, ?it/s]"
      ]
     },
     "metadata": {},
     "output_type": "display_data"
    },
    {
     "data": {
      "application/vnd.jupyter.widget-view+json": {
       "model_id": "4a6fa0f9bbfa4bfa834e0f86d4fb88c1",
       "version_major": 2,
       "version_minor": 0
      },
      "text/plain": [
       "Validation:   0%|          | 0/157 [00:00<?, ?it/s]"
      ]
     },
     "metadata": {},
     "output_type": "display_data"
    },
    {
     "name": "stdout",
     "output_type": "stream",
     "text": [
      "Epoch 10/30 - Train loss: 1.7635, Val loss: 1.2309, Val acc: 61.37%\n"
     ]
    },
    {
     "data": {
      "application/vnd.jupyter.widget-view+json": {
       "model_id": "724d8a4618a84bfcab10e9c70e03e592",
       "version_major": 2,
       "version_minor": 0
      },
      "text/plain": [
       "Epoch 11/40 [Train]:   0%|          | 0/781 [00:00<?, ?it/s]"
      ]
     },
     "metadata": {},
     "output_type": "display_data"
    },
    {
     "data": {
      "application/vnd.jupyter.widget-view+json": {
       "model_id": "b995cf7c32854db180fe6b43f22930a9",
       "version_major": 2,
       "version_minor": 0
      },
      "text/plain": [
       "Validation:   0%|          | 0/157 [00:00<?, ?it/s]"
      ]
     },
     "metadata": {},
     "output_type": "display_data"
    },
    {
     "name": "stdout",
     "output_type": "stream",
     "text": [
      "Epoch 11/30 - Train loss: 1.7145, Val loss: 1.1003, Val acc: 65.02%\n",
      "Validation accuracy improved from 62.52% to 65.02%\n"
     ]
    },
    {
     "data": {
      "application/vnd.jupyter.widget-view+json": {
       "model_id": "98373ee637f14d87b170ae8aa25c3915",
       "version_major": 2,
       "version_minor": 0
      },
      "text/plain": [
       "Epoch 12/40 [Train]:   0%|          | 0/781 [00:00<?, ?it/s]"
      ]
     },
     "metadata": {},
     "output_type": "display_data"
    },
    {
     "data": {
      "application/vnd.jupyter.widget-view+json": {
       "model_id": "1437a5f74ee940709c140bfa1a783e93",
       "version_major": 2,
       "version_minor": 0
      },
      "text/plain": [
       "Validation:   0%|          | 0/157 [00:00<?, ?it/s]"
      ]
     },
     "metadata": {},
     "output_type": "display_data"
    },
    {
     "name": "stdout",
     "output_type": "stream",
     "text": [
      "Epoch 12/30 - Train loss: 1.7036, Val loss: 1.0058, Val acc: 67.83%\n",
      "Validation accuracy improved from 65.02% to 67.83%\n"
     ]
    },
    {
     "data": {
      "application/vnd.jupyter.widget-view+json": {
       "model_id": "381b91991fdf461ba5e4684a619dd956",
       "version_major": 2,
       "version_minor": 0
      },
      "text/plain": [
       "Epoch 13/40 [Train]:   0%|          | 0/781 [00:00<?, ?it/s]"
      ]
     },
     "metadata": {},
     "output_type": "display_data"
    },
    {
     "data": {
      "application/vnd.jupyter.widget-view+json": {
       "model_id": "6cb3eb23b32c4c35830a7e48d3c665d1",
       "version_major": 2,
       "version_minor": 0
      },
      "text/plain": [
       "Validation:   0%|          | 0/157 [00:00<?, ?it/s]"
      ]
     },
     "metadata": {},
     "output_type": "display_data"
    },
    {
     "name": "stdout",
     "output_type": "stream",
     "text": [
      "Epoch 13/30 - Train loss: 1.7122, Val loss: 1.0740, Val acc: 67.32%\n"
     ]
    },
    {
     "data": {
      "application/vnd.jupyter.widget-view+json": {
       "model_id": "45bda8832d06434d83d5e510f6441ebb",
       "version_major": 2,
       "version_minor": 0
      },
      "text/plain": [
       "Epoch 14/40 [Train]:   0%|          | 0/781 [00:00<?, ?it/s]"
      ]
     },
     "metadata": {},
     "output_type": "display_data"
    },
    {
     "data": {
      "application/vnd.jupyter.widget-view+json": {
       "model_id": "27c882887c154f76801fa1f2e8103676",
       "version_major": 2,
       "version_minor": 0
      },
      "text/plain": [
       "Validation:   0%|          | 0/157 [00:00<?, ?it/s]"
      ]
     },
     "metadata": {},
     "output_type": "display_data"
    },
    {
     "name": "stdout",
     "output_type": "stream",
     "text": [
      "Epoch 14/30 - Train loss: 1.6619, Val loss: 1.0316, Val acc: 68.55%\n",
      "Validation accuracy improved from 67.83% to 68.55%\n"
     ]
    },
    {
     "data": {
      "application/vnd.jupyter.widget-view+json": {
       "model_id": "2a31e041b8c442d69f9c73bcf1e46d8a",
       "version_major": 2,
       "version_minor": 0
      },
      "text/plain": [
       "Epoch 15/40 [Train]:   0%|          | 0/781 [00:00<?, ?it/s]"
      ]
     },
     "metadata": {},
     "output_type": "display_data"
    },
    {
     "data": {
      "application/vnd.jupyter.widget-view+json": {
       "model_id": "bfb49f531ffd4c68a7586633e76c883e",
       "version_major": 2,
       "version_minor": 0
      },
      "text/plain": [
       "Validation:   0%|          | 0/157 [00:00<?, ?it/s]"
      ]
     },
     "metadata": {},
     "output_type": "display_data"
    },
    {
     "name": "stdout",
     "output_type": "stream",
     "text": [
      "Epoch 15/30 - Train loss: 1.6540, Val loss: 1.0857, Val acc: 68.36%\n"
     ]
    },
    {
     "data": {
      "application/vnd.jupyter.widget-view+json": {
       "model_id": "8cbe8d33893c478f913f1ea787b98cbf",
       "version_major": 2,
       "version_minor": 0
      },
      "text/plain": [
       "Epoch 16/40 [Train]:   0%|          | 0/781 [00:00<?, ?it/s]"
      ]
     },
     "metadata": {},
     "output_type": "display_data"
    },
    {
     "data": {
      "application/vnd.jupyter.widget-view+json": {
       "model_id": "74a17b37b7e94b41bb77c13d06a1064a",
       "version_major": 2,
       "version_minor": 0
      },
      "text/plain": [
       "Validation:   0%|          | 0/157 [00:00<?, ?it/s]"
      ]
     },
     "metadata": {},
     "output_type": "display_data"
    },
    {
     "name": "stdout",
     "output_type": "stream",
     "text": [
      "Epoch 16/30 - Train loss: 1.6268, Val loss: 0.9614, Val acc: 70.82%\n",
      "Validation accuracy improved from 68.55% to 70.82%\n"
     ]
    },
    {
     "data": {
      "application/vnd.jupyter.widget-view+json": {
       "model_id": "f215fe2639754d40ab80afa4c85ebb38",
       "version_major": 2,
       "version_minor": 0
      },
      "text/plain": [
       "Epoch 17/40 [Train]:   0%|          | 0/781 [00:00<?, ?it/s]"
      ]
     },
     "metadata": {},
     "output_type": "display_data"
    },
    {
     "data": {
      "application/vnd.jupyter.widget-view+json": {
       "model_id": "e20fe8f5435e4d028ebe7a5c4b5ecf90",
       "version_major": 2,
       "version_minor": 0
      },
      "text/plain": [
       "Validation:   0%|          | 0/157 [00:00<?, ?it/s]"
      ]
     },
     "metadata": {},
     "output_type": "display_data"
    },
    {
     "name": "stdout",
     "output_type": "stream",
     "text": [
      "Epoch 17/30 - Train loss: 1.6078, Val loss: 0.9521, Val acc: 71.57%\n",
      "Validation accuracy improved from 70.82% to 71.57%\n"
     ]
    },
    {
     "data": {
      "application/vnd.jupyter.widget-view+json": {
       "model_id": "5c326b8b1ee142be95309943ce57c2d6",
       "version_major": 2,
       "version_minor": 0
      },
      "text/plain": [
       "Epoch 18/40 [Train]:   0%|          | 0/781 [00:00<?, ?it/s]"
      ]
     },
     "metadata": {},
     "output_type": "display_data"
    },
    {
     "data": {
      "application/vnd.jupyter.widget-view+json": {
       "model_id": "49c18046386b41f39044a735747d7623",
       "version_major": 2,
       "version_minor": 0
      },
      "text/plain": [
       "Validation:   0%|          | 0/157 [00:00<?, ?it/s]"
      ]
     },
     "metadata": {},
     "output_type": "display_data"
    },
    {
     "name": "stdout",
     "output_type": "stream",
     "text": [
      "Epoch 18/30 - Train loss: 1.6040, Val loss: 0.8928, Val acc: 73.00%\n",
      "Validation accuracy improved from 71.57% to 73.00%\n"
     ]
    },
    {
     "data": {
      "application/vnd.jupyter.widget-view+json": {
       "model_id": "886101ce51e642f3947a367b72cee2c8",
       "version_major": 2,
       "version_minor": 0
      },
      "text/plain": [
       "Epoch 19/40 [Train]:   0%|          | 0/781 [00:00<?, ?it/s]"
      ]
     },
     "metadata": {},
     "output_type": "display_data"
    },
    {
     "data": {
      "application/vnd.jupyter.widget-view+json": {
       "model_id": "e84c4d7a258d46b0a9ac59198c07091d",
       "version_major": 2,
       "version_minor": 0
      },
      "text/plain": [
       "Validation:   0%|          | 0/157 [00:00<?, ?it/s]"
      ]
     },
     "metadata": {},
     "output_type": "display_data"
    },
    {
     "name": "stdout",
     "output_type": "stream",
     "text": [
      "Epoch 19/30 - Train loss: 1.5867, Val loss: 0.9483, Val acc: 71.77%\n"
     ]
    },
    {
     "data": {
      "application/vnd.jupyter.widget-view+json": {
       "model_id": "2da5c826ef0042ffa659355171a0d380",
       "version_major": 2,
       "version_minor": 0
      },
      "text/plain": [
       "Epoch 20/40 [Train]:   0%|          | 0/781 [00:00<?, ?it/s]"
      ]
     },
     "metadata": {},
     "output_type": "display_data"
    },
    {
     "data": {
      "application/vnd.jupyter.widget-view+json": {
       "model_id": "40b4888c19904b22a954ec6e06b82ec9",
       "version_major": 2,
       "version_minor": 0
      },
      "text/plain": [
       "Validation:   0%|          | 0/157 [00:00<?, ?it/s]"
      ]
     },
     "metadata": {},
     "output_type": "display_data"
    },
    {
     "name": "stdout",
     "output_type": "stream",
     "text": [
      "Epoch 20/30 - Train loss: 1.5656, Val loss: 0.9049, Val acc: 73.39%\n",
      "Validation accuracy improved from 73.00% to 73.39%\n"
     ]
    },
    {
     "data": {
      "application/vnd.jupyter.widget-view+json": {
       "model_id": "259362c5a30941619896bf94cc039ca8",
       "version_major": 2,
       "version_minor": 0
      },
      "text/plain": [
       "Epoch 21/40 [Train]:   0%|          | 0/781 [00:00<?, ?it/s]"
      ]
     },
     "metadata": {},
     "output_type": "display_data"
    },
    {
     "data": {
      "application/vnd.jupyter.widget-view+json": {
       "model_id": "facdf7211fee424d9d5d257d880a2212",
       "version_major": 2,
       "version_minor": 0
      },
      "text/plain": [
       "Validation:   0%|          | 0/157 [00:00<?, ?it/s]"
      ]
     },
     "metadata": {},
     "output_type": "display_data"
    },
    {
     "name": "stdout",
     "output_type": "stream",
     "text": [
      "Epoch 21/30 - Train loss: 1.5536, Val loss: 0.8480, Val acc: 74.76%\n",
      "Validation accuracy improved from 73.39% to 74.76%\n"
     ]
    },
    {
     "data": {
      "application/vnd.jupyter.widget-view+json": {
       "model_id": "dd72d11526ee412ba687eca6e25f5427",
       "version_major": 2,
       "version_minor": 0
      },
      "text/plain": [
       "Epoch 22/40 [Train]:   0%|          | 0/781 [00:00<?, ?it/s]"
      ]
     },
     "metadata": {},
     "output_type": "display_data"
    },
    {
     "data": {
      "application/vnd.jupyter.widget-view+json": {
       "model_id": "4a1ee3078e9b42d8855cf0b89de9025e",
       "version_major": 2,
       "version_minor": 0
      },
      "text/plain": [
       "Validation:   0%|          | 0/157 [00:00<?, ?it/s]"
      ]
     },
     "metadata": {},
     "output_type": "display_data"
    },
    {
     "name": "stdout",
     "output_type": "stream",
     "text": [
      "Epoch 22/30 - Train loss: 1.5372, Val loss: 0.8482, Val acc: 75.13%\n",
      "Validation accuracy improved from 74.76% to 75.13%\n"
     ]
    },
    {
     "data": {
      "application/vnd.jupyter.widget-view+json": {
       "model_id": "dda935ee58c542489ce82adae7766773",
       "version_major": 2,
       "version_minor": 0
      },
      "text/plain": [
       "Epoch 23/40 [Train]:   0%|          | 0/781 [00:00<?, ?it/s]"
      ]
     },
     "metadata": {},
     "output_type": "display_data"
    },
    {
     "data": {
      "application/vnd.jupyter.widget-view+json": {
       "model_id": "663a6cbd530940f09df36045387c65d7",
       "version_major": 2,
       "version_minor": 0
      },
      "text/plain": [
       "Validation:   0%|          | 0/157 [00:00<?, ?it/s]"
      ]
     },
     "metadata": {},
     "output_type": "display_data"
    },
    {
     "name": "stdout",
     "output_type": "stream",
     "text": [
      "Epoch 23/30 - Train loss: 1.4965, Val loss: 0.8450, Val acc: 76.06%\n",
      "Validation accuracy improved from 75.13% to 76.06%\n"
     ]
    },
    {
     "data": {
      "application/vnd.jupyter.widget-view+json": {
       "model_id": "f68fcdcc792c4d6bb5b0d25ece5458ae",
       "version_major": 2,
       "version_minor": 0
      },
      "text/plain": [
       "Epoch 24/40 [Train]:   0%|          | 0/781 [00:00<?, ?it/s]"
      ]
     },
     "metadata": {},
     "output_type": "display_data"
    },
    {
     "data": {
      "application/vnd.jupyter.widget-view+json": {
       "model_id": "e1d06da9334c467ab946c1c08682d098",
       "version_major": 2,
       "version_minor": 0
      },
      "text/plain": [
       "Validation:   0%|          | 0/157 [00:00<?, ?it/s]"
      ]
     },
     "metadata": {},
     "output_type": "display_data"
    },
    {
     "name": "stdout",
     "output_type": "stream",
     "text": [
      "Epoch 24/30 - Train loss: 1.4982, Val loss: 0.8108, Val acc: 76.12%\n",
      "Validation accuracy improved from 76.06% to 76.12%\n"
     ]
    },
    {
     "data": {
      "application/vnd.jupyter.widget-view+json": {
       "model_id": "d5acdcf7f04b4c238b78d63f2fc5a296",
       "version_major": 2,
       "version_minor": 0
      },
      "text/plain": [
       "Epoch 25/40 [Train]:   0%|          | 0/781 [00:00<?, ?it/s]"
      ]
     },
     "metadata": {},
     "output_type": "display_data"
    },
    {
     "data": {
      "application/vnd.jupyter.widget-view+json": {
       "model_id": "bae7f7cf36d8493bbde15a3bf8c6011a",
       "version_major": 2,
       "version_minor": 0
      },
      "text/plain": [
       "Validation:   0%|          | 0/157 [00:00<?, ?it/s]"
      ]
     },
     "metadata": {},
     "output_type": "display_data"
    },
    {
     "name": "stdout",
     "output_type": "stream",
     "text": [
      "Epoch 25/30 - Train loss: 1.4844, Val loss: 0.8139, Val acc: 76.28%\n",
      "Validation accuracy improved from 76.12% to 76.28%\n"
     ]
    },
    {
     "data": {
      "application/vnd.jupyter.widget-view+json": {
       "model_id": "059a10fd2229421380c319d76e8ff2c5",
       "version_major": 2,
       "version_minor": 0
      },
      "text/plain": [
       "Epoch 26/40 [Train]:   0%|          | 0/781 [00:00<?, ?it/s]"
      ]
     },
     "metadata": {},
     "output_type": "display_data"
    },
    {
     "data": {
      "application/vnd.jupyter.widget-view+json": {
       "model_id": "972b4be26e2f4d1eac568f815f7d298f",
       "version_major": 2,
       "version_minor": 0
      },
      "text/plain": [
       "Validation:   0%|          | 0/157 [00:00<?, ?it/s]"
      ]
     },
     "metadata": {},
     "output_type": "display_data"
    },
    {
     "name": "stdout",
     "output_type": "stream",
     "text": [
      "Epoch 26/30 - Train loss: 1.5045, Val loss: 0.8209, Val acc: 76.54%\n",
      "Validation accuracy improved from 76.28% to 76.54%\n"
     ]
    },
    {
     "data": {
      "application/vnd.jupyter.widget-view+json": {
       "model_id": "c2c369a01a46448eaa261052286bf4c0",
       "version_major": 2,
       "version_minor": 0
      },
      "text/plain": [
       "Epoch 27/40 [Train]:   0%|          | 0/781 [00:00<?, ?it/s]"
      ]
     },
     "metadata": {},
     "output_type": "display_data"
    },
    {
     "data": {
      "application/vnd.jupyter.widget-view+json": {
       "model_id": "ed06a1e7b00c426c82149cec5f16be05",
       "version_major": 2,
       "version_minor": 0
      },
      "text/plain": [
       "Validation:   0%|          | 0/157 [00:00<?, ?it/s]"
      ]
     },
     "metadata": {},
     "output_type": "display_data"
    },
    {
     "name": "stdout",
     "output_type": "stream",
     "text": [
      "Epoch 27/30 - Train loss: 1.5152, Val loss: 0.8059, Val acc: 76.91%\n",
      "Validation accuracy improved from 76.54% to 76.91%\n"
     ]
    },
    {
     "data": {
      "application/vnd.jupyter.widget-view+json": {
       "model_id": "78e3ba1ec3b0426097593f7dffecc681",
       "version_major": 2,
       "version_minor": 0
      },
      "text/plain": [
       "Epoch 28/40 [Train]:   0%|          | 0/781 [00:00<?, ?it/s]"
      ]
     },
     "metadata": {},
     "output_type": "display_data"
    },
    {
     "data": {
      "application/vnd.jupyter.widget-view+json": {
       "model_id": "d50c7bf0ba88463fb753b3906fbf3213",
       "version_major": 2,
       "version_minor": 0
      },
      "text/plain": [
       "Validation:   0%|          | 0/157 [00:00<?, ?it/s]"
      ]
     },
     "metadata": {},
     "output_type": "display_data"
    },
    {
     "name": "stdout",
     "output_type": "stream",
     "text": [
      "Epoch 28/30 - Train loss: 1.4705, Val loss: 0.8005, Val acc: 76.87%\n"
     ]
    },
    {
     "data": {
      "application/vnd.jupyter.widget-view+json": {
       "model_id": "098a627e387b42a2a96dd8c3cbdaa6ab",
       "version_major": 2,
       "version_minor": 0
      },
      "text/plain": [
       "Epoch 29/40 [Train]:   0%|          | 0/781 [00:00<?, ?it/s]"
      ]
     },
     "metadata": {},
     "output_type": "display_data"
    },
    {
     "data": {
      "application/vnd.jupyter.widget-view+json": {
       "model_id": "d3f51cb574774d55b55f64a1ff5b60b7",
       "version_major": 2,
       "version_minor": 0
      },
      "text/plain": [
       "Validation:   0%|          | 0/157 [00:00<?, ?it/s]"
      ]
     },
     "metadata": {},
     "output_type": "display_data"
    },
    {
     "name": "stdout",
     "output_type": "stream",
     "text": [
      "Epoch 29/30 - Train loss: 1.4756, Val loss: 0.7890, Val acc: 77.16%\n",
      "Validation accuracy improved from 76.91% to 77.16%\n"
     ]
    },
    {
     "data": {
      "application/vnd.jupyter.widget-view+json": {
       "model_id": "8157dec4907e45a69987777effd79b91",
       "version_major": 2,
       "version_minor": 0
      },
      "text/plain": [
       "Epoch 30/40 [Train]:   0%|          | 0/781 [00:00<?, ?it/s]"
      ]
     },
     "metadata": {},
     "output_type": "display_data"
    },
    {
     "data": {
      "application/vnd.jupyter.widget-view+json": {
       "model_id": "31668d36d22c48ed9e10f84ac848a015",
       "version_major": 2,
       "version_minor": 0
      },
      "text/plain": [
       "Validation:   0%|          | 0/157 [00:00<?, ?it/s]"
      ]
     },
     "metadata": {},
     "output_type": "display_data"
    },
    {
     "name": "stdout",
     "output_type": "stream",
     "text": [
      "Epoch 30/30 - Train loss: 1.4591, Val loss: 0.7888, Val acc: 77.32%\n",
      "Validation accuracy improved from 77.16% to 77.32%\n",
      "\n",
      "========================================\n",
      "Training convnext_silu_layernorm...\n",
      "========================================\n",
      "\n"
     ]
    },
    {
     "data": {
      "application/vnd.jupyter.widget-view+json": {
       "model_id": "e33aa77cbb2148ac9644f15c180d11f8",
       "version_major": 2,
       "version_minor": 0
      },
      "text/plain": [
       "Epoch 1/40 [Train]:   0%|          | 0/781 [00:00<?, ?it/s]"
      ]
     },
     "metadata": {},
     "output_type": "display_data"
    },
    {
     "data": {
      "application/vnd.jupyter.widget-view+json": {
       "model_id": "03ee1a6235aa41938b4ace83eb1dca1f",
       "version_major": 2,
       "version_minor": 0
      },
      "text/plain": [
       "Validation:   0%|          | 0/157 [00:00<?, ?it/s]"
      ]
     },
     "metadata": {},
     "output_type": "display_data"
    },
    {
     "name": "stdout",
     "output_type": "stream",
     "text": [
      "Epoch 1/30 - Train loss: 2.4327, Val loss: 2.4213, Val acc: 11.56%\n",
      "Validation accuracy improved from 0.00% to 11.56%\n"
     ]
    },
    {
     "data": {
      "application/vnd.jupyter.widget-view+json": {
       "model_id": "8ae6ee14050d4bdf95440dced8ff918d",
       "version_major": 2,
       "version_minor": 0
      },
      "text/plain": [
       "Epoch 2/40 [Train]:   0%|          | 0/781 [00:00<?, ?it/s]"
      ]
     },
     "metadata": {},
     "output_type": "display_data"
    },
    {
     "data": {
      "application/vnd.jupyter.widget-view+json": {
       "model_id": "7a43fd54425445878fc4edf336d6cd53",
       "version_major": 2,
       "version_minor": 0
      },
      "text/plain": [
       "Validation:   0%|          | 0/157 [00:00<?, ?it/s]"
      ]
     },
     "metadata": {},
     "output_type": "display_data"
    },
    {
     "name": "stdout",
     "output_type": "stream",
     "text": [
      "Epoch 2/30 - Train loss: 2.0801, Val loss: 1.6351, Val acc: 43.37%\n",
      "Validation accuracy improved from 11.56% to 43.37%\n"
     ]
    },
    {
     "data": {
      "application/vnd.jupyter.widget-view+json": {
       "model_id": "1b0a5797f0de4cae9fd3dd3d99bb4f25",
       "version_major": 2,
       "version_minor": 0
      },
      "text/plain": [
       "Epoch 3/40 [Train]:   0%|          | 0/781 [00:00<?, ?it/s]"
      ]
     },
     "metadata": {},
     "output_type": "display_data"
    },
    {
     "data": {
      "application/vnd.jupyter.widget-view+json": {
       "model_id": "c9a5937925714d099efd2128c3340fd0",
       "version_major": 2,
       "version_minor": 0
      },
      "text/plain": [
       "Validation:   0%|          | 0/157 [00:00<?, ?it/s]"
      ]
     },
     "metadata": {},
     "output_type": "display_data"
    },
    {
     "name": "stdout",
     "output_type": "stream",
     "text": [
      "Epoch 3/30 - Train loss: 1.9879, Val loss: 1.5294, Val acc: 48.94%\n",
      "Validation accuracy improved from 43.37% to 48.94%\n"
     ]
    },
    {
     "data": {
      "application/vnd.jupyter.widget-view+json": {
       "model_id": "610aed9c7bf14ff8a452f3a81d5e2709",
       "version_major": 2,
       "version_minor": 0
      },
      "text/plain": [
       "Epoch 4/40 [Train]:   0%|          | 0/781 [00:00<?, ?it/s]"
      ]
     },
     "metadata": {},
     "output_type": "display_data"
    },
    {
     "data": {
      "application/vnd.jupyter.widget-view+json": {
       "model_id": "8817220ed394423697a0ad60cbd1081c",
       "version_major": 2,
       "version_minor": 0
      },
      "text/plain": [
       "Validation:   0%|          | 0/157 [00:00<?, ?it/s]"
      ]
     },
     "metadata": {},
     "output_type": "display_data"
    },
    {
     "name": "stdout",
     "output_type": "stream",
     "text": [
      "Epoch 4/30 - Train loss: 1.9399, Val loss: 1.4823, Val acc: 49.70%\n",
      "Validation accuracy improved from 48.94% to 49.70%\n"
     ]
    },
    {
     "data": {
      "application/vnd.jupyter.widget-view+json": {
       "model_id": "9af19311b8f445f4be1a99daf3fb434d",
       "version_major": 2,
       "version_minor": 0
      },
      "text/plain": [
       "Epoch 5/40 [Train]:   0%|          | 0/781 [00:00<?, ?it/s]"
      ]
     },
     "metadata": {},
     "output_type": "display_data"
    },
    {
     "data": {
      "application/vnd.jupyter.widget-view+json": {
       "model_id": "fae3e4e3eac54da39861d189777ca70d",
       "version_major": 2,
       "version_minor": 0
      },
      "text/plain": [
       "Validation:   0%|          | 0/157 [00:00<?, ?it/s]"
      ]
     },
     "metadata": {},
     "output_type": "display_data"
    },
    {
     "name": "stdout",
     "output_type": "stream",
     "text": [
      "Epoch 5/30 - Train loss: 1.9108, Val loss: 1.4142, Val acc: 52.70%\n",
      "Validation accuracy improved from 49.70% to 52.70%\n"
     ]
    },
    {
     "data": {
      "application/vnd.jupyter.widget-view+json": {
       "model_id": "08718fb213f94595a840a80efadf8694",
       "version_major": 2,
       "version_minor": 0
      },
      "text/plain": [
       "Epoch 6/40 [Train]:   0%|          | 0/781 [00:00<?, ?it/s]"
      ]
     },
     "metadata": {},
     "output_type": "display_data"
    },
    {
     "data": {
      "application/vnd.jupyter.widget-view+json": {
       "model_id": "2b4a067424794c028bb3860161294904",
       "version_major": 2,
       "version_minor": 0
      },
      "text/plain": [
       "Validation:   0%|          | 0/157 [00:00<?, ?it/s]"
      ]
     },
     "metadata": {},
     "output_type": "display_data"
    },
    {
     "name": "stdout",
     "output_type": "stream",
     "text": [
      "Epoch 6/30 - Train loss: 1.8926, Val loss: 1.3789, Val acc: 54.19%\n",
      "Validation accuracy improved from 52.70% to 54.19%\n"
     ]
    },
    {
     "data": {
      "application/vnd.jupyter.widget-view+json": {
       "model_id": "ccd9d15d80304277811a23078a7eb5ef",
       "version_major": 2,
       "version_minor": 0
      },
      "text/plain": [
       "Epoch 7/40 [Train]:   0%|          | 0/781 [00:00<?, ?it/s]"
      ]
     },
     "metadata": {},
     "output_type": "display_data"
    },
    {
     "data": {
      "application/vnd.jupyter.widget-view+json": {
       "model_id": "e5f3f0b2a9b5444a99c8de597589f64b",
       "version_major": 2,
       "version_minor": 0
      },
      "text/plain": [
       "Validation:   0%|          | 0/157 [00:00<?, ?it/s]"
      ]
     },
     "metadata": {},
     "output_type": "display_data"
    },
    {
     "name": "stdout",
     "output_type": "stream",
     "text": [
      "Epoch 7/30 - Train loss: 1.8438, Val loss: 1.3081, Val acc: 57.18%\n",
      "Validation accuracy improved from 54.19% to 57.18%\n"
     ]
    },
    {
     "data": {
      "application/vnd.jupyter.widget-view+json": {
       "model_id": "480350a528d5418bbf6f37a8ce7bf5f6",
       "version_major": 2,
       "version_minor": 0
      },
      "text/plain": [
       "Epoch 8/40 [Train]:   0%|          | 0/781 [00:00<?, ?it/s]"
      ]
     },
     "metadata": {},
     "output_type": "display_data"
    },
    {
     "data": {
      "application/vnd.jupyter.widget-view+json": {
       "model_id": "4bd3e5aa200943479ed35fac672d3885",
       "version_major": 2,
       "version_minor": 0
      },
      "text/plain": [
       "Validation:   0%|          | 0/157 [00:00<?, ?it/s]"
      ]
     },
     "metadata": {},
     "output_type": "display_data"
    },
    {
     "name": "stdout",
     "output_type": "stream",
     "text": [
      "Epoch 8/30 - Train loss: 1.8220, Val loss: 1.2329, Val acc: 59.06%\n",
      "Validation accuracy improved from 57.18% to 59.06%\n"
     ]
    },
    {
     "data": {
      "application/vnd.jupyter.widget-view+json": {
       "model_id": "2a65fae4dc224a0f8c0f08d9587425dd",
       "version_major": 2,
       "version_minor": 0
      },
      "text/plain": [
       "Epoch 9/40 [Train]:   0%|          | 0/781 [00:00<?, ?it/s]"
      ]
     },
     "metadata": {},
     "output_type": "display_data"
    },
    {
     "data": {
      "application/vnd.jupyter.widget-view+json": {
       "model_id": "21f329c3c5974ccbb1777e2d0a1ea1a6",
       "version_major": 2,
       "version_minor": 0
      },
      "text/plain": [
       "Validation:   0%|          | 0/157 [00:00<?, ?it/s]"
      ]
     },
     "metadata": {},
     "output_type": "display_data"
    },
    {
     "name": "stdout",
     "output_type": "stream",
     "text": [
      "Epoch 9/30 - Train loss: 1.8112, Val loss: 1.2582, Val acc: 59.40%\n",
      "Validation accuracy improved from 59.06% to 59.40%\n"
     ]
    },
    {
     "data": {
      "application/vnd.jupyter.widget-view+json": {
       "model_id": "5721e09acff144c497914fca6552be74",
       "version_major": 2,
       "version_minor": 0
      },
      "text/plain": [
       "Epoch 10/40 [Train]:   0%|          | 0/781 [00:00<?, ?it/s]"
      ]
     },
     "metadata": {},
     "output_type": "display_data"
    },
    {
     "data": {
      "application/vnd.jupyter.widget-view+json": {
       "model_id": "e554d42113244f8bbe2278d9a7827607",
       "version_major": 2,
       "version_minor": 0
      },
      "text/plain": [
       "Validation:   0%|          | 0/157 [00:00<?, ?it/s]"
      ]
     },
     "metadata": {},
     "output_type": "display_data"
    },
    {
     "name": "stdout",
     "output_type": "stream",
     "text": [
      "Epoch 10/30 - Train loss: 1.7728, Val loss: 1.1645, Val acc: 62.48%\n",
      "Validation accuracy improved from 59.40% to 62.48%\n"
     ]
    },
    {
     "data": {
      "application/vnd.jupyter.widget-view+json": {
       "model_id": "52283de0c6264c5dbaa26075c28c1f05",
       "version_major": 2,
       "version_minor": 0
      },
      "text/plain": [
       "Epoch 11/40 [Train]:   0%|          | 0/781 [00:00<?, ?it/s]"
      ]
     },
     "metadata": {},
     "output_type": "display_data"
    },
    {
     "data": {
      "application/vnd.jupyter.widget-view+json": {
       "model_id": "3315da12b3ec461bbc48d0d365c0e9e7",
       "version_major": 2,
       "version_minor": 0
      },
      "text/plain": [
       "Validation:   0%|          | 0/157 [00:00<?, ?it/s]"
      ]
     },
     "metadata": {},
     "output_type": "display_data"
    },
    {
     "name": "stdout",
     "output_type": "stream",
     "text": [
      "Epoch 11/30 - Train loss: 1.7525, Val loss: 1.1058, Val acc: 64.59%\n",
      "Validation accuracy improved from 62.48% to 64.59%\n"
     ]
    },
    {
     "data": {
      "application/vnd.jupyter.widget-view+json": {
       "model_id": "a4ef139635434cbe9957d48c296b6f9b",
       "version_major": 2,
       "version_minor": 0
      },
      "text/plain": [
       "Epoch 12/40 [Train]:   0%|          | 0/781 [00:00<?, ?it/s]"
      ]
     },
     "metadata": {},
     "output_type": "display_data"
    },
    {
     "data": {
      "application/vnd.jupyter.widget-view+json": {
       "model_id": "cdbbf2fb942e45feac09b5504ee7930a",
       "version_major": 2,
       "version_minor": 0
      },
      "text/plain": [
       "Validation:   0%|          | 0/157 [00:00<?, ?it/s]"
      ]
     },
     "metadata": {},
     "output_type": "display_data"
    },
    {
     "name": "stdout",
     "output_type": "stream",
     "text": [
      "Epoch 12/30 - Train loss: 1.7321, Val loss: 1.1311, Val acc: 64.82%\n",
      "Validation accuracy improved from 64.59% to 64.82%\n"
     ]
    },
    {
     "data": {
      "application/vnd.jupyter.widget-view+json": {
       "model_id": "e06689b4380849f58c897b9b7c44d010",
       "version_major": 2,
       "version_minor": 0
      },
      "text/plain": [
       "Epoch 13/40 [Train]:   0%|          | 0/781 [00:00<?, ?it/s]"
      ]
     },
     "metadata": {},
     "output_type": "display_data"
    },
    {
     "data": {
      "application/vnd.jupyter.widget-view+json": {
       "model_id": "2c63c63252d3455cb258001f7c20a119",
       "version_major": 2,
       "version_minor": 0
      },
      "text/plain": [
       "Validation:   0%|          | 0/157 [00:00<?, ?it/s]"
      ]
     },
     "metadata": {},
     "output_type": "display_data"
    },
    {
     "name": "stdout",
     "output_type": "stream",
     "text": [
      "Epoch 13/30 - Train loss: 1.7117, Val loss: 1.1688, Val acc: 66.00%\n",
      "Validation accuracy improved from 64.82% to 66.00%\n"
     ]
    },
    {
     "data": {
      "application/vnd.jupyter.widget-view+json": {
       "model_id": "ca34713b772847a984e49e9637f8d07b",
       "version_major": 2,
       "version_minor": 0
      },
      "text/plain": [
       "Epoch 14/40 [Train]:   0%|          | 0/781 [00:00<?, ?it/s]"
      ]
     },
     "metadata": {},
     "output_type": "display_data"
    },
    {
     "data": {
      "application/vnd.jupyter.widget-view+json": {
       "model_id": "a132aa6ef836483f8a84a72552ae4b5b",
       "version_major": 2,
       "version_minor": 0
      },
      "text/plain": [
       "Validation:   0%|          | 0/157 [00:00<?, ?it/s]"
      ]
     },
     "metadata": {},
     "output_type": "display_data"
    },
    {
     "name": "stdout",
     "output_type": "stream",
     "text": [
      "Epoch 14/30 - Train loss: 1.6815, Val loss: 1.0569, Val acc: 68.15%\n",
      "Validation accuracy improved from 66.00% to 68.15%\n"
     ]
    },
    {
     "data": {
      "application/vnd.jupyter.widget-view+json": {
       "model_id": "047063d0af704d97889310c1915d3538",
       "version_major": 2,
       "version_minor": 0
      },
      "text/plain": [
       "Epoch 15/40 [Train]:   0%|          | 0/781 [00:00<?, ?it/s]"
      ]
     },
     "metadata": {},
     "output_type": "display_data"
    },
    {
     "data": {
      "application/vnd.jupyter.widget-view+json": {
       "model_id": "07dfd6b2575e4cd186cee567cb3c033e",
       "version_major": 2,
       "version_minor": 0
      },
      "text/plain": [
       "Validation:   0%|          | 0/157 [00:00<?, ?it/s]"
      ]
     },
     "metadata": {},
     "output_type": "display_data"
    },
    {
     "name": "stdout",
     "output_type": "stream",
     "text": [
      "Epoch 15/30 - Train loss: 1.6534, Val loss: 0.9927, Val acc: 70.61%\n",
      "Validation accuracy improved from 68.15% to 70.61%\n"
     ]
    },
    {
     "data": {
      "application/vnd.jupyter.widget-view+json": {
       "model_id": "160cc0e382ab48d984b11a8904e027b6",
       "version_major": 2,
       "version_minor": 0
      },
      "text/plain": [
       "Epoch 16/40 [Train]:   0%|          | 0/781 [00:00<?, ?it/s]"
      ]
     },
     "metadata": {},
     "output_type": "display_data"
    },
    {
     "data": {
      "application/vnd.jupyter.widget-view+json": {
       "model_id": "56c3a62fd43345c19d815e7e6c5aab0e",
       "version_major": 2,
       "version_minor": 0
      },
      "text/plain": [
       "Validation:   0%|          | 0/157 [00:00<?, ?it/s]"
      ]
     },
     "metadata": {},
     "output_type": "display_data"
    },
    {
     "name": "stdout",
     "output_type": "stream",
     "text": [
      "Epoch 16/30 - Train loss: 1.6583, Val loss: 0.9998, Val acc: 70.40%\n"
     ]
    },
    {
     "data": {
      "application/vnd.jupyter.widget-view+json": {
       "model_id": "c7ac45ad2d54445996875a90355770da",
       "version_major": 2,
       "version_minor": 0
      },
      "text/plain": [
       "Epoch 17/40 [Train]:   0%|          | 0/781 [00:00<?, ?it/s]"
      ]
     },
     "metadata": {},
     "output_type": "display_data"
    },
    {
     "data": {
      "application/vnd.jupyter.widget-view+json": {
       "model_id": "904ace4e77864320831b93c3c6df0c1a",
       "version_major": 2,
       "version_minor": 0
      },
      "text/plain": [
       "Validation:   0%|          | 0/157 [00:00<?, ?it/s]"
      ]
     },
     "metadata": {},
     "output_type": "display_data"
    },
    {
     "name": "stdout",
     "output_type": "stream",
     "text": [
      "Epoch 17/30 - Train loss: 1.6215, Val loss: 0.9586, Val acc: 71.55%\n",
      "Validation accuracy improved from 70.61% to 71.55%\n"
     ]
    },
    {
     "data": {
      "application/vnd.jupyter.widget-view+json": {
       "model_id": "4903713279984a57b45b461c43b427db",
       "version_major": 2,
       "version_minor": 0
      },
      "text/plain": [
       "Epoch 18/40 [Train]:   0%|          | 0/781 [00:00<?, ?it/s]"
      ]
     },
     "metadata": {},
     "output_type": "display_data"
    },
    {
     "data": {
      "application/vnd.jupyter.widget-view+json": {
       "model_id": "52c9bd6971f64d47870d317314cf6758",
       "version_major": 2,
       "version_minor": 0
      },
      "text/plain": [
       "Validation:   0%|          | 0/157 [00:00<?, ?it/s]"
      ]
     },
     "metadata": {},
     "output_type": "display_data"
    },
    {
     "name": "stdout",
     "output_type": "stream",
     "text": [
      "Epoch 18/30 - Train loss: 1.5976, Val loss: 0.9153, Val acc: 72.68%\n",
      "Validation accuracy improved from 71.55% to 72.68%\n"
     ]
    },
    {
     "data": {
      "application/vnd.jupyter.widget-view+json": {
       "model_id": "6ffa552bdff84e6881112cd61d22af7a",
       "version_major": 2,
       "version_minor": 0
      },
      "text/plain": [
       "Epoch 19/40 [Train]:   0%|          | 0/781 [00:00<?, ?it/s]"
      ]
     },
     "metadata": {},
     "output_type": "display_data"
    },
    {
     "data": {
      "application/vnd.jupyter.widget-view+json": {
       "model_id": "9f6d2069134442c397619e6e42c824c1",
       "version_major": 2,
       "version_minor": 0
      },
      "text/plain": [
       "Validation:   0%|          | 0/157 [00:00<?, ?it/s]"
      ]
     },
     "metadata": {},
     "output_type": "display_data"
    },
    {
     "name": "stdout",
     "output_type": "stream",
     "text": [
      "Epoch 19/30 - Train loss: 1.5950, Val loss: 0.8959, Val acc: 73.12%\n",
      "Validation accuracy improved from 72.68% to 73.12%\n"
     ]
    },
    {
     "data": {
      "application/vnd.jupyter.widget-view+json": {
       "model_id": "d1c38295c9c44cf88cbf13aad2139e00",
       "version_major": 2,
       "version_minor": 0
      },
      "text/plain": [
       "Epoch 20/40 [Train]:   0%|          | 0/781 [00:00<?, ?it/s]"
      ]
     },
     "metadata": {},
     "output_type": "display_data"
    },
    {
     "data": {
      "application/vnd.jupyter.widget-view+json": {
       "model_id": "32cd346194db413493b18f370d3c6b49",
       "version_major": 2,
       "version_minor": 0
      },
      "text/plain": [
       "Validation:   0%|          | 0/157 [00:00<?, ?it/s]"
      ]
     },
     "metadata": {},
     "output_type": "display_data"
    },
    {
     "name": "stdout",
     "output_type": "stream",
     "text": [
      "Epoch 20/30 - Train loss: 1.5737, Val loss: 0.8840, Val acc: 73.80%\n",
      "Validation accuracy improved from 73.12% to 73.80%\n"
     ]
    },
    {
     "data": {
      "application/vnd.jupyter.widget-view+json": {
       "model_id": "215e7db8892e4e1aa0a86df75f84c3ee",
       "version_major": 2,
       "version_minor": 0
      },
      "text/plain": [
       "Epoch 21/40 [Train]:   0%|          | 0/781 [00:00<?, ?it/s]"
      ]
     },
     "metadata": {},
     "output_type": "display_data"
    },
    {
     "data": {
      "application/vnd.jupyter.widget-view+json": {
       "model_id": "e81ce3e2d59a495d847c01b70ec05838",
       "version_major": 2,
       "version_minor": 0
      },
      "text/plain": [
       "Validation:   0%|          | 0/157 [00:00<?, ?it/s]"
      ]
     },
     "metadata": {},
     "output_type": "display_data"
    },
    {
     "name": "stdout",
     "output_type": "stream",
     "text": [
      "Epoch 21/30 - Train loss: 1.5585, Val loss: 0.8615, Val acc: 73.96%\n",
      "Validation accuracy improved from 73.80% to 73.96%\n"
     ]
    },
    {
     "data": {
      "application/vnd.jupyter.widget-view+json": {
       "model_id": "3a799024239b4d94b39352823aa80ae1",
       "version_major": 2,
       "version_minor": 0
      },
      "text/plain": [
       "Epoch 22/40 [Train]:   0%|          | 0/781 [00:00<?, ?it/s]"
      ]
     },
     "metadata": {},
     "output_type": "display_data"
    },
    {
     "data": {
      "application/vnd.jupyter.widget-view+json": {
       "model_id": "6db342e12d364efba0062c9d14daa4fb",
       "version_major": 2,
       "version_minor": 0
      },
      "text/plain": [
       "Validation:   0%|          | 0/157 [00:00<?, ?it/s]"
      ]
     },
     "metadata": {},
     "output_type": "display_data"
    },
    {
     "name": "stdout",
     "output_type": "stream",
     "text": [
      "Epoch 22/30 - Train loss: 1.5444, Val loss: 0.8265, Val acc: 75.35%\n",
      "Validation accuracy improved from 73.96% to 75.35%\n"
     ]
    },
    {
     "data": {
      "application/vnd.jupyter.widget-view+json": {
       "model_id": "a2a3a1cf3bf0459f99d0587eeadf8b8c",
       "version_major": 2,
       "version_minor": 0
      },
      "text/plain": [
       "Epoch 23/40 [Train]:   0%|          | 0/781 [00:00<?, ?it/s]"
      ]
     },
     "metadata": {},
     "output_type": "display_data"
    },
    {
     "data": {
      "application/vnd.jupyter.widget-view+json": {
       "model_id": "8be00a8c5e2a42e086f7a6f6d20a9c24",
       "version_major": 2,
       "version_minor": 0
      },
      "text/plain": [
       "Validation:   0%|          | 0/157 [00:00<?, ?it/s]"
      ]
     },
     "metadata": {},
     "output_type": "display_data"
    },
    {
     "name": "stdout",
     "output_type": "stream",
     "text": [
      "Epoch 23/30 - Train loss: 1.5154, Val loss: 0.8241, Val acc: 75.60%\n",
      "Validation accuracy improved from 75.35% to 75.60%\n"
     ]
    },
    {
     "data": {
      "application/vnd.jupyter.widget-view+json": {
       "model_id": "d2fb93f8c9e9487c84195f749d1553c6",
       "version_major": 2,
       "version_minor": 0
      },
      "text/plain": [
       "Epoch 24/40 [Train]:   0%|          | 0/781 [00:00<?, ?it/s]"
      ]
     },
     "metadata": {},
     "output_type": "display_data"
    },
    {
     "data": {
      "application/vnd.jupyter.widget-view+json": {
       "model_id": "4dd5b476d56245c6bbbd698fc76d28f2",
       "version_major": 2,
       "version_minor": 0
      },
      "text/plain": [
       "Validation:   0%|          | 0/157 [00:00<?, ?it/s]"
      ]
     },
     "metadata": {},
     "output_type": "display_data"
    },
    {
     "name": "stdout",
     "output_type": "stream",
     "text": [
      "Epoch 24/30 - Train loss: 1.5243, Val loss: 0.8091, Val acc: 76.67%\n",
      "Validation accuracy improved from 75.60% to 76.67%\n"
     ]
    },
    {
     "data": {
      "application/vnd.jupyter.widget-view+json": {
       "model_id": "c3c9ecd2c85d4489a6130b0d34b63e28",
       "version_major": 2,
       "version_minor": 0
      },
      "text/plain": [
       "Epoch 25/40 [Train]:   0%|          | 0/781 [00:00<?, ?it/s]"
      ]
     },
     "metadata": {},
     "output_type": "display_data"
    },
    {
     "data": {
      "application/vnd.jupyter.widget-view+json": {
       "model_id": "31069a6360034cb0859d764fdef43c2d",
       "version_major": 2,
       "version_minor": 0
      },
      "text/plain": [
       "Validation:   0%|          | 0/157 [00:00<?, ?it/s]"
      ]
     },
     "metadata": {},
     "output_type": "display_data"
    },
    {
     "name": "stdout",
     "output_type": "stream",
     "text": [
      "Epoch 25/30 - Train loss: 1.5135, Val loss: 0.8084, Val acc: 76.72%\n",
      "Validation accuracy improved from 76.67% to 76.72%\n"
     ]
    },
    {
     "data": {
      "application/vnd.jupyter.widget-view+json": {
       "model_id": "f3e15d5ddbb54c268b772a7d35bd6410",
       "version_major": 2,
       "version_minor": 0
      },
      "text/plain": [
       "Epoch 26/40 [Train]:   0%|          | 0/781 [00:00<?, ?it/s]"
      ]
     },
     "metadata": {},
     "output_type": "display_data"
    },
    {
     "data": {
      "application/vnd.jupyter.widget-view+json": {
       "model_id": "b7335b7151de46a59e4051e4d9365ee0",
       "version_major": 2,
       "version_minor": 0
      },
      "text/plain": [
       "Validation:   0%|          | 0/157 [00:00<?, ?it/s]"
      ]
     },
     "metadata": {},
     "output_type": "display_data"
    },
    {
     "name": "stdout",
     "output_type": "stream",
     "text": [
      "Epoch 26/30 - Train loss: 1.4911, Val loss: 0.8176, Val acc: 76.80%\n",
      "Validation accuracy improved from 76.72% to 76.80%\n"
     ]
    },
    {
     "data": {
      "application/vnd.jupyter.widget-view+json": {
       "model_id": "69d41618347c4f6ba06125f9a8e9591f",
       "version_major": 2,
       "version_minor": 0
      },
      "text/plain": [
       "Epoch 27/40 [Train]:   0%|          | 0/781 [00:00<?, ?it/s]"
      ]
     },
     "metadata": {},
     "output_type": "display_data"
    },
    {
     "data": {
      "application/vnd.jupyter.widget-view+json": {
       "model_id": "a4df1f8c7972428184e37c0a53211cfa",
       "version_major": 2,
       "version_minor": 0
      },
      "text/plain": [
       "Validation:   0%|          | 0/157 [00:00<?, ?it/s]"
      ]
     },
     "metadata": {},
     "output_type": "display_data"
    },
    {
     "name": "stdout",
     "output_type": "stream",
     "text": [
      "Epoch 27/30 - Train loss: 1.4632, Val loss: 0.7962, Val acc: 77.27%\n",
      "Validation accuracy improved from 76.80% to 77.27%\n"
     ]
    },
    {
     "data": {
      "application/vnd.jupyter.widget-view+json": {
       "model_id": "dd69bee0a9964d87be009590a6614091",
       "version_major": 2,
       "version_minor": 0
      },
      "text/plain": [
       "Epoch 28/40 [Train]:   0%|          | 0/781 [00:00<?, ?it/s]"
      ]
     },
     "metadata": {},
     "output_type": "display_data"
    },
    {
     "data": {
      "application/vnd.jupyter.widget-view+json": {
       "model_id": "bc3e6dd2f3dd4e3681f1e250991ea82e",
       "version_major": 2,
       "version_minor": 0
      },
      "text/plain": [
       "Validation:   0%|          | 0/157 [00:00<?, ?it/s]"
      ]
     },
     "metadata": {},
     "output_type": "display_data"
    },
    {
     "name": "stdout",
     "output_type": "stream",
     "text": [
      "Epoch 28/30 - Train loss: 1.4876, Val loss: 0.7869, Val acc: 77.44%\n",
      "Validation accuracy improved from 77.27% to 77.44%\n"
     ]
    },
    {
     "data": {
      "application/vnd.jupyter.widget-view+json": {
       "model_id": "caa5578834b14c9e82bc7bc7dd36bbaf",
       "version_major": 2,
       "version_minor": 0
      },
      "text/plain": [
       "Epoch 29/40 [Train]:   0%|          | 0/781 [00:00<?, ?it/s]"
      ]
     },
     "metadata": {},
     "output_type": "display_data"
    },
    {
     "data": {
      "application/vnd.jupyter.widget-view+json": {
       "model_id": "1ea2e63bf4d7477985bae347bdcacbcb",
       "version_major": 2,
       "version_minor": 0
      },
      "text/plain": [
       "Validation:   0%|          | 0/157 [00:00<?, ?it/s]"
      ]
     },
     "metadata": {},
     "output_type": "display_data"
    },
    {
     "name": "stdout",
     "output_type": "stream",
     "text": [
      "Epoch 29/30 - Train loss: 1.5046, Val loss: 0.7862, Val acc: 77.18%\n"
     ]
    },
    {
     "data": {
      "application/vnd.jupyter.widget-view+json": {
       "model_id": "b5034a674c3b4f92a3ddaeabd8db3e6e",
       "version_major": 2,
       "version_minor": 0
      },
      "text/plain": [
       "Epoch 30/40 [Train]:   0%|          | 0/781 [00:00<?, ?it/s]"
      ]
     },
     "metadata": {},
     "output_type": "display_data"
    },
    {
     "data": {
      "application/vnd.jupyter.widget-view+json": {
       "model_id": "b1b23950d145414da0c8dca6db461b0f",
       "version_major": 2,
       "version_minor": 0
      },
      "text/plain": [
       "Validation:   0%|          | 0/157 [00:00<?, ?it/s]"
      ]
     },
     "metadata": {},
     "output_type": "display_data"
    },
    {
     "name": "stdout",
     "output_type": "stream",
     "text": [
      "Epoch 30/30 - Train loss: 1.4799, Val loss: 0.7863, Val acc: 77.41%\n",
      "\n",
      "========================================\n",
      "Training convnext_mish_layernorm...\n",
      "========================================\n",
      "\n"
     ]
    },
    {
     "data": {
      "application/vnd.jupyter.widget-view+json": {
       "model_id": "f62fcc2c046c4a9cb5525234229f35f2",
       "version_major": 2,
       "version_minor": 0
      },
      "text/plain": [
       "Epoch 1/40 [Train]:   0%|          | 0/781 [00:00<?, ?it/s]"
      ]
     },
     "metadata": {},
     "output_type": "display_data"
    },
    {
     "data": {
      "application/vnd.jupyter.widget-view+json": {
       "model_id": "60ec87e5771d4fbfb03788cba5a4898c",
       "version_major": 2,
       "version_minor": 0
      },
      "text/plain": [
       "Validation:   0%|          | 0/157 [00:00<?, ?it/s]"
      ]
     },
     "metadata": {},
     "output_type": "display_data"
    },
    {
     "name": "stdout",
     "output_type": "stream",
     "text": [
      "Epoch 1/30 - Train loss: 2.4855, Val loss: 2.4931, Val acc: 8.70%\n",
      "Validation accuracy improved from 0.00% to 8.70%\n"
     ]
    },
    {
     "data": {
      "application/vnd.jupyter.widget-view+json": {
       "model_id": "410337e938684edabf61e8a63e515b70",
       "version_major": 2,
       "version_minor": 0
      },
      "text/plain": [
       "Epoch 2/40 [Train]:   0%|          | 0/781 [00:00<?, ?it/s]"
      ]
     },
     "metadata": {},
     "output_type": "display_data"
    },
    {
     "data": {
      "application/vnd.jupyter.widget-view+json": {
       "model_id": "3e89d7947a26419583126057b19a13e5",
       "version_major": 2,
       "version_minor": 0
      },
      "text/plain": [
       "Validation:   0%|          | 0/157 [00:00<?, ?it/s]"
      ]
     },
     "metadata": {},
     "output_type": "display_data"
    },
    {
     "name": "stdout",
     "output_type": "stream",
     "text": [
      "Epoch 2/30 - Train loss: 2.0889, Val loss: 1.6797, Val acc: 44.27%\n",
      "Validation accuracy improved from 8.70% to 44.27%\n"
     ]
    },
    {
     "data": {
      "application/vnd.jupyter.widget-view+json": {
       "model_id": "3c6d0d6d4e454311a1589bed1c696499",
       "version_major": 2,
       "version_minor": 0
      },
      "text/plain": [
       "Epoch 3/40 [Train]:   0%|          | 0/781 [00:00<?, ?it/s]"
      ]
     },
     "metadata": {},
     "output_type": "display_data"
    },
    {
     "data": {
      "application/vnd.jupyter.widget-view+json": {
       "model_id": "2610260bfbc44c69877785b67f2ce42c",
       "version_major": 2,
       "version_minor": 0
      },
      "text/plain": [
       "Validation:   0%|          | 0/157 [00:00<?, ?it/s]"
      ]
     },
     "metadata": {},
     "output_type": "display_data"
    },
    {
     "name": "stdout",
     "output_type": "stream",
     "text": [
      "Epoch 3/30 - Train loss: 1.9869, Val loss: 1.5788, Val acc: 47.74%\n",
      "Validation accuracy improved from 44.27% to 47.74%\n"
     ]
    },
    {
     "data": {
      "application/vnd.jupyter.widget-view+json": {
       "model_id": "a9b018904d7f4a128bc5c8399f463d05",
       "version_major": 2,
       "version_minor": 0
      },
      "text/plain": [
       "Epoch 4/40 [Train]:   0%|          | 0/781 [00:00<?, ?it/s]"
      ]
     },
     "metadata": {},
     "output_type": "display_data"
    },
    {
     "data": {
      "application/vnd.jupyter.widget-view+json": {
       "model_id": "9d9bd2e898f8470f8a1221c1106cbebc",
       "version_major": 2,
       "version_minor": 0
      },
      "text/plain": [
       "Validation:   0%|          | 0/157 [00:00<?, ?it/s]"
      ]
     },
     "metadata": {},
     "output_type": "display_data"
    },
    {
     "name": "stdout",
     "output_type": "stream",
     "text": [
      "Epoch 4/30 - Train loss: 1.9414, Val loss: 1.5037, Val acc: 50.24%\n",
      "Validation accuracy improved from 47.74% to 50.24%\n"
     ]
    },
    {
     "data": {
      "application/vnd.jupyter.widget-view+json": {
       "model_id": "452ed78d9ee24cb0a814823e3b97bd1e",
       "version_major": 2,
       "version_minor": 0
      },
      "text/plain": [
       "Epoch 5/40 [Train]:   0%|          | 0/781 [00:00<?, ?it/s]"
      ]
     },
     "metadata": {},
     "output_type": "display_data"
    },
    {
     "data": {
      "application/vnd.jupyter.widget-view+json": {
       "model_id": "d5fdae30f2c74210a41f75571c4ebaf2",
       "version_major": 2,
       "version_minor": 0
      },
      "text/plain": [
       "Validation:   0%|          | 0/157 [00:00<?, ?it/s]"
      ]
     },
     "metadata": {},
     "output_type": "display_data"
    },
    {
     "name": "stdout",
     "output_type": "stream",
     "text": [
      "Epoch 5/30 - Train loss: 1.9284, Val loss: 1.4766, Val acc: 52.06%\n",
      "Validation accuracy improved from 50.24% to 52.06%\n"
     ]
    },
    {
     "data": {
      "application/vnd.jupyter.widget-view+json": {
       "model_id": "9a1eab96a95e4edb8b7d40a9ce094ada",
       "version_major": 2,
       "version_minor": 0
      },
      "text/plain": [
       "Epoch 6/40 [Train]:   0%|          | 0/781 [00:00<?, ?it/s]"
      ]
     },
     "metadata": {},
     "output_type": "display_data"
    },
    {
     "data": {
      "application/vnd.jupyter.widget-view+json": {
       "model_id": "4fd17be7f9cc46caa7b4344285932108",
       "version_major": 2,
       "version_minor": 0
      },
      "text/plain": [
       "Validation:   0%|          | 0/157 [00:00<?, ?it/s]"
      ]
     },
     "metadata": {},
     "output_type": "display_data"
    },
    {
     "name": "stdout",
     "output_type": "stream",
     "text": [
      "Epoch 6/30 - Train loss: 1.8995, Val loss: 1.4140, Val acc: 54.04%\n",
      "Validation accuracy improved from 52.06% to 54.04%\n"
     ]
    },
    {
     "data": {
      "application/vnd.jupyter.widget-view+json": {
       "model_id": "ab6f2e751a8a4176966699634f9e91f7",
       "version_major": 2,
       "version_minor": 0
      },
      "text/plain": [
       "Epoch 7/40 [Train]:   0%|          | 0/781 [00:00<?, ?it/s]"
      ]
     },
     "metadata": {},
     "output_type": "display_data"
    },
    {
     "data": {
      "application/vnd.jupyter.widget-view+json": {
       "model_id": "3aef5d617c9f4ab893d25f49cee76501",
       "version_major": 2,
       "version_minor": 0
      },
      "text/plain": [
       "Validation:   0%|          | 0/157 [00:00<?, ?it/s]"
      ]
     },
     "metadata": {},
     "output_type": "display_data"
    },
    {
     "name": "stdout",
     "output_type": "stream",
     "text": [
      "Epoch 7/30 - Train loss: 1.8693, Val loss: 1.3979, Val acc: 54.54%\n",
      "Validation accuracy improved from 54.04% to 54.54%\n"
     ]
    },
    {
     "data": {
      "application/vnd.jupyter.widget-view+json": {
       "model_id": "b8e6f40b262246338c6e2d1e83d378da",
       "version_major": 2,
       "version_minor": 0
      },
      "text/plain": [
       "Epoch 8/40 [Train]:   0%|          | 0/781 [00:00<?, ?it/s]"
      ]
     },
     "metadata": {},
     "output_type": "display_data"
    },
    {
     "data": {
      "application/vnd.jupyter.widget-view+json": {
       "model_id": "1b47eca9e628417e9dc29412428e7c27",
       "version_major": 2,
       "version_minor": 0
      },
      "text/plain": [
       "Validation:   0%|          | 0/157 [00:00<?, ?it/s]"
      ]
     },
     "metadata": {},
     "output_type": "display_data"
    },
    {
     "name": "stdout",
     "output_type": "stream",
     "text": [
      "Epoch 8/30 - Train loss: 1.8434, Val loss: 1.2673, Val acc: 58.44%\n",
      "Validation accuracy improved from 54.54% to 58.44%\n"
     ]
    },
    {
     "data": {
      "application/vnd.jupyter.widget-view+json": {
       "model_id": "e7f28140c36041a7ae884f498146503c",
       "version_major": 2,
       "version_minor": 0
      },
      "text/plain": [
       "Epoch 9/40 [Train]:   0%|          | 0/781 [00:00<?, ?it/s]"
      ]
     },
     "metadata": {},
     "output_type": "display_data"
    },
    {
     "data": {
      "application/vnd.jupyter.widget-view+json": {
       "model_id": "2e5b973fd1f148fdb888bb305520d3fa",
       "version_major": 2,
       "version_minor": 0
      },
      "text/plain": [
       "Validation:   0%|          | 0/157 [00:00<?, ?it/s]"
      ]
     },
     "metadata": {},
     "output_type": "display_data"
    },
    {
     "name": "stdout",
     "output_type": "stream",
     "text": [
      "Epoch 9/30 - Train loss: 1.8274, Val loss: 1.2712, Val acc: 59.61%\n",
      "Validation accuracy improved from 58.44% to 59.61%\n"
     ]
    },
    {
     "data": {
      "application/vnd.jupyter.widget-view+json": {
       "model_id": "038fa9eb373945f5bc5a0acefd85bb18",
       "version_major": 2,
       "version_minor": 0
      },
      "text/plain": [
       "Epoch 10/40 [Train]:   0%|          | 0/781 [00:00<?, ?it/s]"
      ]
     },
     "metadata": {},
     "output_type": "display_data"
    },
    {
     "data": {
      "application/vnd.jupyter.widget-view+json": {
       "model_id": "60d689967ebb4d728826d80a4896b832",
       "version_major": 2,
       "version_minor": 0
      },
      "text/plain": [
       "Validation:   0%|          | 0/157 [00:00<?, ?it/s]"
      ]
     },
     "metadata": {},
     "output_type": "display_data"
    },
    {
     "name": "stdout",
     "output_type": "stream",
     "text": [
      "Epoch 10/30 - Train loss: 1.7951, Val loss: 1.2330, Val acc: 60.48%\n",
      "Validation accuracy improved from 59.61% to 60.48%\n"
     ]
    },
    {
     "data": {
      "application/vnd.jupyter.widget-view+json": {
       "model_id": "ecb0bba89cef48ee99d60fae631983dd",
       "version_major": 2,
       "version_minor": 0
      },
      "text/plain": [
       "Epoch 11/40 [Train]:   0%|          | 0/781 [00:00<?, ?it/s]"
      ]
     },
     "metadata": {},
     "output_type": "display_data"
    },
    {
     "data": {
      "application/vnd.jupyter.widget-view+json": {
       "model_id": "77a0f2f8691b43699e5b3afccf9b03da",
       "version_major": 2,
       "version_minor": 0
      },
      "text/plain": [
       "Validation:   0%|          | 0/157 [00:00<?, ?it/s]"
      ]
     },
     "metadata": {},
     "output_type": "display_data"
    },
    {
     "name": "stdout",
     "output_type": "stream",
     "text": [
      "Epoch 11/30 - Train loss: 1.7664, Val loss: 1.1540, Val acc: 63.73%\n",
      "Validation accuracy improved from 60.48% to 63.73%\n"
     ]
    },
    {
     "data": {
      "application/vnd.jupyter.widget-view+json": {
       "model_id": "00d7adcfc5064d61a66877bc1fde57d0",
       "version_major": 2,
       "version_minor": 0
      },
      "text/plain": [
       "Epoch 12/40 [Train]:   0%|          | 0/781 [00:00<?, ?it/s]"
      ]
     },
     "metadata": {},
     "output_type": "display_data"
    },
    {
     "data": {
      "application/vnd.jupyter.widget-view+json": {
       "model_id": "49b90dcc66a04249a8e8c96332cdd53d",
       "version_major": 2,
       "version_minor": 0
      },
      "text/plain": [
       "Validation:   0%|          | 0/157 [00:00<?, ?it/s]"
      ]
     },
     "metadata": {},
     "output_type": "display_data"
    },
    {
     "name": "stdout",
     "output_type": "stream",
     "text": [
      "Epoch 12/30 - Train loss: 1.7246, Val loss: 1.0651, Val acc: 65.76%\n",
      "Validation accuracy improved from 63.73% to 65.76%\n"
     ]
    },
    {
     "data": {
      "application/vnd.jupyter.widget-view+json": {
       "model_id": "a51f8638072d449ca455080285d6f96e",
       "version_major": 2,
       "version_minor": 0
      },
      "text/plain": [
       "Epoch 13/40 [Train]:   0%|          | 0/781 [00:00<?, ?it/s]"
      ]
     },
     "metadata": {},
     "output_type": "display_data"
    },
    {
     "data": {
      "application/vnd.jupyter.widget-view+json": {
       "model_id": "f85f2856646146d28cda605540aa6e75",
       "version_major": 2,
       "version_minor": 0
      },
      "text/plain": [
       "Validation:   0%|          | 0/157 [00:00<?, ?it/s]"
      ]
     },
     "metadata": {},
     "output_type": "display_data"
    },
    {
     "name": "stdout",
     "output_type": "stream",
     "text": [
      "Epoch 13/30 - Train loss: 1.7100, Val loss: 1.0596, Val acc: 66.92%\n",
      "Validation accuracy improved from 65.76% to 66.92%\n"
     ]
    },
    {
     "data": {
      "application/vnd.jupyter.widget-view+json": {
       "model_id": "9ad6bc8f27164f6bbd94ce9d6cdbacef",
       "version_major": 2,
       "version_minor": 0
      },
      "text/plain": [
       "Epoch 14/40 [Train]:   0%|          | 0/781 [00:00<?, ?it/s]"
      ]
     },
     "metadata": {},
     "output_type": "display_data"
    },
    {
     "data": {
      "application/vnd.jupyter.widget-view+json": {
       "model_id": "bfb9142fc0a64d80b7675155645a0402",
       "version_major": 2,
       "version_minor": 0
      },
      "text/plain": [
       "Validation:   0%|          | 0/157 [00:00<?, ?it/s]"
      ]
     },
     "metadata": {},
     "output_type": "display_data"
    },
    {
     "name": "stdout",
     "output_type": "stream",
     "text": [
      "Epoch 14/30 - Train loss: 1.6886, Val loss: 1.0793, Val acc: 67.73%\n",
      "Validation accuracy improved from 66.92% to 67.73%\n"
     ]
    },
    {
     "data": {
      "application/vnd.jupyter.widget-view+json": {
       "model_id": "ad6ac494a4a14ae683285ba1814ef592",
       "version_major": 2,
       "version_minor": 0
      },
      "text/plain": [
       "Epoch 15/40 [Train]:   0%|          | 0/781 [00:00<?, ?it/s]"
      ]
     },
     "metadata": {},
     "output_type": "display_data"
    },
    {
     "data": {
      "application/vnd.jupyter.widget-view+json": {
       "model_id": "435e9c02bc7849d6b9ad5b0b6a0074a5",
       "version_major": 2,
       "version_minor": 0
      },
      "text/plain": [
       "Validation:   0%|          | 0/157 [00:00<?, ?it/s]"
      ]
     },
     "metadata": {},
     "output_type": "display_data"
    },
    {
     "name": "stdout",
     "output_type": "stream",
     "text": [
      "Epoch 15/30 - Train loss: 1.6748, Val loss: 1.0181, Val acc: 69.20%\n",
      "Validation accuracy improved from 67.73% to 69.20%\n"
     ]
    },
    {
     "data": {
      "application/vnd.jupyter.widget-view+json": {
       "model_id": "6530d2a3c8aa4f428fc84b77cc7b35bc",
       "version_major": 2,
       "version_minor": 0
      },
      "text/plain": [
       "Epoch 16/40 [Train]:   0%|          | 0/781 [00:00<?, ?it/s]"
      ]
     },
     "metadata": {},
     "output_type": "display_data"
    },
    {
     "data": {
      "application/vnd.jupyter.widget-view+json": {
       "model_id": "c140e021db94430e844f24202a83caed",
       "version_major": 2,
       "version_minor": 0
      },
      "text/plain": [
       "Validation:   0%|          | 0/157 [00:00<?, ?it/s]"
      ]
     },
     "metadata": {},
     "output_type": "display_data"
    },
    {
     "name": "stdout",
     "output_type": "stream",
     "text": [
      "Epoch 16/30 - Train loss: 1.6544, Val loss: 0.9828, Val acc: 70.03%\n",
      "Validation accuracy improved from 69.20% to 70.03%\n"
     ]
    },
    {
     "data": {
      "application/vnd.jupyter.widget-view+json": {
       "model_id": "88946f3927224b588e13a50fe783e37f",
       "version_major": 2,
       "version_minor": 0
      },
      "text/plain": [
       "Epoch 17/40 [Train]:   0%|          | 0/781 [00:00<?, ?it/s]"
      ]
     },
     "metadata": {},
     "output_type": "display_data"
    },
    {
     "data": {
      "application/vnd.jupyter.widget-view+json": {
       "model_id": "8ea4e5002f0a488b9ed9f5298ff16d8a",
       "version_major": 2,
       "version_minor": 0
      },
      "text/plain": [
       "Validation:   0%|          | 0/157 [00:00<?, ?it/s]"
      ]
     },
     "metadata": {},
     "output_type": "display_data"
    },
    {
     "name": "stdout",
     "output_type": "stream",
     "text": [
      "Epoch 17/30 - Train loss: 1.6222, Val loss: 0.9674, Val acc: 71.71%\n",
      "Validation accuracy improved from 70.03% to 71.71%\n"
     ]
    },
    {
     "data": {
      "application/vnd.jupyter.widget-view+json": {
       "model_id": "f2fd1b01a86b4f34abb827760a49d4c3",
       "version_major": 2,
       "version_minor": 0
      },
      "text/plain": [
       "Epoch 18/40 [Train]:   0%|          | 0/781 [00:00<?, ?it/s]"
      ]
     },
     "metadata": {},
     "output_type": "display_data"
    },
    {
     "data": {
      "application/vnd.jupyter.widget-view+json": {
       "model_id": "5591f597308d46ec8bd685690ba31640",
       "version_major": 2,
       "version_minor": 0
      },
      "text/plain": [
       "Validation:   0%|          | 0/157 [00:00<?, ?it/s]"
      ]
     },
     "metadata": {},
     "output_type": "display_data"
    },
    {
     "name": "stdout",
     "output_type": "stream",
     "text": [
      "Epoch 18/30 - Train loss: 1.6161, Val loss: 0.9443, Val acc: 72.31%\n",
      "Validation accuracy improved from 71.71% to 72.31%\n"
     ]
    },
    {
     "data": {
      "application/vnd.jupyter.widget-view+json": {
       "model_id": "c26eedad3c3146868b1f778e8c9475b6",
       "version_major": 2,
       "version_minor": 0
      },
      "text/plain": [
       "Epoch 19/40 [Train]:   0%|          | 0/781 [00:00<?, ?it/s]"
      ]
     },
     "metadata": {},
     "output_type": "display_data"
    },
    {
     "data": {
      "application/vnd.jupyter.widget-view+json": {
       "model_id": "aa60f276d52d4e8c905f1dd7782b2daf",
       "version_major": 2,
       "version_minor": 0
      },
      "text/plain": [
       "Validation:   0%|          | 0/157 [00:00<?, ?it/s]"
      ]
     },
     "metadata": {},
     "output_type": "display_data"
    },
    {
     "name": "stdout",
     "output_type": "stream",
     "text": [
      "Epoch 19/30 - Train loss: 1.5877, Val loss: 0.8928, Val acc: 73.34%\n",
      "Validation accuracy improved from 72.31% to 73.34%\n"
     ]
    },
    {
     "data": {
      "application/vnd.jupyter.widget-view+json": {
       "model_id": "50d00811cdbe4adaa9fcf85ce5ceac71",
       "version_major": 2,
       "version_minor": 0
      },
      "text/plain": [
       "Epoch 20/40 [Train]:   0%|          | 0/781 [00:00<?, ?it/s]"
      ]
     },
     "metadata": {},
     "output_type": "display_data"
    },
    {
     "data": {
      "application/vnd.jupyter.widget-view+json": {
       "model_id": "fa38387c8a184ba39f2ef96b9f1aba33",
       "version_major": 2,
       "version_minor": 0
      },
      "text/plain": [
       "Validation:   0%|          | 0/157 [00:00<?, ?it/s]"
      ]
     },
     "metadata": {},
     "output_type": "display_data"
    },
    {
     "name": "stdout",
     "output_type": "stream",
     "text": [
      "Epoch 20/30 - Train loss: 1.5826, Val loss: 0.8936, Val acc: 73.79%\n",
      "Validation accuracy improved from 73.34% to 73.79%\n"
     ]
    },
    {
     "data": {
      "application/vnd.jupyter.widget-view+json": {
       "model_id": "8d5d50e39ff248809c17f638b6f0614d",
       "version_major": 2,
       "version_minor": 0
      },
      "text/plain": [
       "Epoch 21/40 [Train]:   0%|          | 0/781 [00:00<?, ?it/s]"
      ]
     },
     "metadata": {},
     "output_type": "display_data"
    },
    {
     "data": {
      "application/vnd.jupyter.widget-view+json": {
       "model_id": "8b563757d8fa4e588fb47ae00889e044",
       "version_major": 2,
       "version_minor": 0
      },
      "text/plain": [
       "Validation:   0%|          | 0/157 [00:00<?, ?it/s]"
      ]
     },
     "metadata": {},
     "output_type": "display_data"
    },
    {
     "name": "stdout",
     "output_type": "stream",
     "text": [
      "Epoch 21/30 - Train loss: 1.5580, Val loss: 0.8666, Val acc: 74.90%\n",
      "Validation accuracy improved from 73.79% to 74.90%\n"
     ]
    },
    {
     "data": {
      "application/vnd.jupyter.widget-view+json": {
       "model_id": "3a24151ca4014f278042aac94f755b52",
       "version_major": 2,
       "version_minor": 0
      },
      "text/plain": [
       "Epoch 22/40 [Train]:   0%|          | 0/781 [00:00<?, ?it/s]"
      ]
     },
     "metadata": {},
     "output_type": "display_data"
    },
    {
     "data": {
      "application/vnd.jupyter.widget-view+json": {
       "model_id": "881270a9da8f42169bf9180f34ee4d9b",
       "version_major": 2,
       "version_minor": 0
      },
      "text/plain": [
       "Validation:   0%|          | 0/157 [00:00<?, ?it/s]"
      ]
     },
     "metadata": {},
     "output_type": "display_data"
    },
    {
     "name": "stdout",
     "output_type": "stream",
     "text": [
      "Epoch 22/30 - Train loss: 1.5507, Val loss: 0.8497, Val acc: 75.15%\n",
      "Validation accuracy improved from 74.90% to 75.15%\n"
     ]
    },
    {
     "data": {
      "application/vnd.jupyter.widget-view+json": {
       "model_id": "6c53d3e1c6ba401484391dff5783f0bb",
       "version_major": 2,
       "version_minor": 0
      },
      "text/plain": [
       "Epoch 23/40 [Train]:   0%|          | 0/781 [00:00<?, ?it/s]"
      ]
     },
     "metadata": {},
     "output_type": "display_data"
    },
    {
     "data": {
      "application/vnd.jupyter.widget-view+json": {
       "model_id": "41f0a316c31a4fd0928b15589133874a",
       "version_major": 2,
       "version_minor": 0
      },
      "text/plain": [
       "Validation:   0%|          | 0/157 [00:00<?, ?it/s]"
      ]
     },
     "metadata": {},
     "output_type": "display_data"
    },
    {
     "name": "stdout",
     "output_type": "stream",
     "text": [
      "Epoch 23/30 - Train loss: 1.5167, Val loss: 0.8085, Val acc: 76.09%\n",
      "Validation accuracy improved from 75.15% to 76.09%\n"
     ]
    },
    {
     "data": {
      "application/vnd.jupyter.widget-view+json": {
       "model_id": "de1842786c9e436eaed014cc9a74ea38",
       "version_major": 2,
       "version_minor": 0
      },
      "text/plain": [
       "Epoch 24/40 [Train]:   0%|          | 0/781 [00:00<?, ?it/s]"
      ]
     },
     "metadata": {},
     "output_type": "display_data"
    },
    {
     "data": {
      "application/vnd.jupyter.widget-view+json": {
       "model_id": "4eeb66648bf8452bb5d8cc9f2d21647e",
       "version_major": 2,
       "version_minor": 0
      },
      "text/plain": [
       "Validation:   0%|          | 0/157 [00:00<?, ?it/s]"
      ]
     },
     "metadata": {},
     "output_type": "display_data"
    },
    {
     "name": "stdout",
     "output_type": "stream",
     "text": [
      "Epoch 24/30 - Train loss: 1.5244, Val loss: 0.8355, Val acc: 75.68%\n"
     ]
    },
    {
     "data": {
      "application/vnd.jupyter.widget-view+json": {
       "model_id": "a186427b1f72441b896fcdb9f503bfa0",
       "version_major": 2,
       "version_minor": 0
      },
      "text/plain": [
       "Epoch 25/40 [Train]:   0%|          | 0/781 [00:00<?, ?it/s]"
      ]
     },
     "metadata": {},
     "output_type": "display_data"
    },
    {
     "data": {
      "application/vnd.jupyter.widget-view+json": {
       "model_id": "a54505901f054e21ae4a3f2f69faf3ba",
       "version_major": 2,
       "version_minor": 0
      },
      "text/plain": [
       "Validation:   0%|          | 0/157 [00:00<?, ?it/s]"
      ]
     },
     "metadata": {},
     "output_type": "display_data"
    },
    {
     "name": "stdout",
     "output_type": "stream",
     "text": [
      "Epoch 25/30 - Train loss: 1.5232, Val loss: 0.8196, Val acc: 76.50%\n",
      "Validation accuracy improved from 76.09% to 76.50%\n"
     ]
    },
    {
     "data": {
      "application/vnd.jupyter.widget-view+json": {
       "model_id": "7d9f916800e5446ebaf0a61a208b673d",
       "version_major": 2,
       "version_minor": 0
      },
      "text/plain": [
       "Epoch 26/40 [Train]:   0%|          | 0/781 [00:00<?, ?it/s]"
      ]
     },
     "metadata": {},
     "output_type": "display_data"
    },
    {
     "data": {
      "application/vnd.jupyter.widget-view+json": {
       "model_id": "ac47bc43d1ca4f6e9b46af91916f1752",
       "version_major": 2,
       "version_minor": 0
      },
      "text/plain": [
       "Validation:   0%|          | 0/157 [00:00<?, ?it/s]"
      ]
     },
     "metadata": {},
     "output_type": "display_data"
    },
    {
     "name": "stdout",
     "output_type": "stream",
     "text": [
      "Epoch 26/30 - Train loss: 1.5007, Val loss: 0.8101, Val acc: 76.88%\n",
      "Validation accuracy improved from 76.50% to 76.88%\n"
     ]
    },
    {
     "data": {
      "application/vnd.jupyter.widget-view+json": {
       "model_id": "b8eb292a3d44437e9772992def29e326",
       "version_major": 2,
       "version_minor": 0
      },
      "text/plain": [
       "Epoch 27/40 [Train]:   0%|          | 0/781 [00:00<?, ?it/s]"
      ]
     },
     "metadata": {},
     "output_type": "display_data"
    },
    {
     "data": {
      "application/vnd.jupyter.widget-view+json": {
       "model_id": "b3f21537137c42499219813657ac1ed4",
       "version_major": 2,
       "version_minor": 0
      },
      "text/plain": [
       "Validation:   0%|          | 0/157 [00:00<?, ?it/s]"
      ]
     },
     "metadata": {},
     "output_type": "display_data"
    },
    {
     "name": "stdout",
     "output_type": "stream",
     "text": [
      "Epoch 27/30 - Train loss: 1.4959, Val loss: 0.7892, Val acc: 77.22%\n",
      "Validation accuracy improved from 76.88% to 77.22%\n"
     ]
    },
    {
     "data": {
      "application/vnd.jupyter.widget-view+json": {
       "model_id": "90a4080893f340349a1c88ab98bc1456",
       "version_major": 2,
       "version_minor": 0
      },
      "text/plain": [
       "Epoch 28/40 [Train]:   0%|          | 0/781 [00:00<?, ?it/s]"
      ]
     },
     "metadata": {},
     "output_type": "display_data"
    },
    {
     "data": {
      "application/vnd.jupyter.widget-view+json": {
       "model_id": "fbe4a880111e4ec7bc10ebf814edf517",
       "version_major": 2,
       "version_minor": 0
      },
      "text/plain": [
       "Validation:   0%|          | 0/157 [00:00<?, ?it/s]"
      ]
     },
     "metadata": {},
     "output_type": "display_data"
    },
    {
     "name": "stdout",
     "output_type": "stream",
     "text": [
      "Epoch 28/30 - Train loss: 1.4810, Val loss: 0.7835, Val acc: 77.21%\n"
     ]
    },
    {
     "data": {
      "application/vnd.jupyter.widget-view+json": {
       "model_id": "af578b7bbed4433d9093f725c0aad64c",
       "version_major": 2,
       "version_minor": 0
      },
      "text/plain": [
       "Epoch 29/40 [Train]:   0%|          | 0/781 [00:00<?, ?it/s]"
      ]
     },
     "metadata": {},
     "output_type": "display_data"
    },
    {
     "data": {
      "application/vnd.jupyter.widget-view+json": {
       "model_id": "2ede552ed7e14cbb85cd09d62c841489",
       "version_major": 2,
       "version_minor": 0
      },
      "text/plain": [
       "Validation:   0%|          | 0/157 [00:00<?, ?it/s]"
      ]
     },
     "metadata": {},
     "output_type": "display_data"
    },
    {
     "name": "stdout",
     "output_type": "stream",
     "text": [
      "Epoch 29/30 - Train loss: 1.4759, Val loss: 0.7845, Val acc: 77.35%\n",
      "Validation accuracy improved from 77.22% to 77.35%\n"
     ]
    },
    {
     "data": {
      "application/vnd.jupyter.widget-view+json": {
       "model_id": "6e226a780f744bd0a698845fd1b2c765",
       "version_major": 2,
       "version_minor": 0
      },
      "text/plain": [
       "Epoch 30/40 [Train]:   0%|          | 0/781 [00:00<?, ?it/s]"
      ]
     },
     "metadata": {},
     "output_type": "display_data"
    },
    {
     "data": {
      "application/vnd.jupyter.widget-view+json": {
       "model_id": "93bb01c073c943f49bdec24cbd7a9719",
       "version_major": 2,
       "version_minor": 0
      },
      "text/plain": [
       "Validation:   0%|          | 0/157 [00:00<?, ?it/s]"
      ]
     },
     "metadata": {},
     "output_type": "display_data"
    },
    {
     "name": "stdout",
     "output_type": "stream",
     "text": [
      "Epoch 30/30 - Train loss: 1.4686, Val loss: 0.7826, Val acc: 77.31%\n",
      "\n",
      "========================================\n",
      "Training convnext_hardswish_layernorm...\n",
      "========================================\n",
      "\n"
     ]
    },
    {
     "data": {
      "application/vnd.jupyter.widget-view+json": {
       "model_id": "3793c89e897c47d0953f953c85d54073",
       "version_major": 2,
       "version_minor": 0
      },
      "text/plain": [
       "Epoch 1/40 [Train]:   0%|          | 0/781 [00:00<?, ?it/s]"
      ]
     },
     "metadata": {},
     "output_type": "display_data"
    },
    {
     "data": {
      "application/vnd.jupyter.widget-view+json": {
       "model_id": "96fc07ac4cb443bc87f15de5e48a70f6",
       "version_major": 2,
       "version_minor": 0
      },
      "text/plain": [
       "Validation:   0%|          | 0/157 [00:00<?, ?it/s]"
      ]
     },
     "metadata": {},
     "output_type": "display_data"
    },
    {
     "name": "stdout",
     "output_type": "stream",
     "text": [
      "Epoch 1/30 - Train loss: 2.4665, Val loss: 2.4705, Val acc: 8.62%\n",
      "Validation accuracy improved from 0.00% to 8.62%\n"
     ]
    },
    {
     "data": {
      "application/vnd.jupyter.widget-view+json": {
       "model_id": "c4f4024c5f3440f7a06592eac14083cd",
       "version_major": 2,
       "version_minor": 0
      },
      "text/plain": [
       "Epoch 2/40 [Train]:   0%|          | 0/781 [00:00<?, ?it/s]"
      ]
     },
     "metadata": {},
     "output_type": "display_data"
    },
    {
     "data": {
      "application/vnd.jupyter.widget-view+json": {
       "model_id": "26d94b3f661a4857b792992c718cd41a",
       "version_major": 2,
       "version_minor": 0
      },
      "text/plain": [
       "Validation:   0%|          | 0/157 [00:00<?, ?it/s]"
      ]
     },
     "metadata": {},
     "output_type": "display_data"
    },
    {
     "name": "stdout",
     "output_type": "stream",
     "text": [
      "Epoch 2/30 - Train loss: 2.0721, Val loss: 1.6541, Val acc: 43.16%\n",
      "Validation accuracy improved from 8.62% to 43.16%\n"
     ]
    },
    {
     "data": {
      "application/vnd.jupyter.widget-view+json": {
       "model_id": "e23bdae634114ca882f0ee05df524068",
       "version_major": 2,
       "version_minor": 0
      },
      "text/plain": [
       "Epoch 3/40 [Train]:   0%|          | 0/781 [00:00<?, ?it/s]"
      ]
     },
     "metadata": {},
     "output_type": "display_data"
    },
    {
     "data": {
      "application/vnd.jupyter.widget-view+json": {
       "model_id": "9dd04ee21df24629b364c2216277c2c9",
       "version_major": 2,
       "version_minor": 0
      },
      "text/plain": [
       "Validation:   0%|          | 0/157 [00:00<?, ?it/s]"
      ]
     },
     "metadata": {},
     "output_type": "display_data"
    },
    {
     "name": "stdout",
     "output_type": "stream",
     "text": [
      "Epoch 3/30 - Train loss: 1.9863, Val loss: 1.5769, Val acc: 47.47%\n",
      "Validation accuracy improved from 43.16% to 47.47%\n"
     ]
    },
    {
     "data": {
      "application/vnd.jupyter.widget-view+json": {
       "model_id": "1de4ce89fc0e4984b939da6132f7609b",
       "version_major": 2,
       "version_minor": 0
      },
      "text/plain": [
       "Epoch 4/40 [Train]:   0%|          | 0/781 [00:00<?, ?it/s]"
      ]
     },
     "metadata": {},
     "output_type": "display_data"
    },
    {
     "data": {
      "application/vnd.jupyter.widget-view+json": {
       "model_id": "c8b57ac55be64e55bdd89498134a5b0f",
       "version_major": 2,
       "version_minor": 0
      },
      "text/plain": [
       "Validation:   0%|          | 0/157 [00:00<?, ?it/s]"
      ]
     },
     "metadata": {},
     "output_type": "display_data"
    },
    {
     "name": "stdout",
     "output_type": "stream",
     "text": [
      "Epoch 4/30 - Train loss: 1.9537, Val loss: 1.5015, Val acc: 49.76%\n",
      "Validation accuracy improved from 47.47% to 49.76%\n"
     ]
    },
    {
     "data": {
      "application/vnd.jupyter.widget-view+json": {
       "model_id": "624e88147a29452789ff4575b0aef344",
       "version_major": 2,
       "version_minor": 0
      },
      "text/plain": [
       "Epoch 5/40 [Train]:   0%|          | 0/781 [00:00<?, ?it/s]"
      ]
     },
     "metadata": {},
     "output_type": "display_data"
    },
    {
     "data": {
      "application/vnd.jupyter.widget-view+json": {
       "model_id": "56a36fe05347422e8908c77c370043ba",
       "version_major": 2,
       "version_minor": 0
      },
      "text/plain": [
       "Validation:   0%|          | 0/157 [00:00<?, ?it/s]"
      ]
     },
     "metadata": {},
     "output_type": "display_data"
    },
    {
     "name": "stdout",
     "output_type": "stream",
     "text": [
      "Epoch 5/30 - Train loss: 1.9105, Val loss: 1.4535, Val acc: 51.61%\n",
      "Validation accuracy improved from 49.76% to 51.61%\n"
     ]
    },
    {
     "data": {
      "application/vnd.jupyter.widget-view+json": {
       "model_id": "4cd1466952e54a97abef2a3ca554ad26",
       "version_major": 2,
       "version_minor": 0
      },
      "text/plain": [
       "Epoch 6/40 [Train]:   0%|          | 0/781 [00:00<?, ?it/s]"
      ]
     },
     "metadata": {},
     "output_type": "display_data"
    },
    {
     "data": {
      "application/vnd.jupyter.widget-view+json": {
       "model_id": "64d2f02c9a87497c9a3e1e533a4b0b66",
       "version_major": 2,
       "version_minor": 0
      },
      "text/plain": [
       "Validation:   0%|          | 0/157 [00:00<?, ?it/s]"
      ]
     },
     "metadata": {},
     "output_type": "display_data"
    },
    {
     "name": "stdout",
     "output_type": "stream",
     "text": [
      "Epoch 6/30 - Train loss: 1.8975, Val loss: 1.4360, Val acc: 52.68%\n",
      "Validation accuracy improved from 51.61% to 52.68%\n"
     ]
    },
    {
     "data": {
      "application/vnd.jupyter.widget-view+json": {
       "model_id": "55794c39d2cf48b08acf590c1750087e",
       "version_major": 2,
       "version_minor": 0
      },
      "text/plain": [
       "Epoch 7/40 [Train]:   0%|          | 0/781 [00:00<?, ?it/s]"
      ]
     },
     "metadata": {},
     "output_type": "display_data"
    },
    {
     "data": {
      "application/vnd.jupyter.widget-view+json": {
       "model_id": "a671f94aaaf54dec8cb5ec53a621d919",
       "version_major": 2,
       "version_minor": 0
      },
      "text/plain": [
       "Validation:   0%|          | 0/157 [00:00<?, ?it/s]"
      ]
     },
     "metadata": {},
     "output_type": "display_data"
    },
    {
     "name": "stdout",
     "output_type": "stream",
     "text": [
      "Epoch 7/30 - Train loss: 1.8589, Val loss: 1.3302, Val acc: 57.03%\n",
      "Validation accuracy improved from 52.68% to 57.03%\n"
     ]
    },
    {
     "data": {
      "application/vnd.jupyter.widget-view+json": {
       "model_id": "37bccf52551041789ad470e47b828f16",
       "version_major": 2,
       "version_minor": 0
      },
      "text/plain": [
       "Epoch 8/40 [Train]:   0%|          | 0/781 [00:00<?, ?it/s]"
      ]
     },
     "metadata": {},
     "output_type": "display_data"
    },
    {
     "data": {
      "application/vnd.jupyter.widget-view+json": {
       "model_id": "b562d81fc0134d77a1a3afcaefcc097e",
       "version_major": 2,
       "version_minor": 0
      },
      "text/plain": [
       "Validation:   0%|          | 0/157 [00:00<?, ?it/s]"
      ]
     },
     "metadata": {},
     "output_type": "display_data"
    },
    {
     "name": "stdout",
     "output_type": "stream",
     "text": [
      "Epoch 8/30 - Train loss: 1.8248, Val loss: 1.2248, Val acc: 59.38%\n",
      "Validation accuracy improved from 57.03% to 59.38%\n"
     ]
    },
    {
     "data": {
      "application/vnd.jupyter.widget-view+json": {
       "model_id": "273afbb8976e48d6945a4008dea2c308",
       "version_major": 2,
       "version_minor": 0
      },
      "text/plain": [
       "Epoch 9/40 [Train]:   0%|          | 0/781 [00:00<?, ?it/s]"
      ]
     },
     "metadata": {},
     "output_type": "display_data"
    },
    {
     "data": {
      "application/vnd.jupyter.widget-view+json": {
       "model_id": "1c00ea5e02644d7282a5b8deb73865e5",
       "version_major": 2,
       "version_minor": 0
      },
      "text/plain": [
       "Validation:   0%|          | 0/157 [00:00<?, ?it/s]"
      ]
     },
     "metadata": {},
     "output_type": "display_data"
    },
    {
     "name": "stdout",
     "output_type": "stream",
     "text": [
      "Epoch 9/30 - Train loss: 1.8142, Val loss: 1.2009, Val acc: 61.51%\n",
      "Validation accuracy improved from 59.38% to 61.51%\n"
     ]
    },
    {
     "data": {
      "application/vnd.jupyter.widget-view+json": {
       "model_id": "0d281856beed4e9083bd2828554fd72e",
       "version_major": 2,
       "version_minor": 0
      },
      "text/plain": [
       "Epoch 10/40 [Train]:   0%|          | 0/781 [00:00<?, ?it/s]"
      ]
     },
     "metadata": {},
     "output_type": "display_data"
    },
    {
     "data": {
      "application/vnd.jupyter.widget-view+json": {
       "model_id": "a2b2a86c8fe64a629fd381064f72e696",
       "version_major": 2,
       "version_minor": 0
      },
      "text/plain": [
       "Validation:   0%|          | 0/157 [00:00<?, ?it/s]"
      ]
     },
     "metadata": {},
     "output_type": "display_data"
    },
    {
     "name": "stdout",
     "output_type": "stream",
     "text": [
      "Epoch 10/30 - Train loss: 1.7831, Val loss: 1.1725, Val acc: 63.27%\n",
      "Validation accuracy improved from 61.51% to 63.27%\n"
     ]
    },
    {
     "data": {
      "application/vnd.jupyter.widget-view+json": {
       "model_id": "fdd554655949469abd99bb837c66bf43",
       "version_major": 2,
       "version_minor": 0
      },
      "text/plain": [
       "Epoch 11/40 [Train]:   0%|          | 0/781 [00:00<?, ?it/s]"
      ]
     },
     "metadata": {},
     "output_type": "display_data"
    },
    {
     "data": {
      "application/vnd.jupyter.widget-view+json": {
       "model_id": "f8b883a48d6b425da0f25b5f533e8b43",
       "version_major": 2,
       "version_minor": 0
      },
      "text/plain": [
       "Validation:   0%|          | 0/157 [00:00<?, ?it/s]"
      ]
     },
     "metadata": {},
     "output_type": "display_data"
    },
    {
     "name": "stdout",
     "output_type": "stream",
     "text": [
      "Epoch 11/30 - Train loss: 1.7488, Val loss: 1.1218, Val acc: 62.91%\n"
     ]
    },
    {
     "data": {
      "application/vnd.jupyter.widget-view+json": {
       "model_id": "8d276e9d68d849cba0b10b15572bc37c",
       "version_major": 2,
       "version_minor": 0
      },
      "text/plain": [
       "Epoch 12/40 [Train]:   0%|          | 0/781 [00:00<?, ?it/s]"
      ]
     },
     "metadata": {},
     "output_type": "display_data"
    },
    {
     "data": {
      "application/vnd.jupyter.widget-view+json": {
       "model_id": "8b465a38f6d94dd4b594d969d54c5bd6",
       "version_major": 2,
       "version_minor": 0
      },
      "text/plain": [
       "Validation:   0%|          | 0/157 [00:00<?, ?it/s]"
      ]
     },
     "metadata": {},
     "output_type": "display_data"
    },
    {
     "name": "stdout",
     "output_type": "stream",
     "text": [
      "Epoch 12/30 - Train loss: 1.7313, Val loss: 1.1706, Val acc: 65.44%\n",
      "Validation accuracy improved from 63.27% to 65.44%\n"
     ]
    },
    {
     "data": {
      "application/vnd.jupyter.widget-view+json": {
       "model_id": "2161021987f64290b57783b9f69df168",
       "version_major": 2,
       "version_minor": 0
      },
      "text/plain": [
       "Epoch 13/40 [Train]:   0%|          | 0/781 [00:00<?, ?it/s]"
      ]
     },
     "metadata": {},
     "output_type": "display_data"
    },
    {
     "data": {
      "application/vnd.jupyter.widget-view+json": {
       "model_id": "3a19a6eded444f17a0613069a1198d2c",
       "version_major": 2,
       "version_minor": 0
      },
      "text/plain": [
       "Validation:   0%|          | 0/157 [00:00<?, ?it/s]"
      ]
     },
     "metadata": {},
     "output_type": "display_data"
    },
    {
     "name": "stdout",
     "output_type": "stream",
     "text": [
      "Epoch 13/30 - Train loss: 1.7167, Val loss: 1.0787, Val acc: 67.15%\n",
      "Validation accuracy improved from 65.44% to 67.15%\n"
     ]
    },
    {
     "data": {
      "application/vnd.jupyter.widget-view+json": {
       "model_id": "339aff12d48e436ba4b98127c95696ac",
       "version_major": 2,
       "version_minor": 0
      },
      "text/plain": [
       "Epoch 14/40 [Train]:   0%|          | 0/781 [00:00<?, ?it/s]"
      ]
     },
     "metadata": {},
     "output_type": "display_data"
    },
    {
     "data": {
      "application/vnd.jupyter.widget-view+json": {
       "model_id": "677294669db94eea8d0ba22b344e1a50",
       "version_major": 2,
       "version_minor": 0
      },
      "text/plain": [
       "Validation:   0%|          | 0/157 [00:00<?, ?it/s]"
      ]
     },
     "metadata": {},
     "output_type": "display_data"
    },
    {
     "name": "stdout",
     "output_type": "stream",
     "text": [
      "Epoch 14/30 - Train loss: 1.6892, Val loss: 1.0382, Val acc: 68.21%\n",
      "Validation accuracy improved from 67.15% to 68.21%\n"
     ]
    },
    {
     "data": {
      "application/vnd.jupyter.widget-view+json": {
       "model_id": "141de0ac2fcf43bfb0927d956341fe63",
       "version_major": 2,
       "version_minor": 0
      },
      "text/plain": [
       "Epoch 15/40 [Train]:   0%|          | 0/781 [00:00<?, ?it/s]"
      ]
     },
     "metadata": {},
     "output_type": "display_data"
    },
    {
     "data": {
      "application/vnd.jupyter.widget-view+json": {
       "model_id": "22abe87426764d34800017a126808261",
       "version_major": 2,
       "version_minor": 0
      },
      "text/plain": [
       "Validation:   0%|          | 0/157 [00:00<?, ?it/s]"
      ]
     },
     "metadata": {},
     "output_type": "display_data"
    },
    {
     "name": "stdout",
     "output_type": "stream",
     "text": [
      "Epoch 15/30 - Train loss: 1.6508, Val loss: 1.0012, Val acc: 68.64%\n",
      "Validation accuracy improved from 68.21% to 68.64%\n"
     ]
    },
    {
     "data": {
      "application/vnd.jupyter.widget-view+json": {
       "model_id": "73e806fade944e30bfb3a57855ac208d",
       "version_major": 2,
       "version_minor": 0
      },
      "text/plain": [
       "Epoch 16/40 [Train]:   0%|          | 0/781 [00:00<?, ?it/s]"
      ]
     },
     "metadata": {},
     "output_type": "display_data"
    },
    {
     "data": {
      "application/vnd.jupyter.widget-view+json": {
       "model_id": "d2c6887b5c33408a8f3bf99a0acee10d",
       "version_major": 2,
       "version_minor": 0
      },
      "text/plain": [
       "Validation:   0%|          | 0/157 [00:00<?, ?it/s]"
      ]
     },
     "metadata": {},
     "output_type": "display_data"
    },
    {
     "name": "stdout",
     "output_type": "stream",
     "text": [
      "Epoch 16/30 - Train loss: 1.6607, Val loss: 0.9720, Val acc: 70.16%\n",
      "Validation accuracy improved from 68.64% to 70.16%\n"
     ]
    },
    {
     "data": {
      "application/vnd.jupyter.widget-view+json": {
       "model_id": "2d034ba1cc7b4d01a3dbea65233e17f1",
       "version_major": 2,
       "version_minor": 0
      },
      "text/plain": [
       "Epoch 17/40 [Train]:   0%|          | 0/781 [00:00<?, ?it/s]"
      ]
     },
     "metadata": {},
     "output_type": "display_data"
    },
    {
     "data": {
      "application/vnd.jupyter.widget-view+json": {
       "model_id": "3601012625d44f2880eb4f79d9223274",
       "version_major": 2,
       "version_minor": 0
      },
      "text/plain": [
       "Validation:   0%|          | 0/157 [00:00<?, ?it/s]"
      ]
     },
     "metadata": {},
     "output_type": "display_data"
    },
    {
     "name": "stdout",
     "output_type": "stream",
     "text": [
      "Epoch 17/30 - Train loss: 1.6262, Val loss: 0.9283, Val acc: 71.72%\n",
      "Validation accuracy improved from 70.16% to 71.72%\n"
     ]
    },
    {
     "data": {
      "application/vnd.jupyter.widget-view+json": {
       "model_id": "d4db73c91f5b48d491a21992fc4f6058",
       "version_major": 2,
       "version_minor": 0
      },
      "text/plain": [
       "Epoch 18/40 [Train]:   0%|          | 0/781 [00:00<?, ?it/s]"
      ]
     },
     "metadata": {},
     "output_type": "display_data"
    },
    {
     "data": {
      "application/vnd.jupyter.widget-view+json": {
       "model_id": "af18c9e977854ad08d22b7826ac42a34",
       "version_major": 2,
       "version_minor": 0
      },
      "text/plain": [
       "Validation:   0%|          | 0/157 [00:00<?, ?it/s]"
      ]
     },
     "metadata": {},
     "output_type": "display_data"
    },
    {
     "name": "stdout",
     "output_type": "stream",
     "text": [
      "Epoch 18/30 - Train loss: 1.6098, Val loss: 0.9503, Val acc: 72.24%\n",
      "Validation accuracy improved from 71.72% to 72.24%\n"
     ]
    },
    {
     "data": {
      "application/vnd.jupyter.widget-view+json": {
       "model_id": "96df743e25eb412594366972ba740bac",
       "version_major": 2,
       "version_minor": 0
      },
      "text/plain": [
       "Epoch 19/40 [Train]:   0%|          | 0/781 [00:00<?, ?it/s]"
      ]
     },
     "metadata": {},
     "output_type": "display_data"
    },
    {
     "data": {
      "application/vnd.jupyter.widget-view+json": {
       "model_id": "ab575e15ef6d48bab2161b0dbd582f58",
       "version_major": 2,
       "version_minor": 0
      },
      "text/plain": [
       "Validation:   0%|          | 0/157 [00:00<?, ?it/s]"
      ]
     },
     "metadata": {},
     "output_type": "display_data"
    },
    {
     "name": "stdout",
     "output_type": "stream",
     "text": [
      "Epoch 19/30 - Train loss: 1.5854, Val loss: 0.9086, Val acc: 73.55%\n",
      "Validation accuracy improved from 72.24% to 73.55%\n"
     ]
    },
    {
     "data": {
      "application/vnd.jupyter.widget-view+json": {
       "model_id": "b5aaba97c268461bb3149808bee3357b",
       "version_major": 2,
       "version_minor": 0
      },
      "text/plain": [
       "Epoch 20/40 [Train]:   0%|          | 0/781 [00:00<?, ?it/s]"
      ]
     },
     "metadata": {},
     "output_type": "display_data"
    },
    {
     "data": {
      "application/vnd.jupyter.widget-view+json": {
       "model_id": "6fab99170b0b417ca1aabcc25b62b14b",
       "version_major": 2,
       "version_minor": 0
      },
      "text/plain": [
       "Validation:   0%|          | 0/157 [00:00<?, ?it/s]"
      ]
     },
     "metadata": {},
     "output_type": "display_data"
    },
    {
     "name": "stdout",
     "output_type": "stream",
     "text": [
      "Epoch 20/30 - Train loss: 1.5769, Val loss: 0.8898, Val acc: 73.75%\n",
      "Validation accuracy improved from 73.55% to 73.75%\n"
     ]
    },
    {
     "data": {
      "application/vnd.jupyter.widget-view+json": {
       "model_id": "8552725346ec46b486696b7de7697de4",
       "version_major": 2,
       "version_minor": 0
      },
      "text/plain": [
       "Epoch 21/40 [Train]:   0%|          | 0/781 [00:00<?, ?it/s]"
      ]
     },
     "metadata": {},
     "output_type": "display_data"
    },
    {
     "data": {
      "application/vnd.jupyter.widget-view+json": {
       "model_id": "cc09275a110648b8873f917ad1a4c138",
       "version_major": 2,
       "version_minor": 0
      },
      "text/plain": [
       "Validation:   0%|          | 0/157 [00:00<?, ?it/s]"
      ]
     },
     "metadata": {},
     "output_type": "display_data"
    },
    {
     "name": "stdout",
     "output_type": "stream",
     "text": [
      "Epoch 21/30 - Train loss: 1.5533, Val loss: 0.8693, Val acc: 74.71%\n",
      "Validation accuracy improved from 73.75% to 74.71%\n"
     ]
    },
    {
     "data": {
      "application/vnd.jupyter.widget-view+json": {
       "model_id": "f796a169767c41e4a867ac238cd25a15",
       "version_major": 2,
       "version_minor": 0
      },
      "text/plain": [
       "Epoch 22/40 [Train]:   0%|          | 0/781 [00:00<?, ?it/s]"
      ]
     },
     "metadata": {},
     "output_type": "display_data"
    },
    {
     "data": {
      "application/vnd.jupyter.widget-view+json": {
       "model_id": "bfb21e3890134c759be8fa52c5a31f26",
       "version_major": 2,
       "version_minor": 0
      },
      "text/plain": [
       "Validation:   0%|          | 0/157 [00:00<?, ?it/s]"
      ]
     },
     "metadata": {},
     "output_type": "display_data"
    },
    {
     "name": "stdout",
     "output_type": "stream",
     "text": [
      "Epoch 22/30 - Train loss: 1.5203, Val loss: 0.8102, Val acc: 75.44%\n",
      "Validation accuracy improved from 74.71% to 75.44%\n"
     ]
    },
    {
     "data": {
      "application/vnd.jupyter.widget-view+json": {
       "model_id": "cd8d66bfc15a446e8b5252f1b5e55300",
       "version_major": 2,
       "version_minor": 0
      },
      "text/plain": [
       "Epoch 23/40 [Train]:   0%|          | 0/781 [00:00<?, ?it/s]"
      ]
     },
     "metadata": {},
     "output_type": "display_data"
    },
    {
     "data": {
      "application/vnd.jupyter.widget-view+json": {
       "model_id": "7d599d9dd2d342aebc0d3e945382b2a1",
       "version_major": 2,
       "version_minor": 0
      },
      "text/plain": [
       "Validation:   0%|          | 0/157 [00:00<?, ?it/s]"
      ]
     },
     "metadata": {},
     "output_type": "display_data"
    },
    {
     "name": "stdout",
     "output_type": "stream",
     "text": [
      "Epoch 23/30 - Train loss: 1.5256, Val loss: 0.8306, Val acc: 76.73%\n",
      "Validation accuracy improved from 75.44% to 76.73%\n"
     ]
    },
    {
     "data": {
      "application/vnd.jupyter.widget-view+json": {
       "model_id": "4894d89d3e4445ea8758fe4466b5f547",
       "version_major": 2,
       "version_minor": 0
      },
      "text/plain": [
       "Epoch 24/40 [Train]:   0%|          | 0/781 [00:00<?, ?it/s]"
      ]
     },
     "metadata": {},
     "output_type": "display_data"
    },
    {
     "data": {
      "application/vnd.jupyter.widget-view+json": {
       "model_id": "eadbf66911944fb99ceb5dd11e7f1bb7",
       "version_major": 2,
       "version_minor": 0
      },
      "text/plain": [
       "Validation:   0%|          | 0/157 [00:00<?, ?it/s]"
      ]
     },
     "metadata": {},
     "output_type": "display_data"
    },
    {
     "name": "stdout",
     "output_type": "stream",
     "text": [
      "Epoch 24/30 - Train loss: 1.5374, Val loss: 0.8167, Val acc: 76.11%\n"
     ]
    },
    {
     "data": {
      "application/vnd.jupyter.widget-view+json": {
       "model_id": "57e01d77ddbf4fd7b25634b6f92c9c6d",
       "version_major": 2,
       "version_minor": 0
      },
      "text/plain": [
       "Epoch 25/40 [Train]:   0%|          | 0/781 [00:00<?, ?it/s]"
      ]
     },
     "metadata": {},
     "output_type": "display_data"
    },
    {
     "data": {
      "application/vnd.jupyter.widget-view+json": {
       "model_id": "caa79ab7479f42ce9e771e21b0aa33d7",
       "version_major": 2,
       "version_minor": 0
      },
      "text/plain": [
       "Validation:   0%|          | 0/157 [00:00<?, ?it/s]"
      ]
     },
     "metadata": {},
     "output_type": "display_data"
    },
    {
     "name": "stdout",
     "output_type": "stream",
     "text": [
      "Epoch 25/30 - Train loss: 1.5124, Val loss: 0.7933, Val acc: 76.92%\n",
      "Validation accuracy improved from 76.73% to 76.92%\n"
     ]
    },
    {
     "data": {
      "application/vnd.jupyter.widget-view+json": {
       "model_id": "0bcd0f46a81a45b3a527ead689af912c",
       "version_major": 2,
       "version_minor": 0
      },
      "text/plain": [
       "Epoch 26/40 [Train]:   0%|          | 0/781 [00:00<?, ?it/s]"
      ]
     },
     "metadata": {},
     "output_type": "display_data"
    },
    {
     "data": {
      "application/vnd.jupyter.widget-view+json": {
       "model_id": "8d32c95fa99e4bd287469216a05691cd",
       "version_major": 2,
       "version_minor": 0
      },
      "text/plain": [
       "Validation:   0%|          | 0/157 [00:00<?, ?it/s]"
      ]
     },
     "metadata": {},
     "output_type": "display_data"
    },
    {
     "name": "stdout",
     "output_type": "stream",
     "text": [
      "Epoch 26/30 - Train loss: 1.5013, Val loss: 0.7970, Val acc: 77.19%\n",
      "Validation accuracy improved from 76.92% to 77.19%\n"
     ]
    },
    {
     "data": {
      "application/vnd.jupyter.widget-view+json": {
       "model_id": "02d4b1dd16f54e5da2dfbc3a8c2c9c88",
       "version_major": 2,
       "version_minor": 0
      },
      "text/plain": [
       "Epoch 27/40 [Train]:   0%|          | 0/781 [00:00<?, ?it/s]"
      ]
     },
     "metadata": {},
     "output_type": "display_data"
    },
    {
     "data": {
      "application/vnd.jupyter.widget-view+json": {
       "model_id": "3db843e061ef4211a8b518e42cdf41e5",
       "version_major": 2,
       "version_minor": 0
      },
      "text/plain": [
       "Validation:   0%|          | 0/157 [00:00<?, ?it/s]"
      ]
     },
     "metadata": {},
     "output_type": "display_data"
    },
    {
     "name": "stdout",
     "output_type": "stream",
     "text": [
      "Epoch 27/30 - Train loss: 1.4959, Val loss: 0.7911, Val acc: 77.26%\n",
      "Validation accuracy improved from 77.19% to 77.26%\n"
     ]
    },
    {
     "data": {
      "application/vnd.jupyter.widget-view+json": {
       "model_id": "2e00b1b85710481d9d6526f538208103",
       "version_major": 2,
       "version_minor": 0
      },
      "text/plain": [
       "Epoch 28/40 [Train]:   0%|          | 0/781 [00:00<?, ?it/s]"
      ]
     },
     "metadata": {},
     "output_type": "display_data"
    },
    {
     "data": {
      "application/vnd.jupyter.widget-view+json": {
       "model_id": "057ac4b4ce3b4b80996788410f9986f5",
       "version_major": 2,
       "version_minor": 0
      },
      "text/plain": [
       "Validation:   0%|          | 0/157 [00:00<?, ?it/s]"
      ]
     },
     "metadata": {},
     "output_type": "display_data"
    },
    {
     "name": "stdout",
     "output_type": "stream",
     "text": [
      "Epoch 28/30 - Train loss: 1.5162, Val loss: 0.7906, Val acc: 77.51%\n",
      "Validation accuracy improved from 77.26% to 77.51%\n"
     ]
    },
    {
     "data": {
      "application/vnd.jupyter.widget-view+json": {
       "model_id": "ff2b4a63927348f6b929cbc1f7d18940",
       "version_major": 2,
       "version_minor": 0
      },
      "text/plain": [
       "Epoch 29/40 [Train]:   0%|          | 0/781 [00:00<?, ?it/s]"
      ]
     },
     "metadata": {},
     "output_type": "display_data"
    },
    {
     "data": {
      "application/vnd.jupyter.widget-view+json": {
       "model_id": "2dbc48805c194a95b0988dd6d35af8e6",
       "version_major": 2,
       "version_minor": 0
      },
      "text/plain": [
       "Validation:   0%|          | 0/157 [00:00<?, ?it/s]"
      ]
     },
     "metadata": {},
     "output_type": "display_data"
    },
    {
     "name": "stdout",
     "output_type": "stream",
     "text": [
      "Epoch 29/30 - Train loss: 1.5055, Val loss: 0.7884, Val acc: 77.54%\n",
      "Validation accuracy improved from 77.51% to 77.54%\n"
     ]
    },
    {
     "data": {
      "application/vnd.jupyter.widget-view+json": {
       "model_id": "10dfecc1260e44a6ad796a41bfc842c6",
       "version_major": 2,
       "version_minor": 0
      },
      "text/plain": [
       "Epoch 30/40 [Train]:   0%|          | 0/781 [00:00<?, ?it/s]"
      ]
     },
     "metadata": {},
     "output_type": "display_data"
    },
    {
     "data": {
      "application/vnd.jupyter.widget-view+json": {
       "model_id": "576fa15754524045b2876767ae74421c",
       "version_major": 2,
       "version_minor": 0
      },
      "text/plain": [
       "Validation:   0%|          | 0/157 [00:00<?, ?it/s]"
      ]
     },
     "metadata": {},
     "output_type": "display_data"
    },
    {
     "name": "stdout",
     "output_type": "stream",
     "text": [
      "Epoch 30/30 - Train loss: 1.4843, Val loss: 0.7845, Val acc: 77.80%\n",
      "Validation accuracy improved from 77.54% to 77.80%\n",
      "\n",
      "========================================\n",
      "Training convnext_gelu_groupnorm...\n",
      "========================================\n",
      "\n"
     ]
    },
    {
     "data": {
      "application/vnd.jupyter.widget-view+json": {
       "model_id": "0e839b847ab44af982f5cc4a91a415cf",
       "version_major": 2,
       "version_minor": 0
      },
      "text/plain": [
       "Epoch 1/40 [Train]:   0%|          | 0/781 [00:00<?, ?it/s]"
      ]
     },
     "metadata": {},
     "output_type": "display_data"
    },
    {
     "data": {
      "application/vnd.jupyter.widget-view+json": {
       "model_id": "188dd28f899848479defa51c70c1b9e5",
       "version_major": 2,
       "version_minor": 0
      },
      "text/plain": [
       "Validation:   0%|          | 0/157 [00:00<?, ?it/s]"
      ]
     },
     "metadata": {},
     "output_type": "display_data"
    },
    {
     "name": "stdout",
     "output_type": "stream",
     "text": [
      "Epoch 1/30 - Train loss: 2.4615, Val loss: 2.4753, Val acc: 9.03%\n",
      "Validation accuracy improved from 0.00% to 9.03%\n"
     ]
    },
    {
     "data": {
      "application/vnd.jupyter.widget-view+json": {
       "model_id": "a3ac86d9b9ab4f919107de5e1f8ff925",
       "version_major": 2,
       "version_minor": 0
      },
      "text/plain": [
       "Epoch 2/40 [Train]:   0%|          | 0/781 [00:00<?, ?it/s]"
      ]
     },
     "metadata": {},
     "output_type": "display_data"
    },
    {
     "data": {
      "application/vnd.jupyter.widget-view+json": {
       "model_id": "a5bfb078f1e84e259fe1cfc4bd3373db",
       "version_major": 2,
       "version_minor": 0
      },
      "text/plain": [
       "Validation:   0%|          | 0/157 [00:00<?, ?it/s]"
      ]
     },
     "metadata": {},
     "output_type": "display_data"
    },
    {
     "name": "stdout",
     "output_type": "stream",
     "text": [
      "Epoch 2/30 - Train loss: 2.0749, Val loss: 1.6382, Val acc: 43.73%\n",
      "Validation accuracy improved from 9.03% to 43.73%\n"
     ]
    },
    {
     "data": {
      "application/vnd.jupyter.widget-view+json": {
       "model_id": "c3ad25f4b2d34c5388e27f151a928137",
       "version_major": 2,
       "version_minor": 0
      },
      "text/plain": [
       "Epoch 3/40 [Train]:   0%|          | 0/781 [00:00<?, ?it/s]"
      ]
     },
     "metadata": {},
     "output_type": "display_data"
    },
    {
     "data": {
      "application/vnd.jupyter.widget-view+json": {
       "model_id": "5f10adee21104ac493d1afd76dc45ae2",
       "version_major": 2,
       "version_minor": 0
      },
      "text/plain": [
       "Validation:   0%|          | 0/157 [00:00<?, ?it/s]"
      ]
     },
     "metadata": {},
     "output_type": "display_data"
    },
    {
     "name": "stdout",
     "output_type": "stream",
     "text": [
      "Epoch 3/30 - Train loss: 1.9698, Val loss: 1.4909, Val acc: 50.50%\n",
      "Validation accuracy improved from 43.73% to 50.50%\n"
     ]
    },
    {
     "data": {
      "application/vnd.jupyter.widget-view+json": {
       "model_id": "275bf75fdfda4101b65dfa539a4c104e",
       "version_major": 2,
       "version_minor": 0
      },
      "text/plain": [
       "Epoch 4/40 [Train]:   0%|          | 0/781 [00:00<?, ?it/s]"
      ]
     },
     "metadata": {},
     "output_type": "display_data"
    },
    {
     "data": {
      "application/vnd.jupyter.widget-view+json": {
       "model_id": "5c0585f238ee4b4f85ceafd004962732",
       "version_major": 2,
       "version_minor": 0
      },
      "text/plain": [
       "Validation:   0%|          | 0/157 [00:00<?, ?it/s]"
      ]
     },
     "metadata": {},
     "output_type": "display_data"
    },
    {
     "name": "stdout",
     "output_type": "stream",
     "text": [
      "Epoch 4/30 - Train loss: 1.9046, Val loss: 1.3880, Val acc: 54.51%\n",
      "Validation accuracy improved from 50.50% to 54.51%\n"
     ]
    },
    {
     "data": {
      "application/vnd.jupyter.widget-view+json": {
       "model_id": "bf1a796aca604043bb9353c10ed9d1bb",
       "version_major": 2,
       "version_minor": 0
      },
      "text/plain": [
       "Epoch 5/40 [Train]:   0%|          | 0/781 [00:00<?, ?it/s]"
      ]
     },
     "metadata": {},
     "output_type": "display_data"
    },
    {
     "data": {
      "application/vnd.jupyter.widget-view+json": {
       "model_id": "7c50665fe575416f84cf129bd101d86f",
       "version_major": 2,
       "version_minor": 0
      },
      "text/plain": [
       "Validation:   0%|          | 0/157 [00:00<?, ?it/s]"
      ]
     },
     "metadata": {},
     "output_type": "display_data"
    },
    {
     "name": "stdout",
     "output_type": "stream",
     "text": [
      "Epoch 5/30 - Train loss: 1.8732, Val loss: 1.3696, Val acc: 55.60%\n",
      "Validation accuracy improved from 54.51% to 55.60%\n"
     ]
    },
    {
     "data": {
      "application/vnd.jupyter.widget-view+json": {
       "model_id": "0ddc2b5b3af94af5b43fd5f5cdf7e340",
       "version_major": 2,
       "version_minor": 0
      },
      "text/plain": [
       "Epoch 6/40 [Train]:   0%|          | 0/781 [00:00<?, ?it/s]"
      ]
     },
     "metadata": {},
     "output_type": "display_data"
    },
    {
     "data": {
      "application/vnd.jupyter.widget-view+json": {
       "model_id": "0628ad3718c845b1885745bccfa504c9",
       "version_major": 2,
       "version_minor": 0
      },
      "text/plain": [
       "Validation:   0%|          | 0/157 [00:00<?, ?it/s]"
      ]
     },
     "metadata": {},
     "output_type": "display_data"
    },
    {
     "name": "stdout",
     "output_type": "stream",
     "text": [
      "Epoch 6/30 - Train loss: 1.8505, Val loss: 1.3287, Val acc: 57.96%\n",
      "Validation accuracy improved from 55.60% to 57.96%\n"
     ]
    },
    {
     "data": {
      "application/vnd.jupyter.widget-view+json": {
       "model_id": "144768ea3ca7401dbc65b11949db02b4",
       "version_major": 2,
       "version_minor": 0
      },
      "text/plain": [
       "Epoch 7/40 [Train]:   0%|          | 0/781 [00:00<?, ?it/s]"
      ]
     },
     "metadata": {},
     "output_type": "display_data"
    },
    {
     "data": {
      "application/vnd.jupyter.widget-view+json": {
       "model_id": "0c7294e66ef346388aeff64e09a3809c",
       "version_major": 2,
       "version_minor": 0
      },
      "text/plain": [
       "Validation:   0%|          | 0/157 [00:00<?, ?it/s]"
      ]
     },
     "metadata": {},
     "output_type": "display_data"
    },
    {
     "name": "stdout",
     "output_type": "stream",
     "text": [
      "Epoch 7/30 - Train loss: 1.8288, Val loss: 1.2827, Val acc: 61.12%\n",
      "Validation accuracy improved from 57.96% to 61.12%\n"
     ]
    },
    {
     "data": {
      "application/vnd.jupyter.widget-view+json": {
       "model_id": "ec3be13c726443c9a3650dcf68aa7f89",
       "version_major": 2,
       "version_minor": 0
      },
      "text/plain": [
       "Epoch 8/40 [Train]:   0%|          | 0/781 [00:00<?, ?it/s]"
      ]
     },
     "metadata": {},
     "output_type": "display_data"
    },
    {
     "data": {
      "application/vnd.jupyter.widget-view+json": {
       "model_id": "683013f2161d4e6c812ed1170bf4d3fe",
       "version_major": 2,
       "version_minor": 0
      },
      "text/plain": [
       "Validation:   0%|          | 0/157 [00:00<?, ?it/s]"
      ]
     },
     "metadata": {},
     "output_type": "display_data"
    },
    {
     "name": "stdout",
     "output_type": "stream",
     "text": [
      "Epoch 8/30 - Train loss: 1.7728, Val loss: 1.1680, Val acc: 63.94%\n",
      "Validation accuracy improved from 61.12% to 63.94%\n"
     ]
    },
    {
     "data": {
      "application/vnd.jupyter.widget-view+json": {
       "model_id": "6c5f7934ea364f38bb31961c156ab135",
       "version_major": 2,
       "version_minor": 0
      },
      "text/plain": [
       "Epoch 9/40 [Train]:   0%|          | 0/781 [00:00<?, ?it/s]"
      ]
     },
     "metadata": {},
     "output_type": "display_data"
    },
    {
     "data": {
      "application/vnd.jupyter.widget-view+json": {
       "model_id": "9034acb01d764b479100a6ca60ccb9bf",
       "version_major": 2,
       "version_minor": 0
      },
      "text/plain": [
       "Validation:   0%|          | 0/157 [00:00<?, ?it/s]"
      ]
     },
     "metadata": {},
     "output_type": "display_data"
    },
    {
     "name": "stdout",
     "output_type": "stream",
     "text": [
      "Epoch 9/30 - Train loss: 1.7530, Val loss: 1.1092, Val acc: 66.12%\n",
      "Validation accuracy improved from 63.94% to 66.12%\n"
     ]
    },
    {
     "data": {
      "application/vnd.jupyter.widget-view+json": {
       "model_id": "90df02a1e01f4338a96dd80d77901af0",
       "version_major": 2,
       "version_minor": 0
      },
      "text/plain": [
       "Epoch 10/40 [Train]:   0%|          | 0/781 [00:00<?, ?it/s]"
      ]
     },
     "metadata": {},
     "output_type": "display_data"
    },
    {
     "data": {
      "application/vnd.jupyter.widget-view+json": {
       "model_id": "30d842df7dce4427bffd666f0c2e509d",
       "version_major": 2,
       "version_minor": 0
      },
      "text/plain": [
       "Validation:   0%|          | 0/157 [00:00<?, ?it/s]"
      ]
     },
     "metadata": {},
     "output_type": "display_data"
    },
    {
     "name": "stdout",
     "output_type": "stream",
     "text": [
      "Epoch 10/30 - Train loss: 1.7293, Val loss: 1.0611, Val acc: 67.25%\n",
      "Validation accuracy improved from 66.12% to 67.25%\n"
     ]
    },
    {
     "data": {
      "application/vnd.jupyter.widget-view+json": {
       "model_id": "b40da3c739bd46238c35911f7eb9fe5b",
       "version_major": 2,
       "version_minor": 0
      },
      "text/plain": [
       "Epoch 11/40 [Train]:   0%|          | 0/781 [00:00<?, ?it/s]"
      ]
     },
     "metadata": {},
     "output_type": "display_data"
    },
    {
     "data": {
      "application/vnd.jupyter.widget-view+json": {
       "model_id": "54a35ef07c0845b2aa240ce7fcf36070",
       "version_major": 2,
       "version_minor": 0
      },
      "text/plain": [
       "Validation:   0%|          | 0/157 [00:00<?, ?it/s]"
      ]
     },
     "metadata": {},
     "output_type": "display_data"
    },
    {
     "name": "stdout",
     "output_type": "stream",
     "text": [
      "Epoch 11/30 - Train loss: 1.6999, Val loss: 1.0525, Val acc: 68.75%\n",
      "Validation accuracy improved from 67.25% to 68.75%\n"
     ]
    },
    {
     "data": {
      "application/vnd.jupyter.widget-view+json": {
       "model_id": "1305a1ac038c40818ae40505c7cfbf44",
       "version_major": 2,
       "version_minor": 0
      },
      "text/plain": [
       "Epoch 12/40 [Train]:   0%|          | 0/781 [00:00<?, ?it/s]"
      ]
     },
     "metadata": {},
     "output_type": "display_data"
    },
    {
     "data": {
      "application/vnd.jupyter.widget-view+json": {
       "model_id": "90a54fcb79b0475da37ca5bfa0812eb6",
       "version_major": 2,
       "version_minor": 0
      },
      "text/plain": [
       "Validation:   0%|          | 0/157 [00:00<?, ?it/s]"
      ]
     },
     "metadata": {},
     "output_type": "display_data"
    },
    {
     "name": "stdout",
     "output_type": "stream",
     "text": [
      "Epoch 12/30 - Train loss: 1.6792, Val loss: 0.9913, Val acc: 70.10%\n",
      "Validation accuracy improved from 68.75% to 70.10%\n"
     ]
    },
    {
     "data": {
      "application/vnd.jupyter.widget-view+json": {
       "model_id": "e439f308036d44d2abbaaea674e6ee83",
       "version_major": 2,
       "version_minor": 0
      },
      "text/plain": [
       "Epoch 13/40 [Train]:   0%|          | 0/781 [00:00<?, ?it/s]"
      ]
     },
     "metadata": {},
     "output_type": "display_data"
    },
    {
     "data": {
      "application/vnd.jupyter.widget-view+json": {
       "model_id": "90c8f20f03df453bbbd102f8013c0ed5",
       "version_major": 2,
       "version_minor": 0
      },
      "text/plain": [
       "Validation:   0%|          | 0/157 [00:00<?, ?it/s]"
      ]
     },
     "metadata": {},
     "output_type": "display_data"
    },
    {
     "name": "stdout",
     "output_type": "stream",
     "text": [
      "Epoch 13/30 - Train loss: 1.6508, Val loss: 1.0722, Val acc: 71.52%\n",
      "Validation accuracy improved from 70.10% to 71.52%\n"
     ]
    },
    {
     "data": {
      "application/vnd.jupyter.widget-view+json": {
       "model_id": "10f8f58003ac42cb89ba49178a8e7099",
       "version_major": 2,
       "version_minor": 0
      },
      "text/plain": [
       "Epoch 14/40 [Train]:   0%|          | 0/781 [00:00<?, ?it/s]"
      ]
     },
     "metadata": {},
     "output_type": "display_data"
    },
    {
     "data": {
      "application/vnd.jupyter.widget-view+json": {
       "model_id": "c695e2da769149b7bbd9a17247c541fe",
       "version_major": 2,
       "version_minor": 0
      },
      "text/plain": [
       "Validation:   0%|          | 0/157 [00:00<?, ?it/s]"
      ]
     },
     "metadata": {},
     "output_type": "display_data"
    },
    {
     "name": "stdout",
     "output_type": "stream",
     "text": [
      "Epoch 14/30 - Train loss: 1.6414, Val loss: 0.9456, Val acc: 71.88%\n",
      "Validation accuracy improved from 71.52% to 71.88%\n"
     ]
    },
    {
     "data": {
      "application/vnd.jupyter.widget-view+json": {
       "model_id": "5e9ef7d6ae424bb391d6dcb59279459d",
       "version_major": 2,
       "version_minor": 0
      },
      "text/plain": [
       "Epoch 15/40 [Train]:   0%|          | 0/781 [00:00<?, ?it/s]"
      ]
     },
     "metadata": {},
     "output_type": "display_data"
    },
    {
     "data": {
      "application/vnd.jupyter.widget-view+json": {
       "model_id": "b1c0e3d631f841abacd16b642e9da3a7",
       "version_major": 2,
       "version_minor": 0
      },
      "text/plain": [
       "Validation:   0%|          | 0/157 [00:00<?, ?it/s]"
      ]
     },
     "metadata": {},
     "output_type": "display_data"
    },
    {
     "name": "stdout",
     "output_type": "stream",
     "text": [
      "Epoch 15/30 - Train loss: 1.6237, Val loss: 0.8949, Val acc: 73.31%\n",
      "Validation accuracy improved from 71.88% to 73.31%\n"
     ]
    },
    {
     "data": {
      "application/vnd.jupyter.widget-view+json": {
       "model_id": "d2bf76ad2be942fc8c81bdc9e0702a3e",
       "version_major": 2,
       "version_minor": 0
      },
      "text/plain": [
       "Epoch 16/40 [Train]:   0%|          | 0/781 [00:00<?, ?it/s]"
      ]
     },
     "metadata": {},
     "output_type": "display_data"
    },
    {
     "data": {
      "application/vnd.jupyter.widget-view+json": {
       "model_id": "65681d2790cc416fb7fdb3c8d5107a87",
       "version_major": 2,
       "version_minor": 0
      },
      "text/plain": [
       "Validation:   0%|          | 0/157 [00:00<?, ?it/s]"
      ]
     },
     "metadata": {},
     "output_type": "display_data"
    },
    {
     "name": "stdout",
     "output_type": "stream",
     "text": [
      "Epoch 16/30 - Train loss: 1.6036, Val loss: 0.8802, Val acc: 74.74%\n",
      "Validation accuracy improved from 73.31% to 74.74%\n"
     ]
    },
    {
     "data": {
      "application/vnd.jupyter.widget-view+json": {
       "model_id": "364860552712450ea676aa622f95b5f7",
       "version_major": 2,
       "version_minor": 0
      },
      "text/plain": [
       "Epoch 17/40 [Train]:   0%|          | 0/781 [00:00<?, ?it/s]"
      ]
     },
     "metadata": {},
     "output_type": "display_data"
    },
    {
     "data": {
      "application/vnd.jupyter.widget-view+json": {
       "model_id": "3a80e5497f8b444f803ba96ea337ae0f",
       "version_major": 2,
       "version_minor": 0
      },
      "text/plain": [
       "Validation:   0%|          | 0/157 [00:00<?, ?it/s]"
      ]
     },
     "metadata": {},
     "output_type": "display_data"
    },
    {
     "name": "stdout",
     "output_type": "stream",
     "text": [
      "Epoch 17/30 - Train loss: 1.5689, Val loss: 0.8519, Val acc: 75.58%\n",
      "Validation accuracy improved from 74.74% to 75.58%\n"
     ]
    },
    {
     "data": {
      "application/vnd.jupyter.widget-view+json": {
       "model_id": "f9ad27bc4ff2440f81ddd31058e65448",
       "version_major": 2,
       "version_minor": 0
      },
      "text/plain": [
       "Epoch 18/40 [Train]:   0%|          | 0/781 [00:00<?, ?it/s]"
      ]
     },
     "metadata": {},
     "output_type": "display_data"
    },
    {
     "data": {
      "application/vnd.jupyter.widget-view+json": {
       "model_id": "5cf4a35df0d44e6f8e4c053d716d259c",
       "version_major": 2,
       "version_minor": 0
      },
      "text/plain": [
       "Validation:   0%|          | 0/157 [00:00<?, ?it/s]"
      ]
     },
     "metadata": {},
     "output_type": "display_data"
    },
    {
     "name": "stdout",
     "output_type": "stream",
     "text": [
      "Epoch 18/30 - Train loss: 1.5470, Val loss: 0.8420, Val acc: 75.69%\n",
      "Validation accuracy improved from 75.58% to 75.69%\n"
     ]
    },
    {
     "data": {
      "application/vnd.jupyter.widget-view+json": {
       "model_id": "825fa28c8da949118e4c516530c40545",
       "version_major": 2,
       "version_minor": 0
      },
      "text/plain": [
       "Epoch 19/40 [Train]:   0%|          | 0/781 [00:00<?, ?it/s]"
      ]
     },
     "metadata": {},
     "output_type": "display_data"
    },
    {
     "data": {
      "application/vnd.jupyter.widget-view+json": {
       "model_id": "7aae2d4ec24543119773627032ea8aca",
       "version_major": 2,
       "version_minor": 0
      },
      "text/plain": [
       "Validation:   0%|          | 0/157 [00:00<?, ?it/s]"
      ]
     },
     "metadata": {},
     "output_type": "display_data"
    },
    {
     "name": "stdout",
     "output_type": "stream",
     "text": [
      "Epoch 19/30 - Train loss: 1.5281, Val loss: 0.8101, Val acc: 76.82%\n",
      "Validation accuracy improved from 75.69% to 76.82%\n"
     ]
    },
    {
     "data": {
      "application/vnd.jupyter.widget-view+json": {
       "model_id": "7e595ddc2d1a42028daebfb3e75f2288",
       "version_major": 2,
       "version_minor": 0
      },
      "text/plain": [
       "Epoch 20/40 [Train]:   0%|          | 0/781 [00:00<?, ?it/s]"
      ]
     },
     "metadata": {},
     "output_type": "display_data"
    },
    {
     "data": {
      "application/vnd.jupyter.widget-view+json": {
       "model_id": "2a119df3da7f4c3086e52effdcbb9cbd",
       "version_major": 2,
       "version_minor": 0
      },
      "text/plain": [
       "Validation:   0%|          | 0/157 [00:00<?, ?it/s]"
      ]
     },
     "metadata": {},
     "output_type": "display_data"
    },
    {
     "name": "stdout",
     "output_type": "stream",
     "text": [
      "Epoch 20/30 - Train loss: 1.5344, Val loss: 0.8079, Val acc: 77.84%\n",
      "Validation accuracy improved from 76.82% to 77.84%\n"
     ]
    },
    {
     "data": {
      "application/vnd.jupyter.widget-view+json": {
       "model_id": "29c126fe083e4d4f8d47c30c471661c7",
       "version_major": 2,
       "version_minor": 0
      },
      "text/plain": [
       "Epoch 21/40 [Train]:   0%|          | 0/781 [00:00<?, ?it/s]"
      ]
     },
     "metadata": {},
     "output_type": "display_data"
    },
    {
     "data": {
      "application/vnd.jupyter.widget-view+json": {
       "model_id": "22f48bdd5e2648f5bd1f10d07173f5f7",
       "version_major": 2,
       "version_minor": 0
      },
      "text/plain": [
       "Validation:   0%|          | 0/157 [00:00<?, ?it/s]"
      ]
     },
     "metadata": {},
     "output_type": "display_data"
    },
    {
     "name": "stdout",
     "output_type": "stream",
     "text": [
      "Epoch 21/30 - Train loss: 1.5110, Val loss: 0.7750, Val acc: 77.85%\n",
      "Validation accuracy improved from 77.84% to 77.85%\n"
     ]
    },
    {
     "data": {
      "application/vnd.jupyter.widget-view+json": {
       "model_id": "0145c5a2fbbd47f397fb5415c5a46589",
       "version_major": 2,
       "version_minor": 0
      },
      "text/plain": [
       "Epoch 22/40 [Train]:   0%|          | 0/781 [00:00<?, ?it/s]"
      ]
     },
     "metadata": {},
     "output_type": "display_data"
    },
    {
     "data": {
      "application/vnd.jupyter.widget-view+json": {
       "model_id": "6b1975302f3a46b6a4b12b0019f612ad",
       "version_major": 2,
       "version_minor": 0
      },
      "text/plain": [
       "Validation:   0%|          | 0/157 [00:00<?, ?it/s]"
      ]
     },
     "metadata": {},
     "output_type": "display_data"
    },
    {
     "name": "stdout",
     "output_type": "stream",
     "text": [
      "Epoch 22/30 - Train loss: 1.4835, Val loss: 0.7570, Val acc: 78.59%\n",
      "Validation accuracy improved from 77.85% to 78.59%\n"
     ]
    },
    {
     "data": {
      "application/vnd.jupyter.widget-view+json": {
       "model_id": "b322bdac9b974b13aff1ca5d429f5880",
       "version_major": 2,
       "version_minor": 0
      },
      "text/plain": [
       "Epoch 23/40 [Train]:   0%|          | 0/781 [00:00<?, ?it/s]"
      ]
     },
     "metadata": {},
     "output_type": "display_data"
    },
    {
     "data": {
      "application/vnd.jupyter.widget-view+json": {
       "model_id": "cf0628b9fb694227958572c44d4888d6",
       "version_major": 2,
       "version_minor": 0
      },
      "text/plain": [
       "Validation:   0%|          | 0/157 [00:00<?, ?it/s]"
      ]
     },
     "metadata": {},
     "output_type": "display_data"
    },
    {
     "name": "stdout",
     "output_type": "stream",
     "text": [
      "Epoch 23/30 - Train loss: 1.5032, Val loss: 0.7546, Val acc: 79.32%\n",
      "Validation accuracy improved from 78.59% to 79.32%\n"
     ]
    },
    {
     "data": {
      "application/vnd.jupyter.widget-view+json": {
       "model_id": "f7305455d3684df68bc9bb29d26e1813",
       "version_major": 2,
       "version_minor": 0
      },
      "text/plain": [
       "Epoch 24/40 [Train]:   0%|          | 0/781 [00:00<?, ?it/s]"
      ]
     },
     "metadata": {},
     "output_type": "display_data"
    },
    {
     "data": {
      "application/vnd.jupyter.widget-view+json": {
       "model_id": "b3109ee7b7864a9dbdd88da21d52fa12",
       "version_major": 2,
       "version_minor": 0
      },
      "text/plain": [
       "Validation:   0%|          | 0/157 [00:00<?, ?it/s]"
      ]
     },
     "metadata": {},
     "output_type": "display_data"
    },
    {
     "name": "stdout",
     "output_type": "stream",
     "text": [
      "Epoch 24/30 - Train loss: 1.4718, Val loss: 0.7291, Val acc: 79.95%\n",
      "Validation accuracy improved from 79.32% to 79.95%\n"
     ]
    },
    {
     "data": {
      "application/vnd.jupyter.widget-view+json": {
       "model_id": "989cb576febb4ab88dec80d30fa927e1",
       "version_major": 2,
       "version_minor": 0
      },
      "text/plain": [
       "Epoch 25/40 [Train]:   0%|          | 0/781 [00:00<?, ?it/s]"
      ]
     },
     "metadata": {},
     "output_type": "display_data"
    },
    {
     "data": {
      "application/vnd.jupyter.widget-view+json": {
       "model_id": "19a7dc3670774b8ab706f74fe1708ba4",
       "version_major": 2,
       "version_minor": 0
      },
      "text/plain": [
       "Validation:   0%|          | 0/157 [00:00<?, ?it/s]"
      ]
     },
     "metadata": {},
     "output_type": "display_data"
    },
    {
     "name": "stdout",
     "output_type": "stream",
     "text": [
      "Epoch 25/30 - Train loss: 1.4408, Val loss: 0.7168, Val acc: 79.71%\n"
     ]
    },
    {
     "data": {
      "application/vnd.jupyter.widget-view+json": {
       "model_id": "d31f509d560d4d289386be979c1be3db",
       "version_major": 2,
       "version_minor": 0
      },
      "text/plain": [
       "Epoch 26/40 [Train]:   0%|          | 0/781 [00:00<?, ?it/s]"
      ]
     },
     "metadata": {},
     "output_type": "display_data"
    },
    {
     "data": {
      "application/vnd.jupyter.widget-view+json": {
       "model_id": "d346f0a278344ce5bbd5442ceec65ce4",
       "version_major": 2,
       "version_minor": 0
      },
      "text/plain": [
       "Validation:   0%|          | 0/157 [00:00<?, ?it/s]"
      ]
     },
     "metadata": {},
     "output_type": "display_data"
    },
    {
     "name": "stdout",
     "output_type": "stream",
     "text": [
      "Epoch 26/30 - Train loss: 1.4354, Val loss: 0.7292, Val acc: 79.97%\n",
      "Validation accuracy improved from 79.95% to 79.97%\n"
     ]
    },
    {
     "data": {
      "application/vnd.jupyter.widget-view+json": {
       "model_id": "f20cce3810a14fbca76c0f6d382efffd",
       "version_major": 2,
       "version_minor": 0
      },
      "text/plain": [
       "Epoch 27/40 [Train]:   0%|          | 0/781 [00:00<?, ?it/s]"
      ]
     },
     "metadata": {},
     "output_type": "display_data"
    },
    {
     "data": {
      "application/vnd.jupyter.widget-view+json": {
       "model_id": "72ce9628e10548a897f8270bcb5567c9",
       "version_major": 2,
       "version_minor": 0
      },
      "text/plain": [
       "Validation:   0%|          | 0/157 [00:00<?, ?it/s]"
      ]
     },
     "metadata": {},
     "output_type": "display_data"
    },
    {
     "name": "stdout",
     "output_type": "stream",
     "text": [
      "Epoch 27/30 - Train loss: 1.4143, Val loss: 0.7206, Val acc: 80.21%\n",
      "Validation accuracy improved from 79.97% to 80.21%\n"
     ]
    },
    {
     "data": {
      "application/vnd.jupyter.widget-view+json": {
       "model_id": "364801e431164d8e921f51af54bda4e2",
       "version_major": 2,
       "version_minor": 0
      },
      "text/plain": [
       "Epoch 28/40 [Train]:   0%|          | 0/781 [00:00<?, ?it/s]"
      ]
     },
     "metadata": {},
     "output_type": "display_data"
    },
    {
     "data": {
      "application/vnd.jupyter.widget-view+json": {
       "model_id": "136a40a408584ea0a8cb1c446986e258",
       "version_major": 2,
       "version_minor": 0
      },
      "text/plain": [
       "Validation:   0%|          | 0/157 [00:00<?, ?it/s]"
      ]
     },
     "metadata": {},
     "output_type": "display_data"
    },
    {
     "name": "stdout",
     "output_type": "stream",
     "text": [
      "Epoch 28/30 - Train loss: 1.4294, Val loss: 0.7092, Val acc: 80.26%\n",
      "Validation accuracy improved from 80.21% to 80.26%\n"
     ]
    },
    {
     "data": {
      "application/vnd.jupyter.widget-view+json": {
       "model_id": "2ba44b2e4b0149f5b5d1ceb77f2fb570",
       "version_major": 2,
       "version_minor": 0
      },
      "text/plain": [
       "Epoch 29/40 [Train]:   0%|          | 0/781 [00:00<?, ?it/s]"
      ]
     },
     "metadata": {},
     "output_type": "display_data"
    },
    {
     "data": {
      "application/vnd.jupyter.widget-view+json": {
       "model_id": "95d9fc421572497e9f3f19c8281dd58b",
       "version_major": 2,
       "version_minor": 0
      },
      "text/plain": [
       "Validation:   0%|          | 0/157 [00:00<?, ?it/s]"
      ]
     },
     "metadata": {},
     "output_type": "display_data"
    },
    {
     "name": "stdout",
     "output_type": "stream",
     "text": [
      "Epoch 29/30 - Train loss: 1.4153, Val loss: 0.7094, Val acc: 80.80%\n",
      "Validation accuracy improved from 80.26% to 80.80%\n"
     ]
    },
    {
     "data": {
      "application/vnd.jupyter.widget-view+json": {
       "model_id": "65c24ee55fda438ea19127bc96be9986",
       "version_major": 2,
       "version_minor": 0
      },
      "text/plain": [
       "Epoch 30/40 [Train]:   0%|          | 0/781 [00:00<?, ?it/s]"
      ]
     },
     "metadata": {},
     "output_type": "display_data"
    },
    {
     "data": {
      "application/vnd.jupyter.widget-view+json": {
       "model_id": "729be2d3f9ed49298653c3f8cc3cdedc",
       "version_major": 2,
       "version_minor": 0
      },
      "text/plain": [
       "Validation:   0%|          | 0/157 [00:00<?, ?it/s]"
      ]
     },
     "metadata": {},
     "output_type": "display_data"
    },
    {
     "name": "stdout",
     "output_type": "stream",
     "text": [
      "Epoch 30/30 - Train loss: 1.4107, Val loss: 0.7053, Val acc: 80.82%\n",
      "Validation accuracy improved from 80.80% to 80.82%\n"
     ]
    },
    {
     "data": {
      "image/png": "[encoded data removed]",
      "text/plain": [
       "<Figure size 1500x1000 with 2 Axes>"
      ]
     },
     "metadata": {},
     "output_type": "display_data"
    },
    {
     "name": "stdout",
     "output_type": "stream",
     "text": [
      "                          Model Best Validation Accuracy Training Accuracy  \\\n",
      "4       convnext_gelu_groupnorm                   80.82%             0.00%   \n",
      "3  convnext_hardswish_layernorm                   77.80%             0.00%   \n",
      "1       convnext_silu_layernorm                   77.44%             0.00%   \n",
      "2       convnext_mish_layernorm                   77.35%             0.00%   \n",
      "0       convnext_gelu_layernorm                   77.32%             0.00%   \n",
      "\n",
      "  Validation Loss  Best Epoch  \n",
      "4          0.7053          30  \n",
      "3          0.7845          30  \n",
      "1          0.7869          28  \n",
      "2          0.7845          29  \n",
      "0          0.7888          30  \n"
     ]
    },
    {
     "data": {
      "image/png": "[encoded data removed]",
      "text/plain": [
       "<Figure size 1500x900 with 12 Axes>"
      ]
     },
     "metadata": {},
     "output_type": "display_data"
    }
   ],
   "source": [
    "# [ADDED] Function to run the full experiment\n",
    "def run_full_experiment():\n",
    "    \"\"\"Run the full experiment of training and comparing all model variants\"\"\"\n",
    "    # Create model variants\n",
    "    \n",
    "    models_to_test = create_model_variants(num_classes=10)\n",
    "    \n",
    "    # Train all variants\n",
    "    all_results = train_all_variants(models_to_test, train_loader, val_loader, device, epochs=30)\n",
    "    \n",
    "    # Analyze results\n",
    "    plot_comparison(all_results)\n",
    "    summary_table = create_summary_table(all_results)\n",
    "    print(summary_table)\n",
    "    \n",
    "    # Select best models for feature map comparison\n",
    "    best_models = {}\n",
    "    for model_name in summary_table['Model'].iloc[:3]:  # Top 3 models\n",
    "        model = models_to_test[model_name].to(device)\n",
    "        model.load_state_dict(torch.load(f'./checkpoints/{model_name}/best.pth'))\n",
    "        best_models[model_name] = model\n",
    "    \n",
    "    # Compare feature maps\n",
    "    sample_image, _ = val_dataset[0]\n",
    "    visualize_feature_maps_comparison(best_models, sample_image, device)\n",
    "    \n",
    "    return all_results, summary_table\n",
    "\n",
    "# Uncomment to run the full experiment\n",
    "# Note: This will take a long time to complete\n",
    "all_results, summary_table = run_full_experiment()"
   ]
  },
  {
   "cell_type": "markdown",
   "id": "adfc0815",
   "metadata": {},
   "source": [
    "The notebook now includes comprehensive improvements to the ConvNeXt architecture, focusing on activation functions and normalization strategies. The implementation allows for systematic comparison of different variants to determine which combinations yield the best performance on image classification tasks."
   ]
  }
 ],
 "metadata": {
  "jupytext": {
   "cell_metadata_filter": "-all",
   "main_language": "python",
   "notebook_metadata_filter": "-all"
  },
  "kernelspec": {
   "display_name": "Python (GPU)",
   "language": "python",
   "name": "jupyter"
  },
  "language_info": {
   "codemirror_mode": {
    "name": "ipython",
    "version": 3
   },
   "file_extension": ".py",
   "mimetype": "text/x-python",
   "name": "python",
   "nbconvert_exporter": "python",
   "pygments_lexer": "ipython3",
   "version": "3.11.11"
  }
 },
 "nbformat": 4,
 "nbformat_minor": 5
}
